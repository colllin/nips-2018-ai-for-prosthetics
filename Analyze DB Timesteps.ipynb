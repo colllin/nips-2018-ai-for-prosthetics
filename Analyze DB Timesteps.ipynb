{
 "cells": [
  {
   "cell_type": "code",
   "execution_count": 1,
   "metadata": {},
   "outputs": [],
   "source": [
    "# import sys\n",
    "# import os\n",
    "# import math\n",
    "# import json\n",
    "# import uuid\n",
    "# import datetime\n",
    "# import subprocess\n",
    "# from pathlib import Path\n",
    "# import numpy as np\n",
    "# import pandas as pd\n",
    "from tqdm import tqdm\n",
    "# from models.td3 import TD3\n",
    "# # from osim.env import ProstheticsEnv\n",
    "# from environment.prosthetics_env_with_history import ProstheticsEnvWithHistory\n",
    "# from environment.observations import prepare_model_observation, env_obs_history_to_model_obs\n",
    "# from environment.actions import prepare_env_action, reset_frameskip\n",
    "from environment.rewards import env_obs_to_custom_reward\n",
    "from distributed.database import sample_timesteps, get_db_threadsafe\n",
    "# from distributed.db_history_sampler import DatabaseHistorySampler\n",
    "# from distributed.s3_checkpoints import load_s3_model_checkpoint, save_s3_model_checkpoint\n",
    "# import torch\n",
    "# import torch.utils.data\n",
    "\n",
    "\n"
   ]
  },
  {
   "cell_type": "code",
   "execution_count": 2,
   "metadata": {},
   "outputs": [],
   "source": [
    "db = get_db_threadsafe()"
   ]
  },
  {
   "cell_type": "code",
   "execution_count": 3,
   "metadata": {},
   "outputs": [
    {
     "data": {
      "text/plain": [
       "(6377,\n",
       " ['0006494d-88bb-4e37-ac6c-4012a3a597d5',\n",
       "  '000da3a1-c927-4a95-80d7-4c0486a8813e',\n",
       "  '001460fd-1dd3-49f1-b1d6-e1624c2ed501',\n",
       "  '001ba46e-13f0-466f-8e1d-cb507b357ecd',\n",
       "  '0025c6d4-fb76-4142-b5d4-bbb0b11f0f31'])"
      ]
     },
     "execution_count": 3,
     "metadata": {},
     "output_type": "execute_result"
    }
   ],
   "source": [
    "episodes = db.timesteps.distinct('episode_uuid')\n",
    "len(episodes), episodes[:5]"
   ]
  },
  {
   "cell_type": "code",
   "execution_count": 4,
   "metadata": {},
   "outputs": [
    {
     "name": "stderr",
     "output_type": "stream",
     "text": [
      "100%|██████████| 6377/6377 [06:52<00:00, 15.44it/s]\n"
     ]
    }
   ],
   "source": [
    "for eid in tqdm(episodes):\n",
    "    steps = list(db.timesteps.find(filter={\n",
    "        'episode_uuid': eid\n",
    "    }))\n",
    "    episode_reward = 0\n",
    "    episode_custom_reward = 0\n",
    "    for step in steps:\n",
    "        episode_reward += step['reward']\n",
    "        custom_reward = env_obs_to_custom_reward(step['obs'])\n",
    "        sum_custom_reward = sum(custom_reward.values())\n",
    "        episode_custom_reward += sum_custom_reward\n",
    "        # print(step['_id'], step['reward'], episode_reward, sum_custom_reward, episode_custom_reward)\n",
    "        db.timesteps.update_one(\n",
    "            filter={\n",
    "                '_id': step['_id']\n",
    "            },\n",
    "            update={\n",
    "                '$set': {\n",
    "                    'custom_rewards': custom_reward,\n",
    "                    'custom_reward': sum_custom_reward,\n",
    "                    'cum_reward': episode_reward,\n",
    "                    'cum_custom_reward': episode_custom_reward\n",
    "                }\n",
    "            }\n",
    "        )\n",
    "# timesteps_without_custom_reward = db.timesteps.find(\n",
    "#     filter={\n",
    "#         '$or': [{\n",
    "#             'episode_uuid': d['episode_uuid'],\n",
    "#             'i_step': {\n",
    "#                 '$in': [d['i_step']-h for h in range(1, 1+n_obs_history)],\n",
    "#             },\n",
    "#         } for d in docs],\n",
    "#     }, \n",
    "#     projection={\n",
    "#         'episode_uuid': True, \n",
    "#         'i_step': True, \n",
    "#         'obs': True\n",
    "#     }\n",
    "# )"
   ]
  },
  {
   "cell_type": "code",
   "execution_count": null,
   "metadata": {},
   "outputs": [],
   "source": []
  }
 ],
 "metadata": {
  "kernelspec": {
   "display_name": "prosthetics",
   "language": "python",
   "name": "prosthetics"
  },
  "language_info": {
   "codemirror_mode": {
    "name": "ipython",
    "version": 3
   },
   "file_extension": ".py",
   "mimetype": "text/x-python",
   "name": "python",
   "nbconvert_exporter": "python",
   "pygments_lexer": "ipython3",
   "version": "3.6.5"
  }
 },
 "nbformat": 4,
 "nbformat_minor": 2
}
