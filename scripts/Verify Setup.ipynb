{
 "cells": [
  {
   "cell_type": "code",
   "execution_count": 3,
   "metadata": {},
   "outputs": [],
   "source": [
    "# import matplotlib.pyplot as plt\n",
    "# %matplotlib inline\n",
    "# from IPython import display"
   ]
  },
  {
   "cell_type": "code",
   "execution_count": 1,
   "metadata": {},
   "outputs": [
    {
     "data": {
      "text/plain": [
       "<Display cmd_param=['Xvfb', '-br', '-nolisten', 'tcp', '-screen', '0', '1400x900x24', ':1001'] cmd=['Xvfb', '-br', '-nolisten', 'tcp', '-screen', '0', '1400x900x24', ':1001'] oserror=None return_code=None stdout=\"None\" stderr=\"None\" timeout_happened=False>"
      ]
     },
     "execution_count": 1,
     "metadata": {},
     "output_type": "execute_result"
    }
   ],
   "source": [
    "from pyvirtualdisplay import Display\n",
    "display = Display(visible=0, size=(1400, 900))\n",
    "display.start()"
   ]
  },
  {
   "cell_type": "code",
   "execution_count": null,
   "metadata": {},
   "outputs": [],
   "source": [
    "from osim.env import ProstheticsEnv\n",
    "env = ProstheticsEnv(visualize=True, integrator_accuracy=1e-2)\n"
   ]
  },
  {
   "cell_type": "code",
   "execution_count": null,
   "metadata": {},
   "outputs": [],
   "source": [
    "#%%timeit -n1\n",
    "observation = env.reset()\n",
    "total_reward = 0.0\n",
    "for i in range(200):\n",
    "    # make a step given by the controller and record the state and the reward\n",
    "    observation, reward, done, info = env.step(list(env.action_space.sample()))\n",
    "    total_reward += reward\n",
    "    if done:\n",
    "        break\n",
    "\n",
    "# Your reward is\n",
    "print(f\"Total reward {total_reward}\")\n",
    "print(f\"Simulation duration {i/30} seconds\")"
   ]
  },
  {
   "cell_type": "code",
   "execution_count": null,
   "metadata": {},
   "outputs": [],
   "source": [
    "# 13.1s at 5e-5, reward -560\n",
    "# 9.5s at 5e-4, reward -560\n",
    "# 7s at 5e-3, reward -555\n",
    "# 6s at 5e-2, reward -540\n",
    "# 6s at 1e-1, reward -510, -530, -545\n",
    "# 3s at 5e-1, reward 72, -460, -420\n"
   ]
  }
 ],
 "metadata": {
  "kernelspec": {
   "display_name": "prosthetics",
   "language": "python",
   "name": "prosthetics"
  },
  "language_info": {
   "codemirror_mode": {
    "name": "ipython",
    "version": 3
   },
   "file_extension": ".py",
   "mimetype": "text/x-python",
   "name": "python",
   "nbconvert_exporter": "python",
   "pygments_lexer": "ipython3",
   "version": "3.6.5"
  }
 },
 "nbformat": 4,
 "nbformat_minor": 2
}
