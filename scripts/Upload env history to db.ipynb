{
 "cells": [
  {
   "cell_type": "code",
   "execution_count": 1,
   "metadata": {},
   "outputs": [
    {
     "name": "stdout",
     "output_type": "stream",
     "text": [
      "prosthetics_env_history_abort-if-head-gt-10cm-behind-pelvis.h5\r\n",
      "prosthetics_env_history.h5\r\n",
      "prosthetics_env_history_more.h5\r\n",
      "prosthetics_env_history_start.h5\r\n"
     ]
    }
   ],
   "source": [
    "!ls *.h5"
   ]
  },
  {
   "cell_type": "code",
   "execution_count": 2,
   "metadata": {},
   "outputs": [
    {
     "data": {
      "text/html": [
       "<div>\n",
       "<style scoped>\n",
       "    .dataframe tbody tr th:only-of-type {\n",
       "        vertical-align: middle;\n",
       "    }\n",
       "\n",
       "    .dataframe tbody tr th {\n",
       "        vertical-align: top;\n",
       "    }\n",
       "\n",
       "    .dataframe thead th {\n",
       "        text-align: right;\n",
       "    }\n",
       "</style>\n",
       "<table border=\"1\" class=\"dataframe\">\n",
       "  <thead>\n",
       "    <tr style=\"text-align: right;\">\n",
       "      <th></th>\n",
       "      <th>episode_uuid</th>\n",
       "      <th>i_step</th>\n",
       "      <th>action</th>\n",
       "      <th>obs</th>\n",
       "      <th>reward</th>\n",
       "      <th>done</th>\n",
       "      <th>info</th>\n",
       "    </tr>\n",
       "  </thead>\n",
       "  <tbody>\n",
       "    <tr>\n",
       "      <th>19542</th>\n",
       "      <td>f1caa297-1645-41a2-9672-3c2f6cf194a8</td>\n",
       "      <td>130</td>\n",
       "      <td>[1.0, -1.0, 1.0, -1.0, 1.0, -1.0, -1.0, 1.0, -...</td>\n",
       "      <td>{'joint_pos': {'ground_pelvis': [0.52160452190...</td>\n",
       "      <td>1.93311</td>\n",
       "      <td>False</td>\n",
       "      <td>{}</td>\n",
       "    </tr>\n",
       "    <tr>\n",
       "      <th>19543</th>\n",
       "      <td>f1caa297-1645-41a2-9672-3c2f6cf194a8</td>\n",
       "      <td>131</td>\n",
       "      <td>[1.0, -1.0, 1.0, -1.0, 1.0, -1.0, -1.0, 1.0, -...</td>\n",
       "      <td>{'joint_pos': {'ground_pelvis': [0.53395630412...</td>\n",
       "      <td>1.95262</td>\n",
       "      <td>False</td>\n",
       "      <td>{}</td>\n",
       "    </tr>\n",
       "    <tr>\n",
       "      <th>19544</th>\n",
       "      <td>f1caa297-1645-41a2-9672-3c2f6cf194a8</td>\n",
       "      <td>132</td>\n",
       "      <td>[1.0, -1.0, 1.0, -1.0, 1.0, -1.0, -1.0, 1.0, -...</td>\n",
       "      <td>{'joint_pos': {'ground_pelvis': [0.54786081058...</td>\n",
       "      <td>1.97137</td>\n",
       "      <td>False</td>\n",
       "      <td>{}</td>\n",
       "    </tr>\n",
       "    <tr>\n",
       "      <th>19545</th>\n",
       "      <td>f1caa297-1645-41a2-9672-3c2f6cf194a8</td>\n",
       "      <td>133</td>\n",
       "      <td>[1.0, -1.0, 1.0, -1.0, 1.0, -1.0, -1.0, 1.0, -...</td>\n",
       "      <td>{'joint_pos': {'ground_pelvis': [0.56353729920...</td>\n",
       "      <td>1.98458</td>\n",
       "      <td>False</td>\n",
       "      <td>{}</td>\n",
       "    </tr>\n",
       "    <tr>\n",
       "      <th>19546</th>\n",
       "      <td>f1caa297-1645-41a2-9672-3c2f6cf194a8</td>\n",
       "      <td>134</td>\n",
       "      <td>[1.0, -1.0, 1.0, -1.0, 1.0, -1.0, -1.0, 1.0, -...</td>\n",
       "      <td>{'joint_pos': {'ground_pelvis': [0.58115583428...</td>\n",
       "      <td>1.98387</td>\n",
       "      <td>True</td>\n",
       "      <td>{}</td>\n",
       "    </tr>\n",
       "  </tbody>\n",
       "</table>\n",
       "</div>"
      ],
      "text/plain": [
       "                               episode_uuid i_step  \\\n",
       "19542  f1caa297-1645-41a2-9672-3c2f6cf194a8    130   \n",
       "19543  f1caa297-1645-41a2-9672-3c2f6cf194a8    131   \n",
       "19544  f1caa297-1645-41a2-9672-3c2f6cf194a8    132   \n",
       "19545  f1caa297-1645-41a2-9672-3c2f6cf194a8    133   \n",
       "19546  f1caa297-1645-41a2-9672-3c2f6cf194a8    134   \n",
       "\n",
       "                                                  action  \\\n",
       "19542  [1.0, -1.0, 1.0, -1.0, 1.0, -1.0, -1.0, 1.0, -...   \n",
       "19543  [1.0, -1.0, 1.0, -1.0, 1.0, -1.0, -1.0, 1.0, -...   \n",
       "19544  [1.0, -1.0, 1.0, -1.0, 1.0, -1.0, -1.0, 1.0, -...   \n",
       "19545  [1.0, -1.0, 1.0, -1.0, 1.0, -1.0, -1.0, 1.0, -...   \n",
       "19546  [1.0, -1.0, 1.0, -1.0, 1.0, -1.0, -1.0, 1.0, -...   \n",
       "\n",
       "                                                     obs   reward   done info  \n",
       "19542  {'joint_pos': {'ground_pelvis': [0.52160452190...  1.93311  False   {}  \n",
       "19543  {'joint_pos': {'ground_pelvis': [0.53395630412...  1.95262  False   {}  \n",
       "19544  {'joint_pos': {'ground_pelvis': [0.54786081058...  1.97137  False   {}  \n",
       "19545  {'joint_pos': {'ground_pelvis': [0.56353729920...  1.98458  False   {}  \n",
       "19546  {'joint_pos': {'ground_pelvis': [0.58115583428...  1.98387   True   {}  "
      ]
     },
     "execution_count": 2,
     "metadata": {},
     "output_type": "execute_result"
    }
   ],
   "source": [
    "import pandas as pd\n",
    "df = pd.read_hdf('prosthetics_env_history.h5')\n",
    "df.tail()"
   ]
  },
  {
   "cell_type": "code",
   "execution_count": 3,
   "metadata": {},
   "outputs": [],
   "source": [
    "from database import persist_timesteps"
   ]
  },
  {
   "cell_type": "code",
   "execution_count": 4,
   "metadata": {},
   "outputs": [],
   "source": [
    "df['episode_uuid'] = [str(uid) for uid in df['episode_uuid']]\n",
    "persist_timesteps(df)"
   ]
  },
  {
   "cell_type": "code",
   "execution_count": null,
   "metadata": {},
   "outputs": [],
   "source": []
  }
 ],
 "metadata": {
  "kernelspec": {
   "display_name": "prosthetics",
   "language": "python",
   "name": "prosthetics"
  },
  "language_info": {
   "codemirror_mode": {
    "name": "ipython",
    "version": 3
   },
   "file_extension": ".py",
   "mimetype": "text/x-python",
   "name": "python",
   "nbconvert_exporter": "python",
   "pygments_lexer": "ipython3",
   "version": "3.6.5"
  }
 },
 "nbformat": 4,
 "nbformat_minor": 2
}
