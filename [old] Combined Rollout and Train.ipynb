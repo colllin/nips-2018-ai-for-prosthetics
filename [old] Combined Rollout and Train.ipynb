{
 "cells": [
  {
   "cell_type": "code",
   "execution_count": 1,
   "metadata": {},
   "outputs": [],
   "source": [
    "import sys\n",
    "import os\n",
    "import math\n",
    "from pathlib import Path\n",
    "import numpy as np\n",
    "import pandas as pd\n",
    "from tqdm import tqdm\n",
    "# from osim.env import ProstheticsEnv\n",
    "from prosthetics_env_with_history import ProstheticsEnvWithHistory\n",
    "from td3 import TD3\n",
    "# from replay_buffer import ReplayBuffer\n",
    "from env_history_sampler import EnvHistorySampler\n"
   ]
  },
  {
   "cell_type": "code",
   "execution_count": 2,
   "metadata": {},
   "outputs": [],
   "source": [
    "CONFIG = {\n",
    "    \"env\": {\n",
    "        \"integrator_accuracy\": 2e-3,\n",
    "    },\n",
    "    \"model\": {\n",
    "        \"architecture\": \"TD3\",\n",
    "    },\n",
    "    \"training\": {\n",
    "        \"episode_save_load_file\": \"prosthetics_env_history.h5\",\n",
    "        \"checkpoint_save_load_prefix\": \"checkpoint_TD3\",\n",
    "        \"start_timesteps\": 5e3, # How many time steps purely random policy is run for\n",
    "        \"eval_freq\": 5e3, # How often (time steps) we evaluate\n",
    "        \"max_timesteps\": 1e8, # Max time steps to train for\n",
    "        \"max_episode_steps\": 300, # Max number of steps to run for a single episode\n",
    "        \"expl_noise\": 0.5, # Std of Gaussian exploration noise  # was 0.1\n",
    "        \"batch_size\": 100, # Batch size for both actor and critic\n",
    "        \"discount\": 0.99, # Discount factor\n",
    "        \"tau\": 0.005, # Target network update rate\n",
    "        \"policy_noise\": 0.2, # Noise added to target policy during critic update\n",
    "        \"noise_clip\": 0.5, # Range to clip target policy noise\n",
    "        \"policy_freq\": 2, # Frequency of delayed policy updates\n",
    "        \"frameskip\": 5, # Max Frameskip steps\n",
    "    }\n",
    "}\n"
   ]
  },
  {
   "cell_type": "code",
   "execution_count": 3,
   "metadata": {},
   "outputs": [],
   "source": [
    "OUTPUT_DIR = Path('.')\n",
    "LOGS_DIR = OUTPUT_DIR/'logs'\n",
    "CHECKPOINTS_DIR = OUTPUT_DIR/'checkpoints'\n",
    "os.makedirs(OUTPUT_DIR, exist_ok=True)\n",
    "os.makedirs(LOGS_DIR, exist_ok=True)\n",
    "os.makedirs(CHECKPOINTS_DIR, exist_ok=True)\n"
   ]
  },
  {
   "cell_type": "markdown",
   "metadata": {},
   "source": [
    "### Observation Hacking\n",
    "\n",
    "- Rewrite all joint_pos, body_pos to be relative to mass_center_pos\n",
    "- Subtract mass_center_vel and mass_center_acc from joint_vel, body_vel, joint_acc, body_acc?\n",
    "- Either compute jounce/snap, or pass multiple timesteps, or just pass acceleration from past 3 timesteps?\n",
    "\n",
    "Initial Env Observation:\n",
    "```\n",
    "{\n",
    "    'joint_pos': {\n",
    "        'ground_pelvis': [0.0, 0.0, 0.0, 0.0, 0.94, 0.0],\n",
    "        'hip_r': [0.0, 0.0, 0.0],\n",
    "        'knee_r': [0.0],\n",
    "        'ankle_r': [0.0],\n",
    "        'hip_l': [0.0, 0.0, 0.0],\n",
    "        'knee_l': [0.0],\n",
    "        'ankle_l': [0.0],\n",
    "        'subtalar_l': [],\n",
    "        'mtp_l': [],\n",
    "        'back': [-0.0872665],\n",
    "        'back_0': []\n",
    "    },\n",
    "    'joint_vel': {\n",
    "        'ground_pelvis': [0.0, 0.0, 0.0, 0.0, 0.0, 0.0],\n",
    "        'hip_r': [0.0, 0.0, 0.0],\n",
    "        'knee_r': [0.0],\n",
    "        'ankle_r': [0.0],\n",
    "        'hip_l': [0.0, 0.0, 0.0],\n",
    "        'knee_l': [0.0],\n",
    "        'ankle_l': [0.0],\n",
    "        'subtalar_l': [],\n",
    "        'mtp_l': [],\n",
    "        'back': [0.0],\n",
    "        'back_0': []\n",
    "    },\n",
    "    'joint_acc': {\n",
    "        'ground_pelvis': [34.07237489546962, 3.219284560937942, 0.021285761200362296, 13.997154494145377, 0.8655672359505977, -0.6156967622871027],\n",
    "        'hip_r': [-194.74323476194263, -4.441803696780512, 1.5931700403370996e-14],\n",
    "        'knee_r': [305.46152469620915],\n",
    "        'ankle_r': [9636.363025843913],\n",
    "        'hip_l': [-208.86020665024324, 3.5702556374966354, -4.2521541843143495e-14],\n",
    "        'knee_l': [399.3192427973721],\n",
    "        'ankle_l': [809.4478175113452],\n",
    "        'subtalar_l': [],\n",
    "        'mtp_l': [],\n",
    "        'back': [-2.3092638912203256e-14],\n",
    "        'back_0': []\n",
    "    },\n",
    "    'body_pos': {\n",
    "        'pelvis': [0.0, 0.94, 0.0],\n",
    "        'femur_r': [-0.0707, 0.8738999999999999, 0.0835],\n",
    "        'pros_tibia_r': [-0.07519985651753601, 0.47807930355164957, 0.0835],\n",
    "        'pros_foot_r': [-0.07519985651753601, 0.04807930355164958, 0.0835],\n",
    "        'femur_l': [-0.0707, 0.8738999999999999, -0.0835],\n",
    "        'tibia_l': [-0.07519985651753601, 0.47807930355164957, -0.0835],\n",
    "        'talus_l': [-0.07519985651753601, 0.04807930355164958, -0.0835],\n",
    "        'calcn_l': [-0.123969856517536, 0.006129303551649576, -0.09142],\n",
    "        'toes_l': [0.05483014348246398, 0.004129303551649576, -0.0925],\n",
    "        'torso': [-0.1007, 1.0214999999999999, 0.0],\n",
    "        'head': [-0.052764320996907754, 1.5694070821576522, 0.0]\n",
    "    },\n",
    "    'body_vel': {\n",
    "        'pelvis': [0.0, 0.0, 0.0],\n",
    "        'femur_r': [0.0, 0.0, 0.0],\n",
    "        'pros_tibia_r': [0.0, 0.0, 0.0],\n",
    "        'pros_foot_r': [0.0, 0.0, 0.0],\n",
    "        'femur_l': [0.0, 0.0, 0.0],\n",
    "        'tibia_l': [0.0, 0.0, 0.0],\n",
    "        'talus_l': [0.0, 0.0, 0.0],\n",
    "        'calcn_l': [0.0, 0.0, 0.0],\n",
    "        'toes_l': [0.0, 0.0, 0.0],\n",
    "        'torso': [0.0, 0.0, 0.0],\n",
    "        'head': [0.0, 0.0, 0.0]\n",
    "    },\n",
    "    'body_acc': {\n",
    "        'pelvis': [13.997154494145377, 0.8655672359505977, -0.6156967622871027],\n",
    "        'femur_r': [16.25111583579615, -1.812159929997423, -0.826986568448235],\n",
    "        'pros_tibia_r': [-49.070641675940735, 0.12065763836075294, -0.34299240980632545],\n",
    "        'pros_foot_r': [13.18934420084581, 0.12065763836075294, 0.18269081860597952],\n",
    "        'femur_l': [16.24756111367569, -1.2745394083207864, -0.826986568448235],\n",
    "        'tibia_l': [-55.19198970892064, 1.093538716356541, -0.6879691696202773],\n",
    "        'talus_l': [41.356517039396714, 1.093538716356541, -0.537051606700039],\n",
    "        'calcn_l': [84.73177709400595, -49.336407951145645, -0.5212902634646581],\n",
    "        'toes_l': [86.79971256249173, 135.5386990655368, -0.5243942154141731],\n",
    "        'torso': [11.220255940164602, -2.565520916023193, -0.35118159441778396],\n",
    "        'head': [-7.448239570993795, -0.9322384901609437, 1.4116668685846663]\n",
    "    },\n",
    "    'body_pos_rot': {\n",
    "        'pelvis': [-0.0, 0.0, -0.0],\n",
    "        'femur_r': [-0.0, 0.0, -0.0],\n",
    "        'pros_tibia_r': [-0.0, 0.0, -0.0],\n",
    "        'pros_foot_r': [-0.0, 0.0, -0.0],\n",
    "        'femur_l': [-0.0, 0.0, -0.0],\n",
    "        'tibia_l': [-0.0, 0.0, -0.0],\n",
    "        'talus_l': [-0.0, 0.0, -0.0],\n",
    "        'calcn_l': [-0.0, 0.0, -0.0],\n",
    "        'toes_l': [-0.0, 0.0, -0.0],\n",
    "        'torso': [-0.0, 0.0, -0.0872665],\n",
    "        'head': [-0.0, 0.0, -0.0872665]\n",
    "    },\n",
    "    'body_vel_rot': {\n",
    "        'pelvis': [0.0, 0.0, 0.0],\n",
    "        'femur_r': [0.0, 0.0, 0.0],\n",
    "        'pros_tibia_r': [0.0, 0.0, 0.0],\n",
    "        'pros_foot_r': [0.0, 0.0, 0.0],\n",
    "        'femur_l': [0.0, 0.0, 0.0],\n",
    "        'tibia_l': [0.0, 0.0, 0.0],\n",
    "        'talus_l': [0.0, 0.0, 0.0],\n",
    "        'calcn_l': [0.0, 0.0, 0.0],\n",
    "        'toes_l': [0.0, 0.0, 0.0],\n",
    "        'torso': [0.0, 0.0, 0.0],\n",
    "        'head': [0.0, 0.0, 0.0]\n",
    "    },\n",
    "    'body_acc_rot': {\n",
    "        'pelvis': [3.219284560937942, 0.021285761200362296, 34.07237489546962],\n",
    "        'femur_r': [-1.2225191358425698, 0.021285761200378228, -160.670859866473],\n",
    "        'pros_tibia_r': [-1.2225191358425698, 0.021285761200378228, 144.79066482973616],\n",
    "        'pros_foot_r': [-1.2225191358425698, 0.021285761200378228, 9781.15369067365],\n",
    "        'femur_l': [-0.35097107655869353, 0.021285761200404818, -174.7878317547736],\n",
    "        'tibia_l': [-0.35097107655869353, 0.021285761200404818, 224.5314110425985],\n",
    "        'talus_l': [-0.35097107655869353, 0.021285761200404818, 1033.9792285539438],\n",
    "        'calcn_l': [-0.35097107655869353, 0.021285761200404818, 1033.9792285539438],\n",
    "        'toes_l': [-0.35097107655869353, 0.021285761200404818, 1033.9792285539438],\n",
    "        'torso': [3.219284560937942, 0.021285761200362296, 34.0723748954696],\n",
    "        'head': [3.219284560937942, 0.021285761200362296, 34.0723748954696]\n",
    "    },\n",
    "    'forces': {\n",
    "        'abd_r': [219.6613927253564],\n",
    "        'add_r': [144.87433100305103],\n",
    "        'hamstrings_r': [194.30030504346755],\n",
    "        'bifemsh_r': [42.728811234363775],\n",
    "        'glut_max_r': [171.7873509605573],\n",
    "        'iliopsoas_r': [158.01207984383657],\n",
    "        'rect_fem_r': [99.0329705435046],\n",
    "        'vasti_r': [436.79388413623326],\n",
    "        'abd_l': [219.6613927253564],\n",
    "        'add_l': [144.87433100305103],\n",
    "        'hamstrings_l': [194.30030504346755],\n",
    "        'bifemsh_l': [42.728811234363775],\n",
    "        'glut_max_l': [171.7873509605573],\n",
    "        'iliopsoas_l': [158.01207984383657],\n",
    "        'rect_fem_l': [99.0329705435046],\n",
    "        'vasti_l': [436.79388413623326],\n",
    "        'gastroc_l': [273.0178325689043],\n",
    "        'soleus_l': [370.0059951709156],\n",
    "        'tib_ant_l': [104.05059952034294],\n",
    "        'ankleSpring': [-0.0],\n",
    "        'pros_foot_r_0': [-1.3573320551122304e-12, -388.7553514927188, 0.0, 32.46107184964201, -1.1333722660187127e-13, 3.726164264482634, 1.3573320551122304e-12, 388.7553514927188, 0.0, 0.0, 0.0, 25.50818238819416, 1.3573320551122304e-12, 388.7553514927188, 0.0, 0.0, 0.0, 25.50818238819416],\n",
    "        'foot_l': [-1.7615592933859115e-12, -504.53063397142085, 0.0, -46.45915575255036, 1.622112753284362e-13, -4.943148065393853, 6.786660275561278e-13, 194.37767574636297, 0.0, 0.0, 0.0, 5.831330272390875, 1.0828932658297836e-12, 310.1529582250579, 0.0, 0.0, 0.0, 6.203059164501164, 1.0828932658297836e-12, 310.1529582250579, 0.0, 0.0, 0.0, 6.203059164501164],\n",
    "        'HipLimit_r': [0.0, 0.0],\n",
    "        'HipLimit_l': [0.0, 0.0],\n",
    "        'KneeLimit_r': [-0.0, 0.0],\n",
    "        'KneeLimit_l': [-0.0, 0.0],\n",
    "        'AnkleLimit_r': [0.0, 0.0],\n",
    "        'AnkleLimit_l': [0.0, 0.0],\n",
    "        'HipAddLimit_r': [0.0, 0.0],\n",
    "        'HipAddLimit_l': [0.0, 0.0]\n",
    "    },\n",
    "    'muscles': {\n",
    "        'abd_r': {\n",
    "            'activation': 0.05,\n",
    "            'fiber_length': 0.07752306863700548,\n",
    "            'fiber_velocity': 1.1700156898117815e-13,\n",
    "            'fiber_force': 219.6613927253564\n",
    "        },\n",
    "        'add_r': {\n",
    "            'activation': 0.05,\n",
    "            'fiber_length': 0.05526137592854144,\n",
    "            'fiber_velocity': 5.531257930905764e-11,\n",
    "            'fiber_force': 146.25768888087705\n",
    "        },\n",
    "        'hamstrings_r': {\n",
    "            'activation': 0.05,\n",
    "            'fiber_length': 0.06355896214015513,\n",
    "            'fiber_velocity': 2.1056261406660054e-14,\n",
    "            'fiber_force': 202.45627069225887\n",
    "        },\n",
    "        'bifemsh_r': {\n",
    "            'activation': 0.05,\n",
    "            'fiber_length': 0.13434264681417835,\n",
    "            'fiber_velocity': 9.542198984660805e-17,\n",
    "            'fiber_force': 45.09919197278584\n",
    "        },\n",
    "        'glut_max_r': {\n",
    "            'activation': 0.05,\n",
    "            'fiber_length': 0.16084824667171801,\n",
    "            'fiber_velocity': 1.0181982508865008e-12,\n",
    "            'fiber_force': 171.7873509605573\n",
    "        },\n",
    "        'iliopsoas_r': {\n",
    "            'activation': 0.05,\n",
    "            'fiber_length': 0.13005768603600326,\n",
    "            'fiber_velocity': 3.347183497651294e-11,\n",
    "            'fiber_force': 159.26525950285387\n",
    "        },\n",
    "        'rect_fem_r': {\n",
    "            'activation': 0.05,\n",
    "            'fiber_length': 0.06027044615978444,\n",
    "            'fiber_velocity': 2.2362024955832438e-15,\n",
    "            'fiber_force': 99.63652479982161\n",
    "        },\n",
    "        'vasti_r': {\n",
    "            'activation': 0.05,\n",
    "            'fiber_length': 0.07890756873654925,\n",
    "            'fiber_velocity': 6.168233828156989e-15,\n",
    "            'fiber_force': 437.7385693769557\n",
    "        },\n",
    "        'abd_l': {\n",
    "            'activation': 0.05,\n",
    "            'fiber_length': 0.07752306863700548,\n",
    "            'fiber_velocity': 1.1700156898117815e-13,\n",
    "            'fiber_force': 219.6613927253564\n",
    "        },\n",
    "        'add_l': {\n",
    "            'activation': 0.05,\n",
    "            'fiber_length': 0.05526137592854144,\n",
    "            'fiber_velocity': 5.531257930905764e-11,\n",
    "            'fiber_force': 146.25768888087705\n",
    "        },\n",
    "        'hamstrings_l': {\n",
    "            'activation': 0.05,\n",
    "            'fiber_length': 0.06355896214015513,\n",
    "            'fiber_velocity': 2.1056261406660054e-14,\n",
    "            'fiber_force': 202.45627069225887\n",
    "        },\n",
    "        'bifemsh_l': {\n",
    "            'activation': 0.05,\n",
    "            'fiber_length': 0.13434264681417835,\n",
    "            'fiber_velocity': 9.542198984660805e-17,\n",
    "            'fiber_force': 45.09919197278584\n",
    "        },\n",
    "        'glut_max_l': {\n",
    "            'activation': 0.05,\n",
    "            'fiber_length': 0.16084824667171801,\n",
    "            'fiber_velocity': 1.0181982508865008e-12,\n",
    "            'fiber_force': 171.7873509605573\n",
    "        },\n",
    "        'iliopsoas_l': {\n",
    "            'activation': 0.05,\n",
    "            'fiber_length': 0.13005768603600326,\n",
    "            'fiber_velocity': 3.347183497651294e-11,\n",
    "            'fiber_force': 159.26525950285387\n",
    "        },\n",
    "        'rect_fem_l': {\n",
    "            'activation': 0.05,\n",
    "            'fiber_length': 0.06027044615978444,\n",
    "            'fiber_velocity': 2.2362024955832438e-15,\n",
    "            'fiber_force': 99.63652479982161\n",
    "        },\n",
    "        'vasti_l': {\n",
    "            'activation': 0.05,\n",
    "            'fiber_length': 0.07890756873654925,\n",
    "            'fiber_velocity': 6.168233828156989e-15,\n",
    "            'fiber_force': 437.7385693769557\n",
    "        },\n",
    "        'gastroc_l': {\n",
    "            'activation': 0.05,\n",
    "            'fiber_length': 0.05720257668702345,\n",
    "            'fiber_velocity': 5.718949639274886e-14,\n",
    "            'fiber_force': 282.79456495087237\n",
    "        },\n",
    "        'soleus_l': {\n",
    "            'activation': 0.05,\n",
    "            'fiber_length': 0.04494814124106819,\n",
    "            'fiber_velocity': 3.4120643802478774e-10,\n",
    "            'fiber_force': 406.4161372187392\n",
    "        },\n",
    "        'tib_ant_l': {\n",
    "            'activation': 0.05,\n",
    "            'fiber_length': 0.06288000983990409,\n",
    "            'fiber_velocity': 8.525642140971546e-14,\n",
    "            'fiber_force': 104.5158690359632\n",
    "        }\n",
    "    },\n",
    "    'markers': {},\n",
    "    'misc': {\n",
    "        'mass_center_pos': [-0.08466565561225976, 0.9952730567231536, -0.003576087446004414],\n",
    "        'mass_center_vel': [0.0, 0.0, 0.0],\n",
    "        'mass_center_acc': [4.4008799039045146e-14, 2.570832209970726, -1.0237645330147003e-15]\n",
    "    }\n",
    "}\n",
    "```"
   ]
  },
  {
   "cell_type": "code",
   "execution_count": 4,
   "metadata": {},
   "outputs": [],
   "source": [
    "# Copied & modified from https://github.com/stanfordnmbl/osim-rl/blob/master/osim/env/osim.py#L452\n",
    "def single_step_env_obs_to_model_obs(env_obs, target_vel=[3,0,0], include_lower_order_values=True):\n",
    "    env_obs = env_obs.copy()\n",
    "    has_prosthetic = 'pros_foot_r' in env_obs['body_pos']\n",
    "\n",
    "    target_vel_x = target_vel[0]\n",
    "    target_vel_z = target_vel[2]\n",
    "    eps = 1e-8\n",
    "\n",
    "    frame = {\n",
    "        'pos': np.array(env_obs['misc']['mass_center_pos']),\n",
    "        'vel': np.array(env_obs['misc']['mass_center_vel']),\n",
    "        'acc': np.array(env_obs['misc']['mass_center_acc']),\n",
    "    }\n",
    "\n",
    "    # Transform reference frame from 0,0,0 to center of mass:\n",
    "    for k, pos in env_obs['body_pos'].items():\n",
    "        env_obs['body_pos'][k] = list(np.array(pos) - frame['pos'])\n",
    "    for k, vel in env_obs['body_vel'].items():\n",
    "        env_obs['body_vel'][k] = list(np.array(vel) - frame['vel'])\n",
    "    for k, acc in env_obs['body_acc'].items():\n",
    "        env_obs['body_acc'][k] = list(np.array(acc) - frame['acc'])\n",
    "\n",
    "    # Normalize body vel/acc based on center of mass vel/acc:\n",
    "#     for k, vel in env_obs['body_vel'].items():\n",
    "#         env_obs['body_vel'][k] = list(np.array(vel) / (frame['vel'] + eps))\n",
    "#     for k, acc in env_obs['body_acc'].items():\n",
    "#         env_obs['body_acc'][k] = list(np.array(acc) / (frame['acc'] + eps))\n",
    "\n",
    "    # Collect observation vector\n",
    "    lower_order = []\n",
    "    highest_order = []    \n",
    "    for body_part in [\"head\",\"torso\",\"pelvis\",\"femur_l\",\"femur_r\",\"tibia_l\",\"tibia_r\",\"pros_tibia_r\",\"talus_l\",\"talus_r\",\"toes_l\",\"toes_r\",\"pros_foot_r\",\"calcn_l\",\"calcn_r\"]:\n",
    "        if has_prosthetic and body_part in [\"toes_r\",\"tibia_r\",\"talus_r\",\"calcn_r\"]:\n",
    "            lower_order += [0] * 12\n",
    "            highest_order += [0] * 6\n",
    "            continue\n",
    "        if not has_prosthetic and body_part in [\"pros_foot_r\",\"pros_tibia_r\"]:\n",
    "            lower_order += [0] * 12\n",
    "            highest_order += [0] * 6\n",
    "            continue\n",
    "        lower_order += env_obs[\"body_pos\"][body_part][0:2]\n",
    "        lower_order += env_obs[\"body_vel\"][body_part][0:2]\n",
    "        highest_order += env_obs[\"body_acc\"][body_part][0:2]\n",
    "        lower_order += env_obs[\"body_pos_rot\"][body_part][0:2]\n",
    "        lower_order += env_obs[\"body_vel_rot\"][body_part][0:2]\n",
    "        highest_order += env_obs[\"body_acc_rot\"][body_part][0:2]\n",
    "\n",
    "    for joint in [\"ground_pelvis\",\"ankle_l\",\"ankle_r\",\"back\",\"hip_l\",\"hip_r\",\"knee_l\",\"knee_r\"]:\n",
    "        lower_order += env_obs[\"joint_pos\"][joint]\n",
    "        lower_order += env_obs[\"joint_vel\"][joint]\n",
    "        highest_order += env_obs[\"joint_acc\"][joint]\n",
    "\n",
    "    for muscle in sorted(env_obs[\"muscles\"].keys()):\n",
    "        highest_order += [env_obs[\"muscles\"][muscle][\"activation\"]]\n",
    "        highest_order += [env_obs[\"muscles\"][muscle][\"fiber_length\"]]\n",
    "        highest_order += [env_obs[\"muscles\"][muscle][\"fiber_velocity\"]]\n",
    "        highest_order += [env_obs[\"muscles\"][muscle][\"fiber_force\"]]\n",
    "\n",
    "    for force in ['abd_l', 'add_l', 'hamstrings_l', 'bifemsh_l', 'glut_max_l', 'iliopsoas_l', 'rect_fem_l', 'vasti_l', 'gastroc_l', 'soleus_l', 'tib_ant_l', 'ankleSpring', 'pros_foot_r_0', 'foot_l', 'HipLimit_l', 'KneeLimit_l', 'AnkleLimit_l', 'HipAddLimit_l']:\n",
    "        highest_order += env_obs['forces'][force]\n",
    "        if not '_l' in force:\n",
    "            continue\n",
    "        force = force.replace('_l', '_r')\n",
    "        if has_prosthetic:\n",
    "            if force in ['gastroc_r', 'soleus_r', 'tib_ant_r']:\n",
    "                highest_order += [0]\n",
    "                continue\n",
    "            if force in ['foot_r']:\n",
    "                highest_order += [0] * 24\n",
    "                continue\n",
    "        else:\n",
    "            if force in ['pros_foot_r_0']:\n",
    "                highest_order += [0] * 18\n",
    "                continue\n",
    "        highest_order += env_obs['forces'][force.replace('_l', '_r')]\n",
    "\n",
    "    # Center of mass\n",
    "    lower_order += list(frame['pos'])\n",
    "    lower_order += list(frame['vel'])\n",
    "    highest_order += list(frame['acc'])\n",
    "\n",
    "    # Target velocity\n",
    "    highest_order += [frame['vel'][0] - target_vel_x, frame['vel'][2] - target_vel_z]\n",
    "\n",
    "    result = highest_order\n",
    "    if include_lower_order_values:\n",
    "        result = lower_order + result\n",
    "    return result\n",
    "\n",
    "def env_obs_history_to_model_obs(env_obs_history):\n",
    "    env_obs_history = env_obs_history[-4:]\n",
    "    # Duplicate first env_obs to ensure we have at least 4 steps of history.\n",
    "    env_obs_history = env_obs_history[:1] * (4 - len(env_obs_history)) + env_obs_history\n",
    "\n",
    "    model_obs_steps = [single_step_env_obs_to_model_obs(env_obs_history[-1])]\n",
    "    model_obs_steps += [single_step_env_obs_to_model_obs(env_obs, include_lower_order_values=False) for env_obs in env_obs_history[:-1]][::-1]\n",
    "    return np.concatenate(model_obs_steps)\n",
    "\n",
    "\n",
    "def prepare_model_observation(env):\n",
    "    df_history = env.history(current_episode_only=True)\n",
    "    model_obs = env_obs_history_to_model_obs(df_history['obs'].tolist())\n",
    "    return model_obs\n"
   ]
  },
  {
   "cell_type": "markdown",
   "metadata": {},
   "source": [
    "### Action hacking\n",
    "\n",
    "- binary activations?  Or several \"bins\"?\n",
    "- Frameskip?\n",
    "- Muscles must remain \"active\" for at least 10 frames once activated?  Randomized?\n",
    "- Limited number of muscles can fire at one time?\n",
    "- Handle prosthetic or not (strip activations of nonexistent muscles)\n"
   ]
  },
  {
   "cell_type": "code",
   "execution_count": 5,
   "metadata": {},
   "outputs": [],
   "source": [
    "action_state = {}\n",
    "\n",
    "def reset_frameskip(n=8):\n",
    "    action_state['n_frameskip'] = n\n",
    "    action_state['frames_to_skip'] = 0  # Start at 0 so we don't skip the first model action.\n",
    "    action_state['frameskip_action'] = None\n",
    "    \n",
    "def apply_frameskip(model_action):\n",
    "    if action_state.get('frames_to_skip', 0) == 0:\n",
    "        # Already skipped enough frames.  Reset counter & cache unskipped frame.\n",
    "        action_state['frames_to_skip'] = np.random.randint(action_state.get('n_frameskip', 0) + 1)\n",
    "        action_state['frameskip_action'] = model_action\n",
    "    else:\n",
    "        # Need to skip this frame.  Decrement the counter & apply the cached unskipped frame.\n",
    "        action_state['frames_to_skip'] -= 1\n",
    "        model_action = action_state.get('frameskip_action')\n",
    "    return model_action\n",
    "\n",
    "\n",
    "def prepare_env_action(model_action):\n",
    "    # model_action is a list of muscle activations\n",
    "\n",
    "    # Frame skipping\n",
    "    model_action = apply_frameskip(model_action)\n",
    "\n",
    "    model_action = np.array(model_action)\n",
    "\n",
    "    # Binarize the muscle activations\n",
    "    model_action = model_action.round()\n",
    "    \n",
    "    return model_action.tolist()\n",
    "    "
   ]
  },
  {
   "cell_type": "markdown",
   "metadata": {},
   "source": [
    "### Reward Hacking\n",
    "\n",
    "- Survival reward\n",
    "- Lean forward reward (to avod models which had torso too upright) (may need to be based on speed)\n",
    "- Reward for minimizing sideways velocity?\n",
    "- Reward for minimizing vertical velocity (COG)?"
   ]
  },
  {
   "cell_type": "code",
   "execution_count": 6,
   "metadata": {},
   "outputs": [],
   "source": [
    "def env_obs_to_custom_reward(obs):\n",
    "    if type(obs) != dict:\n",
    "        raise ValueError('obs must be a dict (project=False)')\n",
    "\n",
    "    target_vel_x = 3\n",
    "    target_vel_z = 0\n",
    "    eps = 1e-8\n",
    "\n",
    "    target_vel_theta = -np.arctan(target_vel_z/(target_vel_x+eps)) if target_vel_x >= 0 else np.pi - np.arctan(target_vel_z/(target_vel_x+eps))\n",
    "\n",
    "    # Parabolic reward/penalty for tracking a target value within some tolerance. \n",
    "    # Unit reward: 1 at target value, 0 at `tolerance` distance from target value, negative outside of `tolerance`.\n",
    "    # Multiply by desired scale factor / magnitude. Don't multiply by too large of a scale factor — it also amplifies the slope.\n",
    "    # Make the tolerance bigger than you think — it makes the slope more gradual / less severe.\n",
    "    # `tolerance`: reward is positive if within `tolerance` of target value, else negative.\n",
    "    val_diff_reward = lambda val, target, tolerance: (1 - ((val - target)/tolerance)**2)\n",
    "    def radians_diff_wrapped(a1, a2):\n",
    "        # Make both angles within (-2pi, 2pi)\n",
    "        a1, a2 = a1 % (2*np.pi), a2 % (2*np.pi)\n",
    "        # Make both angles positive -- within [0, 2pi)\n",
    "        a1 = a1 + 2*np.pi if a1 < 0 else a1\n",
    "        a2 = a2 + 2*np.pi if a2 < 0 else a2\n",
    "        # Make a1 the smaller angle\n",
    "        a1, a2 = min(a1, a2), max(a1, a2)\n",
    "        # Make sure a1 is within pi of a2 — two angles can't be greater than pi apart in relative (wrapped) sense.\n",
    "        a1 = a1 + 2*np.pi if a2 - a1 > np.pi else a1\n",
    "        return np.fabs(a2 - a1)\n",
    "    \n",
    "    avg_knee_joint_pos = (obs['joint_pos']['knee_l'][0] + obs['joint_pos']['knee_r'][0]) / 2\n",
    "    target_avg_knee_joint_pos = 60*np.pi/180\n",
    "    \n",
    "    rewards = {\n",
    "        'survival': 100,\n",
    "        'target_velocity_x': 3 * val_diff_reward(obs['misc']['mass_center_vel'][0], target_vel_x, 5), # 3 at target velocity, 0 at 3m/s off-target, then negative\n",
    "        'target_velocity_z': 3 * val_diff_reward(obs['misc']['mass_center_vel'][2], target_vel_z, 5), # 3 at target velocity, 0 at 3m/s off-target, then negative\n",
    "        'head_velocity_x': 2 * val_diff_reward(obs['body_vel']['head'][0], target_vel_x, 5), # 2 at target velocity, 0 at 3m/s off-target, then negative\n",
    "        'head_velocity_z': 2 * val_diff_reward(obs['body_vel']['head'][2], target_vel_z, 5), # 2 at target velocity, 0 at 3m/s off-target, then negative\n",
    "        'lean_forward_x': 5 * val_diff_reward(obs['body_pos']['head'][0] - obs['body_pos']['pelvis'][0], .1 * target_vel_x, .4), # head in front of pelvis from perspective of velocity vector\n",
    "        'lean_forward_z': 5 * val_diff_reward(obs['body_pos']['head'][2] - obs['body_pos']['pelvis'][2], .1 * target_vel_z, .4), # head in front of pelvis from perspective of velocity vector\n",
    "        'hips_squared': 5 * val_diff_reward(radians_diff_wrapped(target_vel_theta, obs['body_pos_rot']['pelvis'][1]), 0, np.pi),\n",
    "        'knee_bent_l': 5 * val_diff_reward(obs['joint_pos']['knee_l'][0], target_avg_knee_joint_pos, np.pi), # goal range of roughly [0,120] degrees\n",
    "        'knee_bent_r': 5 * val_diff_reward(obs['joint_pos']['knee_r'][0], target_avg_knee_joint_pos, np.pi), # goal range of roughly [0,120] degrees\n",
    "        'low_y_vel_pelvis': 5 * val_diff_reward(obs['body_vel']['pelvis'][1], 0, 1),\n",
    "        'low_y_vel_head': 5 * val_diff_reward(obs['body_vel']['head'][1], 0, 1),\n",
    "        'low_y_vel_toes_l': 5 * val_diff_reward(obs['body_vel']['toes_l'][1], 0, 1),\n",
    "        'low_y_vel_pros_foot_r': 5 * val_diff_reward(obs['body_vel']['pros_foot_r'][1], 0, 1),\n",
    "        'knees_opposite_joint_vel': 0 if avg_knee_joint_pos < (target_avg_knee_joint_pos - 15*np.pi/180) else 3 * val_diff_reward(obs['joint_vel']['knee_l'][0], -obs['joint_vel']['knee_r'][0], np.pi), # The left knee should be opening when the right knee is closing, and vice versa\n",
    "        'feet_behind_mass_x': 5 * val_diff_reward(obs['misc']['mass_center_pos'][0] - (obs['body_pos']['toes_l'][0] + obs['body_pos']['pros_foot_r'][0])/2, .1 * target_vel_x, .4),\n",
    "        'feet_behind_mass_z': 5 * val_diff_reward(obs['misc']['mass_center_pos'][2] - (obs['body_pos']['toes_l'][2] + obs['body_pos']['pros_foot_r'][2])/2, .1 * target_vel_z, .4),\n",
    "        'one_foot_off_ground': 0,\n",
    "        'femurs_parallel': 0,\n",
    "        'absolute_foot_velocity': 0, # should be 0 at ground, 2x body velocity above ground\n",
    "        'forefoot_strike': 0,\n",
    "    }    \n",
    "\n",
    "#     if should_abort_episode(obs, custom_rewards=rewards):\n",
    "#         rewards['abort_episode'] = -100\n",
    "\n",
    "    return rewards\n",
    "    "
   ]
  },
  {
   "cell_type": "markdown",
   "metadata": {},
   "source": [
    "### Episode Hacking (Custom \"done\" criteria)\n"
   ]
  },
  {
   "cell_type": "code",
   "execution_count": 7,
   "metadata": {},
   "outputs": [],
   "source": [
    "def should_abort_episode(env_obs, custom_rewards=None, verbose=False):\n",
    "#     print((np.array(env_obs['body_pos_rot']['torso'])*180/math.pi > 60).any())\n",
    "#     if env_obs['body_pos_rot']['torso'][2] < -0.2:\n",
    "#         return True\n",
    "    rewards = custom_rewards if custom_rewards != None else env_obs_to_custom_reward(env_obs)\n",
    "    # print(f'Custom reward: {sum(rewards.values())}')\n",
    "    if (env_obs['body_pos']['head'][0] - env_obs['body_pos']['pelvis'][0]) < -.2:\n",
    "        if verbose: print(f'Aborting episode due to head being > .2m behind the pelvis ({env_obs[\"body_pos\"][\"head\"][0] - env_obs[\"body_pos\"][\"pelvis\"][0]}).')\n",
    "        return True\n",
    "    if np.fabs(env_obs['body_pos']['head'][2]) > 0.5:\n",
    "        if verbose: print(f'Aborting episode due to head being > 0.5m away from centerline ({env_obs[\"body_pos\"][\"head\"][2]}).')\n",
    "        return True\n",
    "    if sum(rewards.values()) < -10:\n",
    "        if verbose:\n",
    "            print(f'Aborting episode due to custom reward < -10 ({sum(rewards.values())}):')\n",
    "            for k,v in rewards.items():\n",
    "                if v < 0:\n",
    "                    print(f'  reward `{k}` = {v}')\n",
    "        return True\n",
    "    return False\n",
    "    "
   ]
  },
  {
   "cell_type": "markdown",
   "metadata": {},
   "source": [
    "### Policy Evaluator"
   ]
  },
  {
   "cell_type": "code",
   "execution_count": 8,
   "metadata": {},
   "outputs": [],
   "source": [
    "# Runs policy for X episodes and returns average reward\n",
    "def evaluate_episode(policy):\n",
    "    obs = env.reset(**env_step_kwargs)\n",
    "    reset_frameskip(0)\n",
    "    done = False\n",
    "    total_reward = 0\n",
    "    while not done:\n",
    "        action = policy.select_action(prepare_model_observation(env))\n",
    "        action = prepare_env_action(action)\n",
    "        obs, reward, done, _ = env.step(action, **env_step_kwargs)\n",
    "        \n",
    "        # We don't use the custom rewards here because we want to evaluate our progress against the environment's reward.\n",
    "        # obs_dict = env.get_state_desc()\n",
    "        # custom_rewards = compute_rewards(obs_dict)\n",
    "        # total_rewared += reward + sum(custom_rewards.values())\n",
    "\n",
    "        total_reward += reward\n",
    "    return total_reward\n",
    "\n",
    "def evaluate_policy(policy, eval_episodes=10):\n",
    "    avg_reward = 0.\n",
    "    for _ in tqdm(range(eval_episodes), desc=\"Evaluating policy\", unit=\"episode\"):\n",
    "        avg_reward += evaluate_episode(policy)\n",
    "\n",
    "    avg_reward /= eval_episodes\n",
    "\n",
    "    print(\"---------------------------------------\")\n",
    "    print(\"Evaluation over %d episodes: %f\" % (eval_episodes, avg_reward))\n",
    "    print(\"---------------------------------------\")\n",
    "    return avg_reward\n",
    "\n"
   ]
  },
  {
   "cell_type": "code",
   "execution_count": 9,
   "metadata": {},
   "outputs": [
    {
     "name": "stdout",
     "output_type": "stream",
     "text": [
      "\u001b[33mWARN: gym.spaces.Box autodetected dtype as <class 'numpy.float32'>. Please provide explicit dtype.\u001b[0m\n",
      "\u001b[33mWARN: gym.spaces.Box autodetected dtype as <class 'numpy.float32'>. Please provide explicit dtype.\u001b[0m\n"
     ]
    }
   ],
   "source": [
    "env = ProstheticsEnvWithHistory(visualize=False, integrator_accuracy=CONFIG['env']['integrator_accuracy'])\n",
    "env_step_kwargs = {'project': False}"
   ]
  },
  {
   "cell_type": "code",
   "execution_count": 10,
   "metadata": {},
   "outputs": [
    {
     "data": {
      "text/plain": [
       "(1260, 19, 1)"
      ]
     },
     "execution_count": 10,
     "metadata": {},
     "output_type": "execute_result"
    }
   ],
   "source": [
    "# state_dim = env.observation_space.shape[0]\n",
    "env.reset(**env_step_kwargs)\n",
    "state_dim = prepare_model_observation(env).shape[0]\n",
    "action_dim = env.action_space.shape[0]\n",
    "max_action = int(env.action_space.high[0])\n",
    "state_dim, action_dim, max_action\n"
   ]
  },
  {
   "cell_type": "code",
   "execution_count": 11,
   "metadata": {},
   "outputs": [],
   "source": [
    "policy = TD3(state_dim, action_dim, max_action)"
   ]
  },
  {
   "cell_type": "code",
   "execution_count": 12,
   "metadata": {},
   "outputs": [
    {
     "name": "stdout",
     "output_type": "stream",
     "text": [
      "Loading checkpoint from checkpoints/checkpoint_TD3*\n",
      "Failed to load existing model checkpoint — this is normal if you're trying to train a new model (not from a checkpoint).\n"
     ]
    }
   ],
   "source": [
    "try:\n",
    "    print(f'Loading checkpoint from {CHECKPOINTS_DIR/CONFIG[\"training\"][\"checkpoint_save_load_prefix\"]}*')\n",
    "    policy.load(CHECKPOINTS_DIR, CONFIG[\"training\"][\"checkpoint_save_load_prefix\"])\n",
    "except:\n",
    "    print(\"Failed to load existing model checkpoint — this is normal if you're trying to train a new model (not from a checkpoint).\")\n",
    "    pass\n"
   ]
  },
  {
   "cell_type": "code",
   "execution_count": 13,
   "metadata": {},
   "outputs": [],
   "source": [
    "# replay_buffer = ReplayBuffer()"
   ]
  },
  {
   "cell_type": "code",
   "execution_count": 14,
   "metadata": {
    "scrolled": false
   },
   "outputs": [],
   "source": [
    "# %%timeit -n1 -r1\n",
    "# evaluations = [evaluate_policy(policy)]\n",
    "evaluations = []\n"
   ]
  },
  {
   "cell_type": "code",
   "execution_count": 15,
   "metadata": {},
   "outputs": [
    {
     "name": "stdout",
     "output_type": "stream",
     "text": [
      "Loaded 0 saved episode timesteps.\n"
     ]
    }
   ],
   "source": [
    "# Load saved episodes from disk\n",
    "if os.path.exists(CONFIG['training']['episode_save_load_file']):\n",
    "    df_saved_episodes = pd.read_hdf(CONFIG['training']['episode_save_load_file'])\n",
    "else:\n",
    "    df_saved_episodes = pd.DataFrame(columns=env.history().columns)\n",
    "    \n",
    "print(f'Loaded {len(df_saved_episodes)} saved episode timesteps.')\n"
   ]
  },
  {
   "cell_type": "code",
   "execution_count": 16,
   "metadata": {},
   "outputs": [
    {
     "data": {
      "text/plain": [
       "(0, 0.0, -1, 0)"
      ]
     },
     "execution_count": 16,
     "metadata": {},
     "output_type": "execute_result"
    }
   ],
   "source": [
    "# Initialize based on loaded episode history\n",
    "total_timesteps = len(df_saved_episodes)\n",
    "timesteps_since_eval = len(df_saved_episodes) % CONFIG['training']['eval_freq']\n",
    "episode_num = len(df_saved_episodes['episode_uuid'].unique()) - 1\n",
    "done = True\n",
    "episode_timesteps = df_saved_episodes['i_step'].iloc[-1] if total_timesteps > 0 else 0\n",
    "total_timesteps, timesteps_since_eval, episode_num, episode_timesteps\n"
   ]
  },
  {
   "cell_type": "code",
   "execution_count": 17,
   "metadata": {
    "scrolled": false
   },
   "outputs": [
    {
     "name": "stdout",
     "output_type": "stream",
     "text": [
      "-0.13876400884778411 0.06273868911010606\n",
      "Aborting episode due to head being > .2m behind the pelvis (-0.20150269795789016).\n",
      "Total T: 11 Episode Num: 0 Episode T: 11 Reward: 35.43506634798316\n",
      "-0.15462359669252684 0.059591450039721064\n",
      "Aborting episode due to head being > .2m behind the pelvis (-0.2142150467322479).\n",
      "Total T: 27 Episode Num: 1 Episode T: 16 Reward: 34.57707824491329\n",
      "-0.1503674592430194 0.055268684997500296\n",
      "Aborting episode due to head being > .2m behind the pelvis (-0.20563614424051968).\n",
      "Total T: 47 Episode Num: 2 Episode T: 20 Reward: 31.886474990890747\n",
      "-0.13486544085689717 0.06552271343739556\n",
      "Aborting episode due to head being > .2m behind the pelvis (-0.20038815429429274).\n",
      "Total T: 57 Episode Num: 3 Episode T: 10 Reward: 35.54114907912499\n",
      "-0.14341715950241202 0.07355862041109143\n",
      "Aborting episode due to head being > .2m behind the pelvis (-0.21697577991350345).\n",
      "Total T: 69 Episode Num: 4 Episode T: 12 Reward: 41.12720894055058\n",
      "-0.14645787204372127 0.062358306584047694\n",
      "Aborting episode due to head being > .2m behind the pelvis (-0.20881617862776897).\n",
      "Total T: 84 Episode Num: 5 Episode T: 15 Reward: 35.54230015300031\n",
      "-0.14179526552232308 0.06157393568175237\n",
      "Aborting episode due to head being > .2m behind the pelvis (-0.20336920120407545).\n",
      "Total T: 102 Episode Num: 6 Episode T: 18 Reward: 35.31255645996487\n",
      "-0.14673112442385577 0.06477712499155185\n",
      "Aborting episode due to head being > .2m behind the pelvis (-0.21150824941540763).\n",
      "Total T: 116 Episode Num: 7 Episode T: 14 Reward: 36.73143870432022\n",
      "-0.15095139415863046 0.07200998789097648\n",
      "Aborting episode due to head being > .2m behind the pelvis (-0.22296138204960694).\n",
      "Total T: 127 Episode Num: 8 Episode T: 11 Reward: 40.38434961137376\n",
      "-0.1607693663751642 0.04592152208738915\n",
      "Aborting episode due to head being > .2m behind the pelvis (-0.20669088846255335).\n",
      "Total T: 146 Episode Num: 9 Episode T: 19 Reward: 26.293578248849023\n",
      "-0.14676914340857022 0.06351185418427589\n",
      "Aborting episode due to head being > .2m behind the pelvis (-0.21028099759284613).\n",
      "Total T: 160 Episode Num: 10 Episode T: 14 Reward: 35.81004647095627\n",
      "-0.15820545030749747 0.054686212002078176\n",
      "Aborting episode due to head being > .2m behind the pelvis (-0.21289166230957565).\n",
      "Total T: 175 Episode Num: 11 Episode T: 15 Reward: 30.92612425026941\n",
      "-0.1527574512234124 0.060567637745422793\n",
      "Aborting episode due to head being > .2m behind the pelvis (-0.21332508896883517).\n",
      "Total T: 192 Episode Num: 12 Episode T: 17 Reward: 35.25920312168425\n",
      "-0.1337510141537032 0.06707237841762524\n",
      "Aborting episode due to head being > .2m behind the pelvis (-0.20082339257132842).\n",
      "Total T: 202 Episode Num: 13 Episode T: 10 Reward: 36.902189573452375\n",
      "-0.1580231406969101 0.059657877698438\n",
      "Aborting episode due to head being > .2m behind the pelvis (-0.2176810183953481).\n",
      "Total T: 221 Episode Num: 14 Episode T: 19 Reward: 34.95069546414597\n",
      "-0.1510188872130349 0.05772208657736353\n",
      "Aborting episode due to head being > .2m behind the pelvis (-0.20874097379039844).\n",
      "Total T: 238 Episode Num: 15 Episode T: 17 Reward: 33.28440275412247\n",
      "-0.14136292089901709 0.06010940647168202\n",
      "Aborting episode due to head being > .2m behind the pelvis (-0.2014723273706991).\n",
      "Total T: 253 Episode Num: 16 Episode T: 15 Reward: 34.588587440553155\n",
      "-0.16542840535203795 0.03923217691624033\n",
      "Aborting episode due to head being > .2m behind the pelvis (-0.20466058226827827).\n",
      "Total T: 276 Episode Num: 17 Episode T: 23 Reward: 21.5595965837192\n",
      "-0.14857279181523084 0.058424854792789985\n",
      "Aborting episode due to head being > .2m behind the pelvis (-0.20699764660802084).\n",
      "Total T: 290 Episode Num: 18 Episode T: 14 Reward: 33.870223914914355\n",
      "-0.14366937059084212 0.05977079343626616\n",
      "Aborting episode due to head being > .2m behind the pelvis (-0.20344016402710827).\n",
      "Total T: 305 Episode Num: 19 Episode T: 15 Reward: 35.078770423109134\n",
      "-0.15296770926522746 0.07368147729789844\n",
      "Aborting episode due to head being > .2m behind the pelvis (-0.22664918656312588).\n",
      "Total T: 319 Episode Num: 20 Episode T: 14 Reward: 40.24010085991934\n",
      "-0.16209177754579535 0.05342358539012044\n",
      "Aborting episode due to head being > .2m behind the pelvis (-0.21551536293591578).\n",
      "Total T: 338 Episode Num: 21 Episode T: 19 Reward: 30.035312361898082\n",
      "-0.1499649211945492 0.05221530147252631\n",
      "Aborting episode due to head being > .2m behind the pelvis (-0.20218022266707553).\n",
      "Total T: 354 Episode Num: 22 Episode T: 16 Reward: 30.417727162997917\n",
      "-0.14101820064988052 0.06020791767865945\n",
      "Aborting episode due to head being > .2m behind the pelvis (-0.20122611832853998).\n",
      "Total T: 366 Episode Num: 23 Episode T: 12 Reward: 33.533382428344\n",
      "-0.1426541021870345 0.05954873878903227\n",
      "Aborting episode due to head being > .2m behind the pelvis (-0.20220284097606678).\n",
      "Total T: 379 Episode Num: 24 Episode T: 13 Reward: 34.36425296248891\n",
      "-0.16229088795058225 0.038843652022073766\n",
      "Aborting episode due to head being > .2m behind the pelvis (-0.201134539972656).\n",
      "Total T: 397 Episode Num: 25 Episode T: 18 Reward: 23.098807097554012\n",
      "-0.148588468516895 0.05881220085452068\n",
      "Aborting episode due to head being > .2m behind the pelvis (-0.20740066937141569).\n",
      "Total T: 413 Episode Num: 26 Episode T: 16 Reward: 34.308549317091604\n",
      "-0.14575054046682817 0.05443376917858417\n",
      "Aborting episode due to head being > .2m behind the pelvis (-0.20018430964541234).\n",
      "Total T: 427 Episode Num: 27 Episode T: 14 Reward: 28.59213948184557\n",
      "-0.13796352972344156 0.06655162565915294\n",
      "Aborting episode due to head being > .2m behind the pelvis (-0.20451515538259452).\n",
      "Total T: 438 Episode Num: 28 Episode T: 11 Reward: 37.22543807006582\n",
      "-0.14757006362352948 0.06330214533528972\n",
      "Aborting episode due to head being > .2m behind the pelvis (-0.2108722089588192).\n",
      "Total T: 452 Episode Num: 29 Episode T: 14 Reward: 35.66843317678524\n",
      "-0.17521937633441015 0.03559473343254481\n",
      "Aborting episode due to head being > .2m behind the pelvis (-0.21081410976695497).\n",
      "Total T: 475 Episode Num: 30 Episode T: 23 Reward: 21.256212678606644\n",
      "-0.1547791347780793 0.05244829806343996\n",
      "Aborting episode due to head being > .2m behind the pelvis (-0.20722743284151926).\n",
      "Total T: 492 Episode Num: 31 Episode T: 17 Reward: 28.802885357565998\n",
      "-0.14058653398275958 0.07177673250682377\n",
      "Aborting episode due to head being > .2m behind the pelvis (-0.21236326648958337).\n",
      "Total T: 506 Episode Num: 32 Episode T: 14 Reward: 40.64189403761023\n",
      "-0.15691326916939366 0.0497447239235209\n",
      "Aborting episode due to head being > .2m behind the pelvis (-0.20665799309291455).\n",
      "Total T: 532 Episode Num: 33 Episode T: 26 Reward: 26.733167946665645\n",
      "-0.15981848108857433 0.04164723214776176\n",
      "Aborting episode due to head being > .2m behind the pelvis (-0.20146571323633608).\n",
      "Total T: 556 Episode Num: 34 Episode T: 24 Reward: 23.07451163751518\n",
      "-0.14523847569383505 0.06692650477750353\n",
      "Aborting episode due to head being > .2m behind the pelvis (-0.21216498047133858).\n",
      "Total T: 567 Episode Num: 35 Episode T: 11 Reward: 37.65022839066227\n",
      "-0.1673899243148979 0.04238664118367409\n",
      "Aborting episode due to head being > .2m behind the pelvis (-0.209776565498572).\n",
      "Total T: 586 Episode Num: 36 Episode T: 19 Reward: 25.754410615340756\n",
      "-0.1555224088511554 0.05665760124030707\n",
      "Aborting episode due to head being > .2m behind the pelvis (-0.21218001009146248).\n",
      "Total T: 603 Episode Num: 37 Episode T: 17 Reward: 32.67259989733654\n",
      "-0.1505208371481487 0.06479482531010894\n",
      "Aborting episode due to head being > .2m behind the pelvis (-0.21531566245825765).\n",
      "Total T: 620 Episode Num: 38 Episode T: 17 Reward: 37.23831828459312\n",
      "-0.15136982388216622 0.06094229172527869\n",
      "Aborting episode due to head being > .2m behind the pelvis (-0.2123121156074449).\n",
      "Total T: 634 Episode Num: 39 Episode T: 14 Reward: 35.3167621392163\n",
      "-0.15455577471030194 0.06394547874832476\n",
      "Aborting episode due to head being > .2m behind the pelvis (-0.2185012534586267).\n",
      "Total T: 649 Episode Num: 40 Episode T: 15 Reward: 37.03365994690383\n",
      "-0.16120099073076832 0.04626406318130076\n",
      "Aborting episode due to head being > .2m behind the pelvis (-0.2074650539120691).\n",
      "Total T: 668 Episode Num: 41 Episode T: 19 Reward: 27.11637639886032\n",
      "-0.1475137767559077 0.060057799308726414\n",
      "Aborting episode due to head being > .2m behind the pelvis (-0.2075715760646341).\n",
      "Total T: 684 Episode Num: 42 Episode T: 16 Reward: 34.760581629550835\n"
     ]
    },
    {
     "name": "stdout",
     "output_type": "stream",
     "text": [
      "-0.19147309075965144 0.019800976817729323\n",
      "Aborting episode due to head being > .2m behind the pelvis (-0.21127406757738076).\n",
      "Total T: 711 Episode Num: 43 Episode T: 27 Reward: 11.335725951884346\n",
      "-0.14019375239456092 0.06262545976276687\n",
      "Aborting episode due to head being > .2m behind the pelvis (-0.2028192121573278).\n",
      "Total T: 724 Episode Num: 44 Episode T: 13 Reward: 35.24279424516603\n",
      "-0.14415453227333672 0.07207441002376652\n",
      "Aborting episode due to head being > .2m behind the pelvis (-0.21622894229710324).\n",
      "Total T: 739 Episode Num: 45 Episode T: 15 Reward: 40.65239371405581\n",
      "-0.1448257042497914 0.0646612081391531\n",
      "Aborting episode due to head being > .2m behind the pelvis (-0.2094869123889445).\n",
      "Total T: 752 Episode Num: 46 Episode T: 13 Reward: 36.95092482782803\n",
      "-0.15432121187606407 0.055598748394860294\n",
      "Aborting episode due to head being > .2m behind the pelvis (-0.20991996027092436).\n",
      "Total T: 767 Episode Num: 47 Episode T: 15 Reward: 32.62538085996184\n",
      "-0.15128978390600872 0.058659914033660276\n",
      "Aborting episode due to head being > .2m behind the pelvis (-0.209949697939669).\n",
      "Total T: 789 Episode Num: 48 Episode T: 22 Reward: 34.300858112995\n",
      "-0.16361151194437007 0.0411876255309438\n",
      "Aborting episode due to head being > .2m behind the pelvis (-0.20479913747531386).\n",
      "Total T: 813 Episode Num: 49 Episode T: 24 Reward: 22.848789283988552\n",
      "-0.1440857281794104 0.06649938531017183\n",
      "Aborting episode due to head being > .2m behind the pelvis (-0.21058511348958223).\n",
      "Total T: 824 Episode Num: 50 Episode T: 11 Reward: 37.29362011316968\n",
      "-0.14252034668473768 0.059733125595512276\n",
      "Aborting episode due to head being > .2m behind the pelvis (-0.20225347228024995).\n",
      "Total T: 841 Episode Num: 51 Episode T: 17 Reward: 32.4518947015883\n",
      "-0.15613840067920354 0.06747228257447017\n",
      "Aborting episode due to head being > .2m behind the pelvis (-0.22361068325367373).\n",
      "Total T: 855 Episode Num: 52 Episode T: 14 Reward: 38.25546307834036\n",
      "-0.13905671504746167 0.06806206085116147\n",
      "Aborting episode due to head being > .2m behind the pelvis (-0.20711877589862315).\n",
      "Total T: 868 Episode Num: 53 Episode T: 13 Reward: 38.919852730121015\n",
      "-0.14274680089924388 0.07313824971853107\n",
      "Aborting episode due to head being > .2m behind the pelvis (-0.21588505061777497).\n",
      "Total T: 879 Episode Num: 54 Episode T: 11 Reward: 40.53263483456123\n",
      "-0.1467991928318092 0.05928140689926901\n",
      "Aborting episode due to head being > .2m behind the pelvis (-0.2060805997310782).\n",
      "Total T: 893 Episode Num: 55 Episode T: 14 Reward: 34.622766889491054\n",
      "-0.14518175015796142 0.05807288502147533\n",
      "Aborting episode due to head being > .2m behind the pelvis (-0.20325463517943676).\n",
      "Total T: 909 Episode Num: 56 Episode T: 16 Reward: 32.106085321484855\n",
      "-0.14579780494245198 0.05933080462994353\n",
      "Aborting episode due to head being > .2m behind the pelvis (-0.2051286095723955).\n",
      "Total T: 923 Episode Num: 57 Episode T: 14 Reward: 34.167324515222745\n",
      "-0.15499514823784066 0.04790590498277305\n",
      "Aborting episode due to head being > .2m behind the pelvis (-0.20290105322061372).\n",
      "Total T: 944 Episode Num: 58 Episode T: 21 Reward: 27.188058589414737\n",
      "-0.14077944337588208 0.0612348677867867\n",
      "Aborting episode due to head being > .2m behind the pelvis (-0.20201431116266877).\n",
      "Total T: 956 Episode Num: 59 Episode T: 12 Reward: 35.14661323427933\n",
      "-0.13872398788099766 0.06638531003934844\n",
      "Aborting episode due to head being > .2m behind the pelvis (-0.2051092979203461).\n",
      "Total T: 968 Episode Num: 60 Episode T: 12 Reward: 37.76542351448066\n",
      "-0.15133567422804467 0.05830799657293839\n",
      "Aborting episode due to head being > .2m behind the pelvis (-0.20964367080098306).\n",
      "Total T: 982 Episode Num: 61 Episode T: 14 Reward: 33.62737942821951\n",
      "-0.16128229032326113 0.047432140797005556\n",
      "Aborting episode due to head being > .2m behind the pelvis (-0.2087144311202667).\n",
      "Total T: 1004 Episode Num: 62 Episode T: 22 Reward: 28.260627953170804\n",
      "-0.14403912043293265 0.06627870092082751\n",
      "Aborting episode due to head being > .2m behind the pelvis (-0.21031782135376015).\n",
      "Total T: 1015 Episode Num: 63 Episode T: 11 Reward: 37.34955567196989\n",
      "-0.15559548256192007 0.05355298900602077\n",
      "Aborting episode due to head being > .2m behind the pelvis (-0.20914847156794084).\n",
      "Total T: 1033 Episode Num: 64 Episode T: 18 Reward: 31.057386497368917\n",
      "-0.14190744375623185 0.0631644871289959\n",
      "Aborting episode due to head being > .2m behind the pelvis (-0.20507193088522774).\n",
      "Total T: 1049 Episode Num: 65 Episode T: 16 Reward: 36.54947573321214\n",
      "-0.16824402699117905 0.04721852296223514\n",
      "Aborting episode due to head being > .2m behind the pelvis (-0.21546254995341418).\n",
      "Total T: 1069 Episode Num: 66 Episode T: 20 Reward: 27.887653943274124\n",
      "-0.14425403086065353 0.07540304164374441\n",
      "Aborting episode due to head being > .2m behind the pelvis (-0.21965707250439792).\n",
      "Total T: 1079 Episode Num: 67 Episode T: 10 Reward: 41.29184859664997\n",
      "-0.14486012709839036 0.05957296373962307\n",
      "Aborting episode due to head being > .2m behind the pelvis (-0.20443309083801342).\n",
      "Total T: 1092 Episode Num: 68 Episode T: 13 Reward: 34.58933003095237\n",
      "-0.1489834378888254 0.06370145652024434\n",
      "Aborting episode due to head being > .2m behind the pelvis (-0.21268489440906974).\n",
      "Total T: 1104 Episode Num: 69 Episode T: 12 Reward: 36.40434210397795\n",
      "-0.1421326031553568 0.07175842401696302\n",
      "Aborting episode due to head being > .2m behind the pelvis (-0.21389102717231984).\n",
      "Total T: 1115 Episode Num: 70 Episode T: 11 Reward: 40.05448084106265\n",
      "-0.16535313484563383 0.04996034903857553\n",
      "Aborting episode due to head being > .2m behind the pelvis (-0.21531348388420934).\n",
      "Total T: 1136 Episode Num: 71 Episode T: 21 Reward: 27.682412937302743\n",
      "-0.15341743630860533 0.06468510546821439\n",
      "Aborting episode due to head being > .2m behind the pelvis (-0.2181025417768197).\n",
      "Total T: 1151 Episode Num: 72 Episode T: 15 Reward: 35.69957940949439\n",
      "-0.13811558734444096 0.07204613646647692\n",
      "Aborting episode due to head being > .2m behind the pelvis (-0.21016172381091788).\n",
      "Total T: 1161 Episode Num: 73 Episode T: 10 Reward: 39.71563310321996\n",
      "-0.1536944551869157 0.05687459913902087\n",
      "Aborting episode due to head being > .2m behind the pelvis (-0.2105690543259366).\n",
      "Total T: 1181 Episode Num: 74 Episode T: 20 Reward: 33.33684080187915\n",
      "-0.14190344740296218 0.05957293778889495\n",
      "Aborting episode due to head being > .2m behind the pelvis (-0.20147638519185712).\n",
      "Total T: 1193 Episode Num: 75 Episode T: 12 Reward: 33.465981773559385\n",
      "-0.1791024999127734 0.02595067518950033\n",
      "Aborting episode due to head being > .2m behind the pelvis (-0.20505317510227375).\n",
      "Total T: 1217 Episode Num: 76 Episode T: 24 Reward: 15.20618738905161\n",
      "-0.1504290654058385 0.07249720069932106\n",
      "Aborting episode due to head being > .2m behind the pelvis (-0.22292626610515956).\n",
      "Total T: 1229 Episode Num: 77 Episode T: 12 Reward: 39.9308974351587\n",
      "-0.15373035889051528 0.06022644081300814\n",
      "Aborting episode due to head being > .2m behind the pelvis (-0.21395679970352344).\n",
      "Total T: 1242 Episode Num: 78 Episode T: 13 Reward: 34.72875514746037\n",
      "-0.14561975809627148 0.06385288665475809\n",
      "Aborting episode due to head being > .2m behind the pelvis (-0.20947264475102956).\n",
      "Total T: 1253 Episode Num: 79 Episode T: 11 Reward: 35.985317821448\n",
      "-0.14127621924375333 0.07028340262767918\n",
      "Aborting episode due to head being > .2m behind the pelvis (-0.2115596218714325).\n",
      "Total T: 1266 Episode Num: 80 Episode T: 13 Reward: 39.128021287337646\n",
      "-0.1411394451193029 0.061661359723347346\n",
      "Aborting episode due to head being > .2m behind the pelvis (-0.20280080484265026).\n",
      "Total T: 1278 Episode Num: 81 Episode T: 12 Reward: 34.79153790741862\n",
      "-0.14922217144731667 0.05949336119120099\n",
      "Aborting episode due to head being > .2m behind the pelvis (-0.20871553263851766).\n",
      "Total T: 1293 Episode Num: 82 Episode T: 15 Reward: 34.32703971751837\n",
      "-0.14611556040632678 0.07276600798430362\n",
      "Aborting episode due to head being > .2m behind the pelvis (-0.2188815683906304).\n",
      "Total T: 1303 Episode Num: 83 Episode T: 10 Reward: 39.23823716686511\n",
      "-0.14578880153946083 0.07178266492724646\n",
      "Aborting episode due to head being > .2m behind the pelvis (-0.21757146646670728).\n",
      "Total T: 1313 Episode Num: 84 Episode T: 10 Reward: 39.551099736237106\n",
      "-0.14278012928859182 0.06867586707192327\n",
      "Aborting episode due to head being > .2m behind the pelvis (-0.2114559963605151).\n",
      "Total T: 1327 Episode Num: 85 Episode T: 14 Reward: 39.593726525427336\n"
     ]
    },
    {
     "name": "stdout",
     "output_type": "stream",
     "text": [
      "-0.13931820258087088 0.07217063066935563\n",
      "Aborting episode due to head being > .2m behind the pelvis (-0.2114888332502265).\n",
      "Total T: 1339 Episode Num: 86 Episode T: 12 Reward: 40.553722333557694\n",
      "-0.1399440040539145 0.06885819220436878\n",
      "Aborting episode due to head being > .2m behind the pelvis (-0.20880219625828328).\n",
      "Total T: 1350 Episode Num: 87 Episode T: 11 Reward: 38.10137982614998\n",
      "-0.14594495065143387 0.06896484878896438\n",
      "Aborting episode due to head being > .2m behind the pelvis (-0.21490979944039823).\n",
      "Total T: 1361 Episode Num: 88 Episode T: 11 Reward: 38.480205618541525\n",
      "-0.1364743646336566 0.06412807718833341\n",
      "Aborting episode due to head being > .2m behind the pelvis (-0.20060244182199).\n",
      "Total T: 1376 Episode Num: 89 Episode T: 15 Reward: 37.04592650260125\n",
      "-0.3603978993217228 -0.15803864313633492\n",
      "Aborting episode due to head being > .2m behind the pelvis (-0.20235925618538786).\n",
      "Total T: 1426 Episode Num: 90 Episode T: 50 Reward: -105.03291642163438\n",
      "-0.15193153622342423 0.07018333882144359\n",
      "Aborting episode due to head being > .2m behind the pelvis (-0.22211487504486782).\n",
      "Total T: 1437 Episode Num: 91 Episode T: 11 Reward: 39.50533315486001\n",
      "-0.14165833553703794 0.06041063125538456\n",
      "Aborting episode due to head being > .2m behind the pelvis (-0.2020689667924225).\n",
      "Total T: 1451 Episode Num: 92 Episode T: 14 Reward: 34.602865806600434\n",
      "-0.1461249788032919 0.07243505057199791\n",
      "Aborting episode due to head being > .2m behind the pelvis (-0.2185600293752898).\n",
      "Total T: 1464 Episode Num: 93 Episode T: 13 Reward: 40.41188324134682\n",
      "-0.13933524949921794 0.06840855275620193\n",
      "Aborting episode due to head being > .2m behind the pelvis (-0.20774380225541988).\n",
      "Total T: 1475 Episode Num: 94 Episode T: 11 Reward: 37.49820501335117\n",
      "-0.15393879893400975 0.05288593999907507\n",
      "Aborting episode due to head being > .2m behind the pelvis (-0.2068247389330848).\n",
      "Total T: 1492 Episode Num: 95 Episode T: 17 Reward: 30.988866754103277\n",
      "-0.14858725875642398 0.057686662784767015\n",
      "Aborting episode due to head being > .2m behind the pelvis (-0.206273921541191).\n",
      "Total T: 1507 Episode Num: 96 Episode T: 15 Reward: 33.31048911949297\n",
      "-0.14074796314531438 0.06706465894424427\n",
      "Aborting episode due to head being > .2m behind the pelvis (-0.20781262208955864).\n",
      "Total T: 1517 Episode Num: 97 Episode T: 10 Reward: 37.397644976776355\n",
      "-0.14991379754254558 0.056560223182863946\n",
      "Aborting episode due to head being > .2m behind the pelvis (-0.20647402072540952).\n",
      "Total T: 1534 Episode Num: 98 Episode T: 17 Reward: 33.0638040220544\n",
      "-0.15173297262163166 0.060564336217076284\n",
      "Aborting episode due to head being > .2m behind the pelvis (-0.21229730883870795).\n",
      "Total T: 1547 Episode Num: 99 Episode T: 13 Reward: 34.79769765968654\n",
      "-0.14150586035603735 0.06272141293524443\n",
      "Aborting episode due to head being > .2m behind the pelvis (-0.20422727329128176).\n",
      "Total T: 1561 Episode Num: 100 Episode T: 14 Reward: 34.33675288842706\n",
      "-0.14453870383762843 0.062315342656651784\n",
      "Aborting episode due to head being > .2m behind the pelvis (-0.2068540464942802).\n",
      "Total T: 1574 Episode Num: 101 Episode T: 13 Reward: 33.63998946676226\n",
      "-0.15126673738949467 0.054489238790621265\n",
      "Aborting episode due to head being > .2m behind the pelvis (-0.20575597618011593).\n",
      "Total T: 1591 Episode Num: 102 Episode T: 17 Reward: 32.27918549404346\n",
      "-0.1404849659875795 0.07507454549555241\n",
      "Aborting episode due to head being > .2m behind the pelvis (-0.2155595114831319).\n",
      "Total T: 1603 Episode Num: 103 Episode T: 12 Reward: 41.402689716543776\n",
      "-0.15529821041459568 0.05807599423233906\n",
      "Aborting episode due to head being > .2m behind the pelvis (-0.21337420464693474).\n",
      "Total T: 1625 Episode Num: 104 Episode T: 22 Reward: 33.549335642310595\n",
      "-0.1571720101724038 0.06077833596326213\n",
      "Aborting episode due to head being > .2m behind the pelvis (-0.2179503461356659).\n",
      "Total T: 1639 Episode Num: 105 Episode T: 14 Reward: 34.91011675629396\n",
      "-0.14520041740907144 0.06207443674598743\n",
      "Aborting episode due to head being > .2m behind the pelvis (-0.20727485415505886).\n",
      "Total T: 1653 Episode Num: 106 Episode T: 14 Reward: 35.323224177284075\n",
      "-0.16829855954001977 0.03353006360179088\n",
      "Aborting episode due to head being > .2m behind the pelvis (-0.20182862314181066).\n",
      "Total T: 1676 Episode Num: 107 Episode T: 23 Reward: 18.550023145867932\n",
      "-0.13402890730893954 0.06666986452864723\n",
      "Aborting episode due to head being > .2m behind the pelvis (-0.20069877183758678).\n",
      "Total T: 1686 Episode Num: 108 Episode T: 10 Reward: 36.93996787527158\n",
      "-0.14565712818153398 0.061067853504111015\n",
      "Aborting episode due to head being > .2m behind the pelvis (-0.206724981685645).\n",
      "Total T: 1700 Episode Num: 109 Episode T: 14 Reward: 34.92020898491349\n",
      "-0.13846244097870664 0.0615453162889805\n",
      "Aborting episode due to head being > .2m behind the pelvis (-0.20000775726768713).\n",
      "Total T: 1711 Episode Num: 110 Episode T: 11 Reward: 34.890007779731214\n",
      "-0.16492369573873145 0.03976106307694828\n",
      "Aborting episode due to head being > .2m behind the pelvis (-0.2046847588156797).\n",
      "Total T: 1729 Episode Num: 111 Episode T: 18 Reward: 22.052650480739327\n",
      "-0.15943942742282025 0.049155225684207715\n",
      "Aborting episode due to head being > .2m behind the pelvis (-0.20859465310702796).\n",
      "Total T: 1750 Episode Num: 112 Episode T: 21 Reward: 28.625862025438842\n",
      "-0.13327593900300796 0.06937185280351903\n",
      "Aborting episode due to head being > .2m behind the pelvis (-0.20264779180652698).\n",
      "Total T: 1762 Episode Num: 113 Episode T: 12 Reward: 38.98963428931332\n",
      "-0.1513509699483797 0.05244639191947229\n",
      "Aborting episode due to head being > .2m behind the pelvis (-0.203797361867852).\n",
      "Total T: 1782 Episode Num: 114 Episode T: 20 Reward: 29.264258800489046\n",
      "-0.1458392659315897 0.05452451289169297\n",
      "Aborting episode due to head being > .2m behind the pelvis (-0.20036377882328266).\n",
      "Total T: 1799 Episode Num: 115 Episode T: 17 Reward: 31.405760178770993\n",
      "-0.14264799842551473 0.06318680880345522\n",
      "Aborting episode due to head being > .2m behind the pelvis (-0.20583480722896996).\n",
      "Total T: 1814 Episode Num: 116 Episode T: 15 Reward: 36.515698383097366\n",
      "-0.1578402714466483 0.054636491683763645\n",
      "Aborting episode due to head being > .2m behind the pelvis (-0.21247676313041194).\n",
      "Total T: 1832 Episode Num: 117 Episode T: 18 Reward: 32.18455742785321\n",
      "-0.1387626499542376 0.06573419261611008\n",
      "Aborting episode due to head being > .2m behind the pelvis (-0.20449684257034767).\n",
      "Total T: 1844 Episode Num: 118 Episode T: 12 Reward: 36.78295296493331\n",
      "-0.14772923722117226 0.06520530557748083\n",
      "Aborting episode due to head being > .2m behind the pelvis (-0.2129345427986531).\n",
      "Total T: 1858 Episode Num: 119 Episode T: 14 Reward: 35.93157624629413\n",
      "-0.13987776424860343 0.06458492245544115\n",
      "Aborting episode due to head being > .2m behind the pelvis (-0.20446268670404458).\n",
      "Total T: 1869 Episode Num: 120 Episode T: 11 Reward: 36.28633131693928\n",
      "-0.1623265345110547 0.0460143912435678\n",
      "Aborting episode due to head being > .2m behind the pelvis (-0.20834092575462249).\n",
      "Total T: 1890 Episode Num: 121 Episode T: 21 Reward: 25.301667730653875\n",
      "-0.14668478927774825 0.06202864202577067\n",
      "Aborting episode due to head being > .2m behind the pelvis (-0.20871343130351894).\n",
      "Total T: 1905 Episode Num: 122 Episode T: 15 Reward: 35.64998084078945\n",
      "-0.1451022291591735 0.06206254660680863\n",
      "Aborting episode due to head being > .2m behind the pelvis (-0.20716477576598213).\n",
      "Total T: 1919 Episode Num: 123 Episode T: 14 Reward: 34.99981373669541\n",
      "-0.15115476889788554 0.06384491525631723\n",
      "Aborting episode due to head being > .2m behind the pelvis (-0.21499968415420279).\n",
      "Total T: 1933 Episode Num: 124 Episode T: 14 Reward: 36.6004547774693\n",
      "-0.1480256825557018 0.0648123494228953\n",
      "Aborting episode due to head being > .2m behind the pelvis (-0.2128380319785971).\n",
      "Total T: 1948 Episode Num: 125 Episode T: 15 Reward: 36.57474444553029\n",
      "-0.14913582734532083 0.06750875058438484\n",
      "Aborting episode due to head being > .2m behind the pelvis (-0.21664457792970565).\n",
      "Total T: 1961 Episode Num: 126 Episode T: 13 Reward: 38.36768231460143\n",
      "-0.14923559688807111 0.05337610924899132\n",
      "Aborting episode due to head being > .2m behind the pelvis (-0.20261170613706242).\n",
      "Total T: 1978 Episode Num: 127 Episode T: 17 Reward: 31.225890485856176\n",
      "-0.16109280930264402 0.05242720837702304\n",
      "Aborting episode due to head being > .2m behind the pelvis (-0.21352001767966705).\n",
      "Total T: 1998 Episode Num: 128 Episode T: 20 Reward: 30.679156839936347\n"
     ]
    },
    {
     "name": "stdout",
     "output_type": "stream",
     "text": [
      "-0.1437607126500197 0.06282431160971982\n",
      "Aborting episode due to head being > .2m behind the pelvis (-0.2065850242597395).\n",
      "Total T: 2017 Episode Num: 129 Episode T: 19 Reward: 36.56007384574263\n",
      "-0.1436047925697776 0.06490939176405872\n",
      "Aborting episode due to head being > .2m behind the pelvis (-0.2085141843338363).\n",
      "Total T: 2030 Episode Num: 130 Episode T: 13 Reward: 36.97525512259188\n",
      "-0.14801218627841506 0.06867130991908822\n",
      "Aborting episode due to head being > .2m behind the pelvis (-0.21668349619750327).\n",
      "Total T: 2042 Episode Num: 131 Episode T: 12 Reward: 38.098395295080394\n",
      "-0.14485072846601943 0.06678800140191749\n",
      "Aborting episode due to head being > .2m behind the pelvis (-0.21163872986793691).\n",
      "Total T: 2054 Episode Num: 132 Episode T: 12 Reward: 37.43504005044569\n",
      "-0.14141464401918102 0.06378561057443732\n",
      "Aborting episode due to head being > .2m behind the pelvis (-0.20520025459361835).\n",
      "Total T: 2067 Episode Num: 133 Episode T: 13 Reward: 36.362276331703356\n",
      "-0.1467449434211912 0.060306946783536645\n",
      "Aborting episode due to head being > .2m behind the pelvis (-0.20705189020472786).\n",
      "Total T: 2081 Episode Num: 134 Episode T: 14 Reward: 34.19985053485032\n",
      "-0.16187486183924885 0.04921509957304685\n",
      "Aborting episode due to head being > .2m behind the pelvis (-0.2110899614122957).\n",
      "Total T: 2100 Episode Num: 135 Episode T: 19 Reward: 27.731166728525928\n",
      "-0.143327282426928 0.07592998486043907\n",
      "Aborting episode due to head being > .2m behind the pelvis (-0.21925726728736705).\n",
      "Total T: 2109 Episode Num: 136 Episode T: 9 Reward: 40.12288664452107\n",
      "-0.14508558124677895 0.06784511433932147\n",
      "Aborting episode due to head being > .2m behind the pelvis (-0.21293069558610042).\n",
      "Total T: 2120 Episode Num: 137 Episode T: 11 Reward: 37.8091195877168\n",
      "-0.1442384114308932 0.06468807232702635\n",
      "Aborting episode due to head being > .2m behind the pelvis (-0.20892648375791956).\n",
      "Total T: 2133 Episode Num: 138 Episode T: 13 Reward: 36.88483059494723\n",
      "-0.1530577601156655 0.06097354499781718\n",
      "Aborting episode due to head being > .2m behind the pelvis (-0.21403130511348267).\n",
      "Total T: 2151 Episode Num: 139 Episode T: 18 Reward: 34.901548230397886\n",
      "-0.1596991613706477 0.04868883663986997\n",
      "Aborting episode due to head being > .2m behind the pelvis (-0.2083879980105177).\n",
      "Total T: 2171 Episode Num: 140 Episode T: 20 Reward: 29.30104188424882\n",
      "-0.1434062621200331 0.06214945383486181\n",
      "Aborting episode due to head being > .2m behind the pelvis (-0.2055557159548949).\n",
      "Total T: 2185 Episode Num: 141 Episode T: 14 Reward: 35.72726920001472\n",
      "-0.15503762589505996 0.05026109129820158\n",
      "Aborting episode due to head being > .2m behind the pelvis (-0.20529871719326154).\n",
      "Total T: 2205 Episode Num: 142 Episode T: 20 Reward: 29.366320684629404\n",
      "-0.14359184354976373 0.06070091951339725\n",
      "Aborting episode due to head being > .2m behind the pelvis (-0.20429276306316096).\n",
      "Total T: 2218 Episode Num: 143 Episode T: 13 Reward: 34.80712293671208\n",
      "-0.139588518211468 0.06649973112173392\n",
      "Aborting episode due to head being > .2m behind the pelvis (-0.2060882493332019).\n",
      "Total T: 2229 Episode Num: 144 Episode T: 11 Reward: 36.73474703153137\n",
      "-0.1472946910357855 0.06559096645185651\n",
      "Aborting episode due to head being > .2m behind the pelvis (-0.212885657487642).\n",
      "Total T: 2241 Episode Num: 145 Episode T: 12 Reward: 36.51821023531226\n",
      "-0.19762467495894526 0.011766961107937334\n",
      "Aborting episode due to head being > .2m behind the pelvis (-0.2093916360668826).\n",
      "Total T: 2272 Episode Num: 146 Episode T: 31 Reward: 5.258143199834029\n",
      "-0.16804256189979155 0.03800292960217417\n",
      "Aborting episode due to head being > .2m behind the pelvis (-0.20604549150196572).\n",
      "Total T: 2294 Episode Num: 147 Episode T: 22 Reward: 22.367982397567673\n",
      "-0.13693158404204792 0.06841887914463683\n",
      "Aborting episode due to head being > .2m behind the pelvis (-0.20535046318668476).\n",
      "Total T: 2310 Episode Num: 148 Episode T: 16 Reward: 39.37295880733855\n",
      "-0.1308055803606923 0.07199276967929868\n",
      "Aborting episode due to head being > .2m behind the pelvis (-0.20279835003999097).\n",
      "Total T: 2325 Episode Num: 149 Episode T: 15 Reward: 39.92233797076391\n",
      "-0.15211282708152246 0.06061855647323661\n",
      "Aborting episode due to head being > .2m behind the pelvis (-0.21273138355475907).\n",
      "Total T: 2346 Episode Num: 150 Episode T: 21 Reward: 34.64424045995251\n",
      "-0.17294316585008646 0.03113071373782753\n",
      "Aborting episode due to head being > .2m behind the pelvis (-0.20407387958791398).\n",
      "Total T: 2366 Episode Num: 151 Episode T: 20 Reward: 18.351867497613686\n",
      "-0.14934203036440538 0.0679274434134959\n",
      "Aborting episode due to head being > .2m behind the pelvis (-0.2172694737779013).\n",
      "Total T: 2377 Episode Num: 152 Episode T: 11 Reward: 38.593656543028374\n",
      "-0.16033775255423693 0.04433752115779681\n",
      "Aborting episode due to head being > .2m behind the pelvis (-0.20467527371203376).\n",
      "Total T: 2402 Episode Num: 153 Episode T: 25 Reward: 26.251811351551844\n",
      "-0.1453532149785735 0.07204695117384453\n",
      "Aborting episode due to head being > .2m behind the pelvis (-0.21740016615241803).\n",
      "Total T: 2413 Episode Num: 154 Episode T: 11 Reward: 39.88573811064056\n",
      "-0.16725841789323728 0.060318391915707724\n",
      "Aborting episode due to head being > .2m behind the pelvis (-0.227576809808945).\n",
      "Total T: 2432 Episode Num: 155 Episode T: 19 Reward: 35.29326677401245\n",
      "-0.13735895516418317 0.06303313259438492\n",
      "Aborting episode due to head being > .2m behind the pelvis (-0.2003920877585681).\n",
      "Total T: 2444 Episode Num: 156 Episode T: 12 Reward: 35.81563651248396\n",
      "-0.13273221356246173 0.0682431605880989\n",
      "Aborting episode due to head being > .2m behind the pelvis (-0.20097537415056063).\n",
      "Total T: 2457 Episode Num: 157 Episode T: 13 Reward: 39.167113057437255\n",
      "-0.1576336320473386 0.054762887681953164\n",
      "Aborting episode due to head being > .2m behind the pelvis (-0.21239651972929177).\n",
      "Total T: 2473 Episode Num: 158 Episode T: 16 Reward: 31.862658057872377\n",
      "-0.17974012388368976 0.02284220554475209\n",
      "Aborting episode due to head being > .2m behind the pelvis (-0.20258232942844184).\n",
      "Total T: 2500 Episode Num: 159 Episode T: 27 Reward: 11.837942723879834\n",
      "-0.14711590787301584 0.054735462681710555\n",
      "Aborting episode due to head being > .2m behind the pelvis (-0.2018513705547264).\n",
      "Total T: 2517 Episode Num: 160 Episode T: 17 Reward: 31.56634080562184\n",
      "-0.14914666298039 0.06319520617062956\n",
      "Aborting episode due to head being > .2m behind the pelvis (-0.21234186915101955).\n",
      "Total T: 2530 Episode Num: 161 Episode T: 13 Reward: 35.803681256908575\n",
      "-0.14019476552765547 0.06482270114467387\n",
      "Aborting episode due to head being > .2m behind the pelvis (-0.20501746667232934).\n",
      "Total T: 2542 Episode Num: 162 Episode T: 12 Reward: 36.758296077924264\n",
      "-0.14529387352265316 0.06432497526402615\n",
      "Aborting episode due to head being > .2m behind the pelvis (-0.2096188487866793).\n",
      "Total T: 2555 Episode Num: 163 Episode T: 13 Reward: 36.82931608089257\n",
      "-0.13941547223972983 0.06621509001088957\n",
      "Aborting episode due to head being > .2m behind the pelvis (-0.2056305622506194).\n",
      "Total T: 2568 Episode Num: 164 Episode T: 13 Reward: 37.89433283043755\n",
      "-0.14532092130593957 0.0587278918693439\n",
      "Aborting episode due to head being > .2m behind the pelvis (-0.20404881317528348).\n",
      "Total T: 2580 Episode Num: 165 Episode T: 12 Reward: 32.688216526241874\n",
      "-0.1403020878007205 0.06253251625474399\n",
      "Aborting episode due to head being > .2m behind the pelvis (-0.2028346040554645).\n",
      "Total T: 2593 Episode Num: 166 Episode T: 13 Reward: 35.92950388974445\n",
      "-0.1354719557742048 0.0712379759002754\n",
      "Aborting episode due to head being > .2m behind the pelvis (-0.2067099316744802).\n",
      "Total T: 2605 Episode Num: 167 Episode T: 12 Reward: 39.84944364460283\n",
      "-0.18177133102268384 0.02141354372724827\n",
      "Aborting episode due to head being > .2m behind the pelvis (-0.2031848747499321).\n",
      "Total T: 2633 Episode Num: 168 Episode T: 28 Reward: 12.021436271493739\n",
      "-0.13989205123784737 0.06771968739053337\n",
      "Aborting episode due to head being > .2m behind the pelvis (-0.20761173862838073).\n",
      "Total T: 2644 Episode Num: 169 Episode T: 11 Reward: 37.48204135279094\n",
      "-0.13794322150604515 0.06876233570988947\n",
      "Aborting episode due to head being > .2m behind the pelvis (-0.20670555721593464).\n",
      "Total T: 2655 Episode Num: 170 Episode T: 11 Reward: 38.059257728653485\n",
      "-0.145696821653511 0.07370000022247913\n",
      "Aborting episode due to head being > .2m behind the pelvis (-0.21939682187599013).\n",
      "Total T: 2667 Episode Num: 171 Episode T: 12 Reward: 40.79173793053894\n"
     ]
    },
    {
     "name": "stdout",
     "output_type": "stream",
     "text": [
      "-0.14773710897261974 0.058067418161572834\n",
      "Aborting episode due to head being > .2m behind the pelvis (-0.20580452713419256).\n",
      "Total T: 2681 Episode Num: 172 Episode T: 14 Reward: 33.20906181432305\n",
      "-0.1714146298671788 0.039032673165753345\n",
      "Aborting episode due to head being > .2m behind the pelvis (-0.21044730303293216).\n",
      "Total T: 2704 Episode Num: 173 Episode T: 23 Reward: 23.140109676331498\n",
      "-0.14474666311548878 0.06967614074030215\n",
      "Aborting episode due to head being > .2m behind the pelvis (-0.21442280385579093).\n",
      "Total T: 2716 Episode Num: 174 Episode T: 12 Reward: 39.403282680947214\n",
      "-0.1536002113615742 0.04887021858197665\n",
      "Aborting episode due to head being > .2m behind the pelvis (-0.20247042994355086).\n",
      "Total T: 2733 Episode Num: 175 Episode T: 17 Reward: 28.398601796289583\n",
      "-0.14803952769258233 0.06614584986258834\n",
      "Aborting episode due to head being > .2m behind the pelvis (-0.21418537755517067).\n",
      "Total T: 2747 Episode Num: 176 Episode T: 14 Reward: 37.38121069572466\n",
      "-0.14168753419589664 0.06366606963343692\n",
      "Aborting episode due to head being > .2m behind the pelvis (-0.20535360382933354).\n",
      "Total T: 2758 Episode Num: 177 Episode T: 11 Reward: 35.52061814989059\n",
      "-0.14957385290290162 0.06639505553756728\n",
      "Aborting episode due to head being > .2m behind the pelvis (-0.2159689084404689).\n",
      "Total T: 2772 Episode Num: 178 Episode T: 14 Reward: 38.15514134281125\n",
      "-0.136131086221407 0.06422662037184913\n",
      "Aborting episode due to head being > .2m behind the pelvis (-0.20035770659325614).\n",
      "Total T: 2783 Episode Num: 179 Episode T: 11 Reward: 36.06072108040406\n",
      "-0.14490359895517094 0.05804216097918325\n",
      "Aborting episode due to head being > .2m behind the pelvis (-0.20294575993435418).\n",
      "Total T: 2798 Episode Num: 180 Episode T: 15 Reward: 33.6487947494683\n",
      "-0.14106910028331154 0.061679439702516554\n",
      "Aborting episode due to head being > .2m behind the pelvis (-0.2027485399858281).\n",
      "Total T: 2810 Episode Num: 181 Episode T: 12 Reward: 34.6955319539011\n",
      "-0.14836399486749677 0.05636085341743343\n",
      "Aborting episode due to head being > .2m behind the pelvis (-0.2047248482849302).\n",
      "Total T: 2825 Episode Num: 182 Episode T: 15 Reward: 32.03569600717427\n",
      "-0.14449620258951273 0.06470655470542006\n",
      "Aborting episode due to head being > .2m behind the pelvis (-0.2092027572949328).\n",
      "Total T: 2842 Episode Num: 183 Episode T: 17 Reward: 37.394593023091524\n",
      "-0.143687472084388 0.0710158978538822\n",
      "Aborting episode due to head being > .2m behind the pelvis (-0.21470336993827022).\n",
      "Total T: 2853 Episode Num: 184 Episode T: 11 Reward: 39.01066852706528\n",
      "-0.17420266805903234 0.04829629950274632\n",
      "Aborting episode due to head being > .2m behind the pelvis (-0.22249896756177867).\n",
      "Total T: 2875 Episode Num: 185 Episode T: 22 Reward: 26.752705779595328\n",
      "-0.14022175378469742 0.06127125708618431\n",
      "Aborting episode due to head being > .2m behind the pelvis (-0.20149301087088173).\n",
      "Total T: 2889 Episode Num: 186 Episode T: 14 Reward: 35.28099097656596\n",
      "-0.15098083096948445 0.05570399890266799\n",
      "Aborting episode due to head being > .2m behind the pelvis (-0.20668482987215242).\n",
      "Total T: 2908 Episode Num: 187 Episode T: 19 Reward: 32.37740045490476\n",
      "-0.15907656531155387 0.05020004015074271\n",
      "Aborting episode due to head being > .2m behind the pelvis (-0.2092766054622966).\n",
      "Total T: 2926 Episode Num: 188 Episode T: 18 Reward: 29.535091574041513\n",
      "-0.15028240230631876 0.05475365453292357\n",
      "Aborting episode due to head being > .2m behind the pelvis (-0.20503605683924234).\n",
      "Total T: 2947 Episode Num: 189 Episode T: 21 Reward: 31.72753782465076\n",
      "-0.1436104436062937 0.058877159466903625\n",
      "Aborting episode due to head being > .2m behind the pelvis (-0.2024876030731973).\n",
      "Total T: 2961 Episode Num: 190 Episode T: 14 Reward: 33.556394208536226\n",
      "-0.14001087287394992 0.06701012589102484\n",
      "Aborting episode due to head being > .2m behind the pelvis (-0.20702099876497476).\n",
      "Total T: 2974 Episode Num: 191 Episode T: 13 Reward: 38.18439359020707\n",
      "-0.14380657568771874 0.06570765935275388\n",
      "Aborting episode due to head being > .2m behind the pelvis (-0.20951423504047262).\n",
      "Total T: 2986 Episode Num: 192 Episode T: 12 Reward: 36.47686761058238\n",
      "-0.13402765105772207 0.07571848628945484\n",
      "Aborting episode due to head being > .2m behind the pelvis (-0.2097461373471769).\n",
      "Total T: 2995 Episode Num: 193 Episode T: 9 Reward: 40.00747352410701\n",
      "-0.14053810389739793 0.06311433400528234\n",
      "Aborting episode due to head being > .2m behind the pelvis (-0.20365243790268028).\n",
      "Total T: 3013 Episode Num: 194 Episode T: 18 Reward: 37.08394972075071\n",
      "-0.14504153348373316 0.06681464661736035\n",
      "Aborting episode due to head being > .2m behind the pelvis (-0.21185618010109353).\n",
      "Total T: 3027 Episode Num: 195 Episode T: 14 Reward: 37.26551171357224\n",
      "-0.14477446902216923 0.05607930862469991\n",
      "Aborting episode due to head being > .2m behind the pelvis (-0.20085377764686912).\n",
      "Total T: 3043 Episode Num: 196 Episode T: 16 Reward: 32.618970422050154\n",
      "-0.13733558828595083 0.0636373175539192\n",
      "Aborting episode due to head being > .2m behind the pelvis (-0.20097290583987004).\n",
      "Total T: 3053 Episode Num: 197 Episode T: 10 Reward: 35.33479166015222\n",
      "-0.14077527502919895 0.06499106700595954\n",
      "Aborting episode due to head being > .2m behind the pelvis (-0.20576634203515848).\n",
      "Total T: 3064 Episode Num: 198 Episode T: 11 Reward: 36.16995151779312\n",
      "-0.14199858720251085 0.05815140105106196\n",
      "Aborting episode due to head being > .2m behind the pelvis (-0.2001499882535728).\n",
      "Total T: 3084 Episode Num: 199 Episode T: 20 Reward: 33.43418537323376\n",
      "-0.16091948798257993 0.051088101853237075\n",
      "Aborting episode due to head being > .2m behind the pelvis (-0.21200758983581702).\n",
      "Total T: 3105 Episode Num: 200 Episode T: 21 Reward: 28.206592199871853\n",
      "-0.14226343550144932 0.0635350028287912\n",
      "Aborting episode due to head being > .2m behind the pelvis (-0.20579843833024053).\n",
      "Total T: 3118 Episode Num: 201 Episode T: 13 Reward: 35.69016199018333\n",
      "-0.14175173880364023 0.06444042369052252\n",
      "Aborting episode due to head being > .2m behind the pelvis (-0.20619216249416275).\n",
      "Total T: 3130 Episode Num: 202 Episode T: 12 Reward: 36.83214178556754\n",
      "-0.14687799090295456 0.05896210481430829\n",
      "Aborting episode due to head being > .2m behind the pelvis (-0.20584009571726286).\n",
      "Total T: 3143 Episode Num: 203 Episode T: 13 Reward: 34.07751001378786\n",
      "-0.15084688158148005 0.055562823385163974\n",
      "Aborting episode due to head being > .2m behind the pelvis (-0.20640970496664401).\n",
      "Total T: 3158 Episode Num: 204 Episode T: 15 Reward: 31.80804156354003\n",
      "-0.173514906380357 0.041040052485838426\n",
      "Aborting episode due to head being > .2m behind the pelvis (-0.2145549588661954).\n",
      "Total T: 3178 Episode Num: 205 Episode T: 20 Reward: 24.20719378150336\n",
      "-0.15900477436929666 0.05561113124374958\n",
      "Aborting episode due to head being > .2m behind the pelvis (-0.21461590561304625).\n",
      "Total T: 3200 Episode Num: 206 Episode T: 22 Reward: 30.23654503433015\n",
      "-0.13655379851460453 0.06952756669648116\n",
      "Aborting episode due to head being > .2m behind the pelvis (-0.2060813652110857).\n",
      "Total T: 3211 Episode Num: 207 Episode T: 11 Reward: 38.339109813075304\n",
      "-0.15010847655194887 0.05434362830011997\n",
      "Aborting episode due to head being > .2m behind the pelvis (-0.20445210485206883).\n",
      "Total T: 3228 Episode Num: 208 Episode T: 17 Reward: 31.652934183231256\n",
      "-0.14456841991553676 0.07195888293164603\n",
      "Aborting episode due to head being > .2m behind the pelvis (-0.2165273028471828).\n",
      "Total T: 3240 Episode Num: 209 Episode T: 12 Reward: 40.49980781679979\n",
      "-0.15040266168253852 0.05666224780734414\n",
      "Aborting episode due to head being > .2m behind the pelvis (-0.20706490948988265).\n",
      "Total T: 3256 Episode Num: 210 Episode T: 16 Reward: 33.01878006859736\n",
      "-0.1434002130858364 0.06290237974148635\n",
      "Aborting episode due to head being > .2m behind the pelvis (-0.20630259282732274).\n",
      "Total T: 3272 Episode Num: 211 Episode T: 16 Reward: 35.356299507212995\n",
      "-0.13584548318302614 0.06788629830433225\n",
      "Aborting episode due to head being > .2m behind the pelvis (-0.20373178148735838).\n",
      "Total T: 3282 Episode Num: 212 Episode T: 10 Reward: 37.68182376981075\n",
      "-0.14122646349311624 0.06354166271399896\n",
      "Aborting episode due to head being > .2m behind the pelvis (-0.2047681262071152).\n",
      "Total T: 3296 Episode Num: 213 Episode T: 14 Reward: 35.79278395095036\n",
      "-0.14872198235961762 0.0757136277901433\n",
      "Aborting episode due to head being > .2m behind the pelvis (-0.22443561014976093).\n",
      "Total T: 3306 Episode Num: 214 Episode T: 10 Reward: 40.73052587578533\n"
     ]
    },
    {
     "name": "stdout",
     "output_type": "stream",
     "text": [
      "-0.14010217693504462 0.06640201079717635\n",
      "Aborting episode due to head being > .2m behind the pelvis (-0.20650418773222096).\n",
      "Total T: 3319 Episode Num: 215 Episode T: 13 Reward: 38.29109685983724\n",
      "-0.1410540482511714 0.06287550412742451\n",
      "Aborting episode due to head being > .2m behind the pelvis (-0.20392955237859592).\n",
      "Total T: 3334 Episode Num: 216 Episode T: 15 Reward: 34.05415631127442\n",
      "-0.14793782524149166 0.07133397052049917\n",
      "Aborting episode due to head being > .2m behind the pelvis (-0.21927179576199082).\n",
      "Total T: 3345 Episode Num: 217 Episode T: 11 Reward: 39.55720281780917\n",
      "-0.15117391685266107 0.06410926302814632\n",
      "Aborting episode due to head being > .2m behind the pelvis (-0.2152831798808074).\n",
      "Total T: 3358 Episode Num: 218 Episode T: 13 Reward: 36.20649547076581\n",
      "-0.20765299680342392 -0.0025353133311828767\n",
      "Aborting episode due to head being > .2m behind the pelvis (-0.20511768347224105).\n",
      "Total T: 3401 Episode Num: 219 Episode T: 43 Reward: -3.372765902019471\n",
      "-0.13663616859516903 0.06450474265009154\n",
      "Aborting episode due to head being > .2m behind the pelvis (-0.20114091124526057).\n",
      "Total T: 3415 Episode Num: 220 Episode T: 14 Reward: 35.96282342318275\n",
      "-0.14034185280436004 0.06351746421980715\n",
      "Aborting episode due to head being > .2m behind the pelvis (-0.2038593170241672).\n",
      "Total T: 3430 Episode Num: 221 Episode T: 15 Reward: 35.24652783555298\n",
      "-0.14133819730991654 0.06308652359404503\n",
      "Aborting episode due to head being > .2m behind the pelvis (-0.20442472090396158).\n",
      "Total T: 3444 Episode Num: 222 Episode T: 14 Reward: 36.37954825290752\n",
      "-0.13600016706087567 0.06718074066709752\n",
      "Aborting episode due to head being > .2m behind the pelvis (-0.2031809077279732).\n",
      "Total T: 3456 Episode Num: 223 Episode T: 12 Reward: 38.28563930009012\n",
      "-0.13676594102362594 0.06701582538839113\n",
      "Aborting episode due to head being > .2m behind the pelvis (-0.20378176641201706).\n",
      "Total T: 3468 Episode Num: 224 Episode T: 12 Reward: 38.13567107361895\n",
      "-0.14679448449878157 0.06063341858651565\n",
      "Aborting episode due to head being > .2m behind the pelvis (-0.20742790308529724).\n",
      "Total T: 3484 Episode Num: 225 Episode T: 16 Reward: 35.23485678961315\n",
      "-0.14277042188272948 0.05835399837992101\n",
      "Aborting episode due to head being > .2m behind the pelvis (-0.20112442026265048).\n",
      "Total T: 3498 Episode Num: 226 Episode T: 14 Reward: 33.525096163992984\n",
      "-0.14148745282703448 0.06428431695896228\n",
      "Aborting episode due to head being > .2m behind the pelvis (-0.20577176978599676).\n",
      "Total T: 3509 Episode Num: 227 Episode T: 11 Reward: 35.83447420660072\n",
      "-0.15243726706907268 0.05816375505980775\n",
      "Aborting episode due to head being > .2m behind the pelvis (-0.21060102212888043).\n",
      "Total T: 3524 Episode Num: 228 Episode T: 15 Reward: 34.2316088034394\n",
      "-0.1490462440173159 0.06068469611373666\n",
      "Aborting episode due to head being > .2m behind the pelvis (-0.20973094013105256).\n",
      "Total T: 3539 Episode Num: 229 Episode T: 15 Reward: 34.674754851472585\n",
      "-0.14175629084275748 0.06466714107038762\n",
      "Aborting episode due to head being > .2m behind the pelvis (-0.2064234319131451).\n",
      "Total T: 3554 Episode Num: 230 Episode T: 15 Reward: 36.68275244745282\n",
      "-0.14576904210332134 0.06880579357574826\n",
      "Aborting episode due to head being > .2m behind the pelvis (-0.2145748356790696).\n",
      "Total T: 3569 Episode Num: 231 Episode T: 15 Reward: 39.358905385654005\n",
      "-0.14648202385320283 0.05425960748352962\n",
      "Aborting episode due to head being > .2m behind the pelvis (-0.20074163133673245).\n",
      "Total T: 3587 Episode Num: 232 Episode T: 18 Reward: 31.95494460430656\n",
      "-0.14715997816155488 0.07071844860597634\n",
      "Aborting episode due to head being > .2m behind the pelvis (-0.21787842676753122).\n",
      "Total T: 3600 Episode Num: 233 Episode T: 13 Reward: 39.62748519997614\n",
      "-0.14145810333250433 0.06080227286866951\n",
      "Aborting episode due to head being > .2m behind the pelvis (-0.20226037620117385).\n",
      "Total T: 3616 Episode Num: 234 Episode T: 16 Reward: 34.447088235485644\n",
      "-0.17357187844553718 0.030678808355458394\n",
      "Aborting episode due to head being > .2m behind the pelvis (-0.20425068680099556).\n",
      "Total T: 3637 Episode Num: 235 Episode T: 21 Reward: 15.952953388207177\n",
      "-0.1433765249230249 0.06627593722061938\n",
      "Aborting episode due to head being > .2m behind the pelvis (-0.2096524621436443).\n",
      "Total T: 3653 Episode Num: 236 Episode T: 16 Reward: 38.186074467830956\n",
      "-0.14119280666937245 0.07056421265643242\n",
      "Aborting episode due to head being > .2m behind the pelvis (-0.21175701932580487).\n",
      "Total T: 3667 Episode Num: 237 Episode T: 14 Reward: 39.394090397119\n",
      "-0.13719557503840024 0.06932818475557448\n",
      "Aborting episode due to head being > .2m behind the pelvis (-0.20652375979397472).\n",
      "Total T: 3678 Episode Num: 238 Episode T: 11 Reward: 37.15519445377779\n",
      "-0.1425660315346115 0.0612372976197299\n",
      "Aborting episode due to head being > .2m behind the pelvis (-0.2038033291543414).\n",
      "Total T: 3691 Episode Num: 239 Episode T: 13 Reward: 35.06543532867783\n",
      "-0.13993081562451354 0.06240800602965023\n",
      "Aborting episode due to head being > .2m behind the pelvis (-0.20233882165416378).\n",
      "Total T: 3703 Episode Num: 240 Episode T: 12 Reward: 34.994204167580726\n",
      "-0.14642488898231648 0.05990164165062687\n",
      "Aborting episode due to head being > .2m behind the pelvis (-0.20632653063294334).\n",
      "Total T: 3719 Episode Num: 241 Episode T: 16 Reward: 34.69779750081454\n",
      "-0.1386405680969046 0.06420219467183495\n",
      "Aborting episode due to head being > .2m behind the pelvis (-0.20284276276873953).\n",
      "Total T: 3731 Episode Num: 242 Episode T: 12 Reward: 36.381150754145615\n",
      "-0.14576883492622714 0.06433463790164885\n",
      "Aborting episode due to head being > .2m behind the pelvis (-0.210103472827876).\n",
      "Total T: 3744 Episode Num: 243 Episode T: 13 Reward: 36.82793298652271\n",
      "-0.1580291862661495 0.05740465548035092\n",
      "Aborting episode due to head being > .2m behind the pelvis (-0.21543384174650043).\n",
      "Total T: 3765 Episode Num: 244 Episode T: 21 Reward: 33.61205055188874\n",
      "-0.1396342596249215 0.0609862601253172\n",
      "Aborting episode due to head being > .2m behind the pelvis (-0.2006205197502387).\n",
      "Total T: 3776 Episode Num: 245 Episode T: 11 Reward: 34.34248684719218\n",
      "-0.14971139371130848 0.05523585515486301\n",
      "Aborting episode due to head being > .2m behind the pelvis (-0.2049472488661715).\n",
      "Total T: 3791 Episode Num: 246 Episode T: 15 Reward: 32.56315684207638\n",
      "-0.1376714586045375 0.06755639758774849\n",
      "Aborting episode due to head being > .2m behind the pelvis (-0.205227856192286).\n",
      "Total T: 3800 Episode Num: 247 Episode T: 9 Reward: 37.304237892487514\n",
      "-0.16215089170020908 0.048991743972124926\n",
      "Aborting episode due to head being > .2m behind the pelvis (-0.211142635672334).\n",
      "Total T: 3822 Episode Num: 248 Episode T: 22 Reward: 28.59117128597101\n",
      "-0.14611611373924685 0.06950151546958894\n",
      "Aborting episode due to head being > .2m behind the pelvis (-0.2156176292088358).\n",
      "Total T: 3834 Episode Num: 249 Episode T: 12 Reward: 38.99861828649205\n",
      "-0.14642518865082904 0.059074501905227485\n",
      "Aborting episode due to head being > .2m behind the pelvis (-0.20549969055605652).\n",
      "Total T: 3850 Episode Num: 250 Episode T: 16 Reward: 34.05266468127088\n",
      "-0.14482131031556356 0.07117510028471177\n",
      "Aborting episode due to head being > .2m behind the pelvis (-0.21599641060027533).\n",
      "Total T: 3862 Episode Num: 251 Episode T: 12 Reward: 39.54805234882032\n",
      "-0.14739218242046634 0.06865853083796046\n",
      "Aborting episode due to head being > .2m behind the pelvis (-0.21605071325842679).\n",
      "Total T: 3874 Episode Num: 252 Episode T: 12 Reward: 37.6976124592828\n",
      "-0.15001871737161382 0.059261691060965044\n",
      "Aborting episode due to head being > .2m behind the pelvis (-0.20928040843257886).\n",
      "Total T: 3888 Episode Num: 253 Episode T: 14 Reward: 34.533615821406514\n",
      "-0.1546444047263833 0.05836712623828976\n",
      "Aborting episode due to head being > .2m behind the pelvis (-0.21301153096467307).\n",
      "Total T: 3902 Episode Num: 254 Episode T: 14 Reward: 33.7435752809048\n",
      "-0.1378620896061922 0.07258559276004461\n",
      "Aborting episode due to head being > .2m behind the pelvis (-0.21044768236623682).\n",
      "Total T: 3913 Episode Num: 255 Episode T: 11 Reward: 39.653546272842654\n",
      "-0.14695802671024413 0.0697030273219308\n",
      "Aborting episode due to head being > .2m behind the pelvis (-0.21666105403217495).\n",
      "Total T: 3923 Episode Num: 256 Episode T: 10 Reward: 38.524790965129554\n",
      "-0.15411850056910315 0.06211303308328734\n",
      "Aborting episode due to head being > .2m behind the pelvis (-0.21623153365239048).\n",
      "Total T: 3937 Episode Num: 257 Episode T: 14 Reward: 35.16478222010393\n"
     ]
    },
    {
     "name": "stdout",
     "output_type": "stream",
     "text": [
      "-0.14668639793881683 0.05495822333388188\n",
      "Aborting episode due to head being > .2m behind the pelvis (-0.20164462127269872).\n",
      "Total T: 3952 Episode Num: 258 Episode T: 15 Reward: 31.721475857769104\n",
      "-0.14739734110704963 0.058262083765312535\n",
      "Aborting episode due to head being > .2m behind the pelvis (-0.20565942487236216).\n",
      "Total T: 3966 Episode Num: 259 Episode T: 14 Reward: 32.803838017093526\n",
      "-0.1517229348308149 0.0613730183906233\n",
      "Aborting episode due to head being > .2m behind the pelvis (-0.2130959532214382).\n",
      "Total T: 3980 Episode Num: 260 Episode T: 14 Reward: 35.29806770236678\n",
      "-0.13839344123670766 0.06656222731531765\n",
      "Aborting episode due to head being > .2m behind the pelvis (-0.2049556685520253).\n",
      "Total T: 3990 Episode Num: 261 Episode T: 10 Reward: 36.21429243562168\n",
      "-0.14717596450082363 0.06917027134317981\n",
      "Aborting episode due to head being > .2m behind the pelvis (-0.21634623584400342).\n",
      "Total T: 4003 Episode Num: 262 Episode T: 13 Reward: 39.391652347745946\n",
      "-0.15662868317023465 0.04551306871722017\n",
      "Aborting episode due to head being > .2m behind the pelvis (-0.2021417518874548).\n",
      "Total T: 4022 Episode Num: 263 Episode T: 19 Reward: 27.226287265039993\n",
      "-0.19779676373667232 0.013029387868480185\n",
      "Aborting episode due to head being > .2m behind the pelvis (-0.2108261516051525).\n",
      "Total T: 4059 Episode Num: 264 Episode T: 37 Reward: 6.743727074718222\n",
      "-0.14701559345998366 0.0630326114537922\n",
      "Aborting episode due to head being > .2m behind the pelvis (-0.21004820491377585).\n",
      "Total T: 4074 Episode Num: 265 Episode T: 15 Reward: 36.36660428109982\n",
      "-0.14640287014902495 0.06902459146487001\n",
      "Aborting episode due to head being > .2m behind the pelvis (-0.21542746161389498).\n",
      "Total T: 4085 Episode Num: 266 Episode T: 11 Reward: 38.37868431322067\n",
      "-0.1464080333600433 0.06436519003006802\n",
      "Aborting episode due to head being > .2m behind the pelvis (-0.21077322339011131).\n",
      "Total T: 4099 Episode Num: 267 Episode T: 14 Reward: 35.711643571094605\n",
      "-0.14762206766173586 0.07664734167746722\n",
      "Aborting episode due to head being > .2m behind the pelvis (-0.22426940933920309).\n",
      "Total T: 4108 Episode Num: 268 Episode T: 9 Reward: 40.8515950499091\n",
      "-0.14161694159642918 0.06565422742695118\n",
      "Aborting episode due to head being > .2m behind the pelvis (-0.20727116902338036).\n",
      "Total T: 4120 Episode Num: 269 Episode T: 12 Reward: 37.29057995840037\n",
      "-0.1437451467088655 0.06434951067793829\n",
      "Aborting episode due to head being > .2m behind the pelvis (-0.2080946573868038).\n",
      "Total T: 4131 Episode Num: 270 Episode T: 11 Reward: 36.2506734420345\n",
      "-0.14312298942379825 0.061672278706907155\n",
      "Aborting episode due to head being > .2m behind the pelvis (-0.20479526813070542).\n",
      "Total T: 4146 Episode Num: 271 Episode T: 15 Reward: 34.91483055414515\n",
      "-0.14245652651583357 0.0698801425792285\n",
      "Aborting episode due to head being > .2m behind the pelvis (-0.21233666909506207).\n",
      "Total T: 4158 Episode Num: 272 Episode T: 12 Reward: 38.75643754180007\n",
      "-0.14203949317516526 0.06119535781137215\n",
      "Aborting episode due to head being > .2m behind the pelvis (-0.2032348509865374).\n",
      "Total T: 4172 Episode Num: 273 Episode T: 14 Reward: 34.89830669675884\n",
      "-0.14803708313280173 0.060284901238124654\n",
      "Aborting episode due to head being > .2m behind the pelvis (-0.2083219843709264).\n",
      "Total T: 4184 Episode Num: 274 Episode T: 12 Reward: 34.4472662136038\n",
      "-0.18231036389679534 0.020131693571225597\n",
      "Aborting episode due to head being > .2m behind the pelvis (-0.20244205746802094).\n",
      "Total T: 4215 Episode Num: 275 Episode T: 31 Reward: 8.717039452413033\n",
      "-0.1522128874327197 0.04859252365980637\n",
      "Aborting episode due to head being > .2m behind the pelvis (-0.2008054110925261).\n",
      "Total T: 4233 Episode Num: 276 Episode T: 18 Reward: 27.63244408095468\n",
      "-0.1506101542308393 0.0543634499306531\n",
      "Aborting episode due to head being > .2m behind the pelvis (-0.20497360416149238).\n",
      "Total T: 4251 Episode Num: 277 Episode T: 18 Reward: 30.243900785079354\n",
      "-0.14918796567967543 0.06443113336094224\n",
      "Aborting episode due to head being > .2m behind the pelvis (-0.21361909904061765).\n",
      "Total T: 4262 Episode Num: 278 Episode T: 11 Reward: 36.75574675431154\n",
      "-0.14463847380257017 0.06507660101112507\n",
      "Aborting episode due to head being > .2m behind the pelvis (-0.20971507481369522).\n",
      "Total T: 4275 Episode Num: 279 Episode T: 13 Reward: 37.02678097132519\n",
      "-0.13895924162221673 0.07419321992336618\n",
      "Aborting episode due to head being > .2m behind the pelvis (-0.21315246154558293).\n",
      "Total T: 4288 Episode Num: 280 Episode T: 13 Reward: 40.94525612968013\n",
      "-0.20222765203531723 0.008641262207472621\n",
      "Aborting episode due to head being > .2m behind the pelvis (-0.21086891424278986).\n",
      "Total T: 4318 Episode Num: 281 Episode T: 30 Reward: 2.6455469707488195\n",
      "-0.14131647540819103 0.07040563941124318\n",
      "Aborting episode due to head being > .2m behind the pelvis (-0.2117221148194342).\n",
      "Total T: 4329 Episode Num: 282 Episode T: 11 Reward: 38.75491015424863\n",
      "-0.1385593636968599 0.062213601934850586\n",
      "Aborting episode due to head being > .2m behind the pelvis (-0.2007729656317105).\n",
      "Total T: 4345 Episode Num: 283 Episode T: 16 Reward: 35.89501932872185\n",
      "-0.19369337223669075 0.009945514608651429\n",
      "Aborting episode due to head being > .2m behind the pelvis (-0.20363888684534218).\n",
      "Total T: 4372 Episode Num: 284 Episode T: 27 Reward: 5.23707341134037\n",
      "-0.15937855267192463 0.046139226692889994\n",
      "Aborting episode due to head being > .2m behind the pelvis (-0.20551777936481463).\n",
      "Total T: 4393 Episode Num: 285 Episode T: 21 Reward: 25.901819231612844\n",
      "-0.1618252099539753 0.052286918515328254\n",
      "Aborting episode due to head being > .2m behind the pelvis (-0.21411212846930355).\n",
      "Total T: 4411 Episode Num: 286 Episode T: 18 Reward: 31.007466857295988\n",
      "-0.22305988919048558 -0.020793937359510514\n",
      "Aborting episode due to head being > .2m behind the pelvis (-0.20226595183097507).\n",
      "Total T: 4446 Episode Num: 287 Episode T: 35 Reward: -14.272272456555706\n",
      "-0.23591090791497057 -0.03125042655150617\n",
      "Aborting episode due to head being > .2m behind the pelvis (-0.2046604813634644).\n",
      "Total T: 4484 Episode Num: 288 Episode T: 38 Reward: -23.011777301201796\n",
      "-0.1411306767064655 0.06462844927803607\n",
      "Aborting episode due to head being > .2m behind the pelvis (-0.20575912598450158).\n",
      "Total T: 4498 Episode Num: 289 Episode T: 14 Reward: 34.854997432935505\n",
      "Aborting episode due to head being > 0.5m away from centerline (0.5074868498790426).\n",
      "Total T: 4595 Episode Num: 290 Episode T: 97 Reward: -423.14187901375374\n",
      "-0.1402092840506206 0.0743403479414762\n",
      "Aborting episode due to head being > .2m behind the pelvis (-0.2145496319920968).\n",
      "Total T: 4604 Episode Num: 291 Episode T: 9 Reward: 39.070872424016535\n",
      "-0.15026653274202817 0.05282618356997035\n",
      "Aborting episode due to head being > .2m behind the pelvis (-0.20309271631199852).\n",
      "Total T: 4619 Episode Num: 292 Episode T: 15 Reward: 30.641035974604307\n",
      "-0.1382481363691953 0.06466754723576494\n",
      "Aborting episode due to head being > .2m behind the pelvis (-0.20291568360496026).\n",
      "Total T: 4630 Episode Num: 293 Episode T: 11 Reward: 36.627379595138784\n",
      "-0.1379256952860231 0.06854585950070391\n",
      "Aborting episode due to head being > .2m behind the pelvis (-0.20647155478672702).\n",
      "Total T: 4649 Episode Num: 294 Episode T: 19 Reward: 39.22282892244173\n",
      "-0.1453628922947046 0.0727215062103053\n",
      "Aborting episode due to head being > .2m behind the pelvis (-0.21808439850500988).\n",
      "Total T: 4661 Episode Num: 295 Episode T: 12 Reward: 40.22160464709366\n",
      "-0.147087957746 0.07203033333318626\n",
      "Aborting episode due to head being > .2m behind the pelvis (-0.21911829107918626).\n",
      "Total T: 4671 Episode Num: 296 Episode T: 10 Reward: 39.29627153947702\n",
      "-0.13947905251810833 0.06184559471259506\n",
      "Aborting episode due to head being > .2m behind the pelvis (-0.2013246472307034).\n",
      "Total T: 4685 Episode Num: 297 Episode T: 14 Reward: 35.459832112932226\n",
      "-0.15182662959765403 0.05616686345441056\n",
      "Aborting episode due to head being > .2m behind the pelvis (-0.2079934930520646).\n",
      "Total T: 4705 Episode Num: 298 Episode T: 20 Reward: 33.20634442102734\n",
      "-0.13614973238434963 0.06621724156827748\n",
      "Aborting episode due to head being > .2m behind the pelvis (-0.2023669739526271).\n",
      "Total T: 4716 Episode Num: 299 Episode T: 11 Reward: 36.663248301291574\n",
      "-0.22204959409297736 -0.02099190403841255\n",
      "Aborting episode due to head being > .2m behind the pelvis (-0.2010576900545648).\n",
      "Total T: 4750 Episode Num: 300 Episode T: 34 Reward: -15.158923095224047\n"
     ]
    },
    {
     "name": "stdout",
     "output_type": "stream",
     "text": [
      "-0.13320541973209174 0.07093742212585186\n",
      "Aborting episode due to head being > .2m behind the pelvis (-0.2041428418579436).\n",
      "Total T: 4761 Episode Num: 301 Episode T: 11 Reward: 39.42037426021604\n",
      "-0.14654169269360054 0.06628981112464029\n",
      "Aborting episode due to head being > .2m behind the pelvis (-0.21283150381824084).\n",
      "Total T: 4774 Episode Num: 302 Episode T: 13 Reward: 37.37513945661467\n",
      "-0.13690793859495895 0.07323933935752994\n",
      "Aborting episode due to head being > .2m behind the pelvis (-0.2101472779524889).\n",
      "Total T: 4785 Episode Num: 303 Episode T: 11 Reward: 40.16382940437964\n",
      "-0.13589472714211315 0.06552702923345098\n",
      "Aborting episode due to head being > .2m behind the pelvis (-0.20142175637556414).\n",
      "Total T: 4800 Episode Num: 304 Episode T: 15 Reward: 37.63004669931166\n",
      "-0.1410000572238482 0.06512279096102083\n",
      "Aborting episode due to head being > .2m behind the pelvis (-0.20612284818486903).\n",
      "Total T: 4814 Episode Num: 305 Episode T: 14 Reward: 36.22105183129365\n",
      "-0.15419643442351078 0.07337004843794216\n",
      "Aborting episode due to head being > .2m behind the pelvis (-0.22756648286145292).\n",
      "Total T: 4826 Episode Num: 306 Episode T: 12 Reward: 40.75151706872968\n",
      "-0.14396045593372928 0.06932293511458576\n",
      "Aborting episode due to head being > .2m behind the pelvis (-0.21328339104831504).\n",
      "Total T: 4838 Episode Num: 307 Episode T: 12 Reward: 38.915213899848226\n",
      "-0.1447344915906025 0.06000581203975598\n",
      "Aborting episode due to head being > .2m behind the pelvis (-0.2047403036303585).\n",
      "Total T: 4853 Episode Num: 308 Episode T: 15 Reward: 34.312824041272265\n",
      "-0.13848780034418834 0.06536517007845814\n",
      "Aborting episode due to head being > .2m behind the pelvis (-0.2038529704226465).\n",
      "Total T: 4865 Episode Num: 309 Episode T: 12 Reward: 37.126758562108705\n",
      "-0.1428854730857808 0.06673118030956\n",
      "Aborting episode due to head being > .2m behind the pelvis (-0.2096166533953408).\n",
      "Total T: 4876 Episode Num: 310 Episode T: 11 Reward: 36.6772004959948\n",
      "-0.13511278492056755 0.06522285047638803\n",
      "Aborting episode due to head being > .2m behind the pelvis (-0.2003356353969556).\n",
      "Total T: 4888 Episode Num: 311 Episode T: 12 Reward: 37.2007905789214\n",
      "-0.1397359502770908 0.0635465298944202\n",
      "Aborting episode due to head being > .2m behind the pelvis (-0.203282480171511).\n",
      "Total T: 4899 Episode Num: 312 Episode T: 11 Reward: 35.61637730549516\n",
      "-0.15009545638274566 0.06106623197801234\n",
      "Aborting episode due to head being > .2m behind the pelvis (-0.211161688360758).\n",
      "Total T: 4917 Episode Num: 313 Episode T: 18 Reward: 35.813381879481355\n",
      "-0.1725166834214284 0.04349924479857989\n",
      "Aborting episode due to head being > .2m behind the pelvis (-0.21601592822000829).\n",
      "Total T: 4941 Episode Num: 314 Episode T: 24 Reward: 25.863166550835764\n",
      "-0.14837039489014298 0.07413181308361036\n",
      "Aborting episode due to head being > .2m behind the pelvis (-0.22250220797375334).\n",
      "Total T: 4957 Episode Num: 315 Episode T: 16 Reward: 41.968053823152275\n",
      "-0.14279896204352088 0.06158104726263072\n",
      "Aborting episode due to head being > .2m behind the pelvis (-0.2043800093061516).\n",
      "Total T: 4968 Episode Num: 316 Episode T: 11 Reward: 34.529685960960094\n",
      "-0.14588111954609917 0.06048987380623779\n",
      "Aborting episode due to head being > .2m behind the pelvis (-0.20637099335233697).\n",
      "Total T: 4985 Episode Num: 317 Episode T: 17 Reward: 35.140472491992064\n",
      "-0.14535080488168367 0.06699672400030628\n",
      "Aborting episode due to head being > .2m behind the pelvis (-0.21234752888198993).\n",
      "Total T: 4996 Episode Num: 318 Episode T: 11 Reward: 37.30978267390636\n",
      "-0.15824315301325226 0.04203769594235289\n",
      "Aborting episode due to head being > .2m behind the pelvis (-0.20028084895560516).\n",
      "Total T: 5015 Episode Num: 319 Episode T: 19 Reward: 22.98776487523572\n"
     ]
    },
    {
     "name": "stderr",
     "output_type": "stream",
     "text": [
      "Train model: 100%|██████████| 19/19 [00:08<00:00,  2.26batch/s]\n",
      "Evaluating policy: 100%|██████████| 10/10 [03:52<00:00, 23.50s/episode]\n",
      "/home/ubuntu/.local/share/virtualenvs/nips-2018-ai-for-prosthetics-fCqIkKV7/lib/python3.6/site-packages/pandas/core/generic.py:1996: PerformanceWarning: \n",
      "your performance may suffer as PyTables will pickle object types that it cannot\n",
      "map directly to c-types [inferred_type->mixed-integer,key->block0_values] [items->['episode_uuid', 'i_step', 'action', 'obs', 'reward', 'done', 'info']]\n",
      "\n",
      "  return pytables.to_hdf(path_or_buf, key, self, **kwargs)\n"
     ]
    },
    {
     "name": "stdout",
     "output_type": "stream",
     "text": [
      "---------------------------------------\n",
      "Evaluation over 10 episodes: -355.813508\n",
      "---------------------------------------\n",
      "Total T: 5084 Episode Num: 320 Episode T: 69 Reward: -362.8526506398118\n"
     ]
    },
    {
     "name": "stderr",
     "output_type": "stream",
     "text": [
      "Train model: 100%|██████████| 69/69 [00:33<00:00,  2.12batch/s]\n"
     ]
    },
    {
     "name": "stdout",
     "output_type": "stream",
     "text": [
      "-0.47073989734265154 -0.2698600239285581\n",
      "Aborting episode due to head being > .2m behind the pelvis (-0.2008798734140934).\n",
      "Total T: 5193 Episode Num: 321 Episode T: 109 Reward: -177.5655357119931\n"
     ]
    },
    {
     "name": "stderr",
     "output_type": "stream",
     "text": [
      "Train model: 100%|██████████| 109/109 [00:54<00:00,  2.07batch/s]\n"
     ]
    },
    {
     "name": "stdout",
     "output_type": "stream",
     "text": [
      "Aborting episode due to head being > 0.5m away from centerline (0.5118540948610792).\n",
      "Total T: 5273 Episode Num: 322 Episode T: 80 Reward: -285.33536162450474\n"
     ]
    },
    {
     "name": "stderr",
     "output_type": "stream",
     "text": [
      "Train model: 100%|██████████| 80/80 [00:39<00:00,  2.08batch/s]\n"
     ]
    },
    {
     "name": "stdout",
     "output_type": "stream",
     "text": [
      "-0.5010674394403609 -0.2948673851279803\n",
      "Aborting episode due to head being > .2m behind the pelvis (-0.20620005431238064).\n",
      "Total T: 5351 Episode Num: 323 Episode T: 78 Reward: -200.467297058775\n"
     ]
    },
    {
     "name": "stderr",
     "output_type": "stream",
     "text": [
      "Train model: 100%|██████████| 78/78 [00:39<00:00,  2.07batch/s]\n"
     ]
    },
    {
     "name": "stdout",
     "output_type": "stream",
     "text": [
      "Aborting episode due to head being > 0.5m away from centerline (0.5065480627087413).\n",
      "Total T: 5429 Episode Num: 324 Episode T: 78 Reward: -71.83931703271487\n"
     ]
    },
    {
     "name": "stderr",
     "output_type": "stream",
     "text": [
      "Train model: 100%|██████████| 78/78 [00:39<00:00,  1.73batch/s]\n"
     ]
    },
    {
     "name": "stdout",
     "output_type": "stream",
     "text": [
      "Aborting episode due to head being > 0.5m away from centerline (0.5038035625096947).\n",
      "Total T: 5558 Episode Num: 325 Episode T: 129 Reward: -248.95828143905135\n"
     ]
    },
    {
     "name": "stderr",
     "output_type": "stream",
     "text": [
      "Train model: 100%|██████████| 129/129 [01:05<00:00,  1.94batch/s]\n"
     ]
    },
    {
     "name": "stdout",
     "output_type": "stream",
     "text": [
      "Aborting episode due to head being > 0.5m away from centerline (0.5129665290333216).\n",
      "Total T: 5634 Episode Num: 326 Episode T: 76 Reward: -142.6881445397413\n"
     ]
    },
    {
     "name": "stderr",
     "output_type": "stream",
     "text": [
      "Train model: 100%|██████████| 76/76 [00:39<00:00,  2.00batch/s]\n"
     ]
    },
    {
     "name": "stdout",
     "output_type": "stream",
     "text": [
      "-0.4176020156636406 -0.21662851013185122\n",
      "Aborting episode due to head being > .2m behind the pelvis (-0.20097350553178936).\n",
      "Total T: 5717 Episode Num: 327 Episode T: 83 Reward: -144.40172779774622\n"
     ]
    },
    {
     "name": "stderr",
     "output_type": "stream",
     "text": [
      "Train model: 100%|██████████| 83/83 [00:42<00:00,  2.00batch/s]\n"
     ]
    },
    {
     "name": "stdout",
     "output_type": "stream",
     "text": [
      "-0.13325082621462347 0.06857233159512181\n",
      "Aborting episode due to head being > .2m behind the pelvis (-0.2018231578097453).\n",
      "Total T: 5732 Episode Num: 328 Episode T: 15 Reward: 38.70219064661516\n"
     ]
    },
    {
     "name": "stderr",
     "output_type": "stream",
     "text": [
      "Train model: 100%|██████████| 15/15 [00:07<00:00,  1.96batch/s]\n"
     ]
    },
    {
     "name": "stdout",
     "output_type": "stream",
     "text": [
      "Aborting episode due to head being > 0.5m away from centerline (0.5083410381811286).\n",
      "Total T: 5805 Episode Num: 329 Episode T: 73 Reward: -209.78270911551354\n"
     ]
    },
    {
     "name": "stderr",
     "output_type": "stream",
     "text": [
      "Train model: 100%|██████████| 73/73 [00:39<00:00,  1.83batch/s]\n"
     ]
    },
    {
     "name": "stdout",
     "output_type": "stream",
     "text": [
      "Aborting episode due to head being > 0.5m away from centerline (0.5089187869212283).\n",
      "Total T: 5917 Episode Num: 330 Episode T: 112 Reward: -123.78735029289824\n"
     ]
    },
    {
     "name": "stderr",
     "output_type": "stream",
     "text": [
      "Train model: 100%|██████████| 112/112 [01:03<00:00,  1.85batch/s]\n"
     ]
    },
    {
     "name": "stdout",
     "output_type": "stream",
     "text": [
      "-0.35899853577575336 -0.15650550022726029\n",
      "Aborting episode due to head being > .2m behind the pelvis (-0.20249303554849307).\n",
      "Total T: 6023 Episode Num: 331 Episode T: 106 Reward: -106.0572263279837\n"
     ]
    },
    {
     "name": "stderr",
     "output_type": "stream",
     "text": [
      "Train model: 100%|██████████| 106/106 [00:59<00:00,  1.86batch/s]\n"
     ]
    },
    {
     "name": "stdout",
     "output_type": "stream",
     "text": [
      "-0.4435250689251402 -0.24182433315532129\n",
      "Aborting episode due to head being > .2m behind the pelvis (-0.20170073576981892).\n",
      "Total T: 6105 Episode Num: 332 Episode T: 82 Reward: -163.6778501760451\n"
     ]
    },
    {
     "name": "stderr",
     "output_type": "stream",
     "text": [
      "Train model: 100%|██████████| 82/82 [00:45<00:00,  1.79batch/s]\n"
     ]
    },
    {
     "name": "stdout",
     "output_type": "stream",
     "text": [
      "-0.33618916255883224 -0.13564965220445802\n",
      "Aborting episode due to head being > .2m behind the pelvis (-0.20053951035437423).\n",
      "Total T: 6174 Episode Num: 333 Episode T: 69 Reward: -89.83749777308388\n"
     ]
    },
    {
     "name": "stderr",
     "output_type": "stream",
     "text": [
      "Train model: 100%|██████████| 69/69 [00:38<00:00,  1.83batch/s]\n"
     ]
    },
    {
     "name": "stdout",
     "output_type": "stream",
     "text": [
      "-0.6269042692112993 -0.42305650381625953\n",
      "Aborting episode due to head being > .2m behind the pelvis (-0.20384776539503974).\n",
      "Total T: 6261 Episode Num: 334 Episode T: 87 Reward: -288.6142378801695\n"
     ]
    },
    {
     "name": "stderr",
     "output_type": "stream",
     "text": [
      "Train model: 100%|██████████| 87/87 [00:49<00:00,  1.78batch/s]\n"
     ]
    },
    {
     "name": "stdout",
     "output_type": "stream",
     "text": [
      "Aborting episode due to head being > 0.5m away from centerline (0.5080275222875594).\n",
      "Total T: 6375 Episode Num: 335 Episode T: 114 Reward: -159.30098902111345\n"
     ]
    },
    {
     "name": "stderr",
     "output_type": "stream",
     "text": [
      "Train model: 100%|██████████| 114/114 [01:05<00:00,  1.78batch/s]\n"
     ]
    },
    {
     "name": "stdout",
     "output_type": "stream",
     "text": [
      "Aborting episode due to head being > 0.5m away from centerline (0.5069005176837501).\n",
      "Total T: 6464 Episode Num: 336 Episode T: 89 Reward: -145.97249589494572\n"
     ]
    },
    {
     "name": "stderr",
     "output_type": "stream",
     "text": [
      "Train model: 100%|██████████| 89/89 [00:52<00:00,  1.63batch/s]\n"
     ]
    },
    {
     "name": "stdout",
     "output_type": "stream",
     "text": [
      "Total T: 6529 Episode Num: 337 Episode T: 65 Reward: -352.67211626816953\n"
     ]
    },
    {
     "name": "stderr",
     "output_type": "stream",
     "text": [
      "Train model: 100%|██████████| 65/65 [00:38<00:00,  1.74batch/s]\n"
     ]
    },
    {
     "name": "stdout",
     "output_type": "stream",
     "text": [
      "-0.481692383714693 -0.27763039010961643\n",
      "Aborting episode due to head being > .2m behind the pelvis (-0.20406199360507654).\n",
      "Total T: 6610 Episode Num: 338 Episode T: 81 Reward: -187.63806372215453\n"
     ]
    },
    {
     "name": "stderr",
     "output_type": "stream",
     "text": [
      "Train model: 100%|██████████| 81/81 [00:47<00:00,  1.73batch/s]\n"
     ]
    },
    {
     "name": "stdout",
     "output_type": "stream",
     "text": [
      "Total T: 6679 Episode Num: 339 Episode T: 69 Reward: -380.54246791408497\n"
     ]
    },
    {
     "name": "stderr",
     "output_type": "stream",
     "text": [
      "Train model: 100%|██████████| 69/69 [00:40<00:00,  1.71batch/s]\n"
     ]
    },
    {
     "name": "stdout",
     "output_type": "stream",
     "text": [
      "-0.5932732185905103 -0.3891248545204107\n",
      "Aborting episode due to head being > .2m behind the pelvis (-0.20414836407009962).\n",
      "Total T: 6773 Episode Num: 340 Episode T: 94 Reward: -262.95449478382176\n"
     ]
    },
    {
     "name": "stderr",
     "output_type": "stream",
     "text": [
      "Train model: 100%|██████████| 94/94 [00:55<00:00,  1.76batch/s]\n"
     ]
    },
    {
     "name": "stdout",
     "output_type": "stream",
     "text": [
      "Aborting episode due to head being > 0.5m away from centerline (0.5082405642969245).\n",
      "Total T: 6873 Episode Num: 341 Episode T: 100 Reward: -150.78158593792065\n"
     ]
    },
    {
     "name": "stderr",
     "output_type": "stream",
     "text": [
      "Train model: 100%|██████████| 100/100 [00:59<00:00,  1.74batch/s]\n"
     ]
    },
    {
     "name": "stdout",
     "output_type": "stream",
     "text": [
      "Aborting episode due to custom reward < -10 (-73.11885050653228):\n",
      "  reward `lean_forward_x` = -2.127979654407268\n",
      "  reward `low_y_vel_pros_foot_r` = -215.876908746171\n",
      "Total T: 6885 Episode Num: 342 Episode T: 12 Reward: 28.94654853500751\n"
     ]
    },
    {
     "name": "stderr",
     "output_type": "stream",
     "text": [
      "Train model: 100%|██████████| 12/12 [00:06<00:00,  1.76batch/s]\n"
     ]
    },
    {
     "name": "stdout",
     "output_type": "stream",
     "text": [
      "-0.13971158072487044 0.06444212332338842\n",
      "Aborting episode due to head being > .2m behind the pelvis (-0.20415370404825886).\n",
      "Total T: 6898 Episode Num: 343 Episode T: 13 Reward: 36.78266009868168\n"
     ]
    },
    {
     "name": "stderr",
     "output_type": "stream",
     "text": [
      "Train model: 100%|██████████| 13/13 [00:08<00:00,  1.72batch/s]\n"
     ]
    },
    {
     "name": "stdout",
     "output_type": "stream",
     "text": [
      "-0.43954605341355046 -0.23866136722368797\n",
      "Aborting episode due to head being > .2m behind the pelvis (-0.2008846861898625).\n",
      "Total T: 6995 Episode Num: 344 Episode T: 97 Reward: -160.8034068127665\n"
     ]
    },
    {
     "name": "stderr",
     "output_type": "stream",
     "text": [
      "Train model: 100%|██████████| 97/97 [00:57<00:00,  1.72batch/s]\n"
     ]
    },
    {
     "name": "stdout",
     "output_type": "stream",
     "text": [
      "-0.48466175264362893 -0.279191534217417\n",
      "Aborting episode due to head being > .2m behind the pelvis (-0.20547021842621194).\n",
      "Total T: 7096 Episode Num: 345 Episode T: 101 Reward: -185.8406832121635\n"
     ]
    },
    {
     "name": "stderr",
     "output_type": "stream",
     "text": [
      "Train model: 100%|██████████| 101/101 [01:00<00:00,  1.70batch/s]\n"
     ]
    },
    {
     "name": "stdout",
     "output_type": "stream",
     "text": [
      "Aborting episode due to head being > 0.5m away from centerline (0.512198709559291).\n",
      "Total T: 7285 Episode Num: 346 Episode T: 189 Reward: 28.48108089283486\n"
     ]
    },
    {
     "name": "stderr",
     "output_type": "stream",
     "text": [
      "Train model: 100%|██████████| 189/189 [01:54<00:00,  1.69batch/s]\n"
     ]
    },
    {
     "name": "stdout",
     "output_type": "stream",
     "text": [
      "-0.4436470930908668 -0.2420688524077932\n",
      "Aborting episode due to head being > .2m behind the pelvis (-0.20157824068307362).\n",
      "Total T: 7394 Episode Num: 347 Episode T: 109 Reward: -161.15605113067008\n"
     ]
    },
    {
     "name": "stderr",
     "output_type": "stream",
     "text": [
      "Train model: 100%|██████████| 109/109 [01:06<00:00,  1.68batch/s]\n"
     ]
    },
    {
     "name": "stdout",
     "output_type": "stream",
     "text": [
      "Aborting episode due to head being > 0.5m away from centerline (0.5079643149384292).\n",
      "Total T: 7482 Episode Num: 348 Episode T: 88 Reward: -153.3071777656132\n"
     ]
    },
    {
     "name": "stderr",
     "output_type": "stream",
     "text": [
      "Train model: 100%|██████████| 88/88 [00:53<00:00,  1.69batch/s]\n"
     ]
    },
    {
     "name": "stdout",
     "output_type": "stream",
     "text": [
      "-0.5355065300302346 -0.3346407738911831\n",
      "Aborting episode due to head being > .2m behind the pelvis (-0.20086575613905155).\n",
      "Total T: 7581 Episode Num: 349 Episode T: 99 Reward: -223.46268542338075\n"
     ]
    },
    {
     "name": "stderr",
     "output_type": "stream",
     "text": [
      "Train model: 100%|██████████| 99/99 [01:00<00:00,  1.69batch/s]\n"
     ]
    },
    {
     "name": "stdout",
     "output_type": "stream",
     "text": [
      "-0.4754705366157462 -0.27250220318930163\n",
      "Aborting episode due to head being > .2m behind the pelvis (-0.20296833342644455).\n",
      "Total T: 7699 Episode Num: 350 Episode T: 118 Reward: -177.26033302686616\n"
     ]
    },
    {
     "name": "stderr",
     "output_type": "stream",
     "text": [
      "Train model: 100%|██████████| 118/118 [01:13<00:00,  1.29batch/s]\n"
     ]
    },
    {
     "name": "stdout",
     "output_type": "stream",
     "text": [
      "Aborting episode due to head being > 0.5m away from centerline (0.5077666210601949).\n",
      "Total T: 7794 Episode Num: 351 Episode T: 95 Reward: -126.55942799916102\n"
     ]
    },
    {
     "name": "stderr",
     "output_type": "stream",
     "text": [
      "Train model: 100%|██████████| 95/95 [00:58<00:00,  1.65batch/s]\n"
     ]
    },
    {
     "name": "stdout",
     "output_type": "stream",
     "text": [
      "Aborting episode due to head being > 0.5m away from centerline (0.5075456713511849).\n",
      "Total T: 7892 Episode Num: 352 Episode T: 98 Reward: -56.64205223396273\n"
     ]
    },
    {
     "name": "stderr",
     "output_type": "stream",
     "text": [
      "Train model: 100%|██████████| 98/98 [01:00<00:00,  1.69batch/s]\n"
     ]
    },
    {
     "name": "stdout",
     "output_type": "stream",
     "text": [
      "Aborting episode due to head being > 0.5m away from centerline (0.502195383701156).\n",
      "Total T: 7978 Episode Num: 353 Episode T: 86 Reward: -86.408588120004\n"
     ]
    },
    {
     "name": "stderr",
     "output_type": "stream",
     "text": [
      "Train model: 100%|██████████| 86/86 [00:53<00:00,  1.67batch/s]\n"
     ]
    },
    {
     "name": "stdout",
     "output_type": "stream",
     "text": [
      "Aborting episode due to head being > 0.5m away from centerline (0.5057361677752383).\n",
      "Total T: 8095 Episode Num: 354 Episode T: 117 Reward: -77.51816483292315\n"
     ]
    },
    {
     "name": "stderr",
     "output_type": "stream",
     "text": [
      "Train model: 100%|██████████| 117/117 [01:13<00:00,  1.64batch/s]\n"
     ]
    },
    {
     "name": "stdout",
     "output_type": "stream",
     "text": [
      "Aborting episode due to head being > 0.5m away from centerline (0.5013913489758944).\n",
      "Total T: 8266 Episode Num: 355 Episode T: 171 Reward: 10.573585914824053\n"
     ]
    },
    {
     "name": "stderr",
     "output_type": "stream",
     "text": [
      "Train model: 100%|██████████| 171/171 [01:48<00:00,  1.59batch/s]\n"
     ]
    },
    {
     "name": "stdout",
     "output_type": "stream",
     "text": [
      "Aborting episode due to head being > 0.5m away from centerline (0.5077293178417276).\n",
      "Total T: 8380 Episode Num: 356 Episode T: 114 Reward: -82.61985642495672\n"
     ]
    },
    {
     "name": "stderr",
     "output_type": "stream",
     "text": [
      "Train model: 100%|██████████| 114/114 [01:12<00:00,  1.47batch/s]\n"
     ]
    },
    {
     "name": "stdout",
     "output_type": "stream",
     "text": [
      "-0.32868063462203767 -0.12701258946222552\n",
      "Aborting episode due to head being > .2m behind the pelvis (-0.20166804515981215).\n",
      "Total T: 8446 Episode Num: 357 Episode T: 66 Reward: -83.8004686736069\n"
     ]
    },
    {
     "name": "stderr",
     "output_type": "stream",
     "text": [
      "Train model: 100%|██████████| 66/66 [00:42<00:00,  1.61batch/s]\n"
     ]
    },
    {
     "name": "stdout",
     "output_type": "stream",
     "text": [
      "Aborting episode due to head being > 0.5m away from centerline (0.5068193970646132).\n",
      "Total T: 8547 Episode Num: 358 Episode T: 101 Reward: -140.39910755515479\n"
     ]
    },
    {
     "name": "stderr",
     "output_type": "stream",
     "text": [
      "Train model: 100%|██████████| 101/101 [01:04<00:00,  1.60batch/s]\n"
     ]
    },
    {
     "name": "stdout",
     "output_type": "stream",
     "text": [
      "-0.5205656236084045 -0.3176728542930386\n",
      "Aborting episode due to head being > .2m behind the pelvis (-0.20289276931536593).\n",
      "Total T: 8662 Episode Num: 359 Episode T: 115 Reward: -210.7852464505941\n"
     ]
    },
    {
     "name": "stderr",
     "output_type": "stream",
     "text": [
      "Train model: 100%|██████████| 115/115 [01:14<00:00,  1.57batch/s]\n"
     ]
    },
    {
     "name": "stdout",
     "output_type": "stream",
     "text": [
      "Aborting episode due to head being > 0.5m away from centerline (-0.5041516790372866).\n",
      "Total T: 8812 Episode Num: 360 Episode T: 150 Reward: -54.998461372638204\n"
     ]
    },
    {
     "name": "stderr",
     "output_type": "stream",
     "text": [
      "Train model: 100%|██████████| 150/150 [01:37<00:00,  1.39batch/s]\n"
     ]
    },
    {
     "name": "stdout",
     "output_type": "stream",
     "text": [
      "Aborting episode due to head being > 0.5m away from centerline (0.501681791129774).\n",
      "Total T: 8880 Episode Num: 361 Episode T: 68 Reward: -85.02255265473781\n"
     ]
    },
    {
     "name": "stderr",
     "output_type": "stream",
     "text": [
      "Train model: 100%|██████████| 68/68 [00:44<00:00,  1.56batch/s]\n"
     ]
    },
    {
     "name": "stdout",
     "output_type": "stream",
     "text": [
      "Aborting episode due to head being > 0.5m away from centerline (0.5008055827599394).\n",
      "Total T: 8984 Episode Num: 362 Episode T: 104 Reward: -111.52393563509774\n"
     ]
    },
    {
     "name": "stderr",
     "output_type": "stream",
     "text": [
      "Train model: 100%|██████████| 104/104 [01:07<00:00,  1.58batch/s]\n"
     ]
    },
    {
     "name": "stdout",
     "output_type": "stream",
     "text": [
      "Aborting episode due to head being > 0.5m away from centerline (0.5076872703588644).\n",
      "Total T: 9107 Episode Num: 363 Episode T: 123 Reward: -49.012575313394414\n"
     ]
    },
    {
     "name": "stderr",
     "output_type": "stream",
     "text": [
      "Train model: 100%|██████████| 123/123 [01:20<00:00,  1.56batch/s]\n"
     ]
    },
    {
     "name": "stdout",
     "output_type": "stream",
     "text": [
      "Aborting episode due to head being > 0.5m away from centerline (0.5086229822694416).\n",
      "Total T: 9190 Episode Num: 364 Episode T: 83 Reward: -127.61058046618349\n"
     ]
    },
    {
     "name": "stderr",
     "output_type": "stream",
     "text": [
      "Train model: 100%|██████████| 83/83 [00:54<00:00,  1.55batch/s]\n"
     ]
    },
    {
     "name": "stdout",
     "output_type": "stream",
     "text": [
      "Aborting episode due to head being > 0.5m away from centerline (0.5070484752042144).\n",
      "Total T: 9283 Episode Num: 365 Episode T: 93 Reward: -133.50667967505424\n"
     ]
    },
    {
     "name": "stderr",
     "output_type": "stream",
     "text": [
      "Train model: 100%|██████████| 93/93 [01:01<00:00,  1.55batch/s]\n"
     ]
    },
    {
     "name": "stdout",
     "output_type": "stream",
     "text": [
      "Aborting episode due to head being > 0.5m away from centerline (0.50944893327487).\n",
      "Total T: 9356 Episode Num: 366 Episode T: 73 Reward: -184.87725298052362\n"
     ]
    },
    {
     "name": "stderr",
     "output_type": "stream",
     "text": [
      "Train model: 100%|██████████| 73/73 [00:49<00:00,  1.46batch/s]\n"
     ]
    },
    {
     "name": "stdout",
     "output_type": "stream",
     "text": [
      "Aborting episode due to head being > 0.5m away from centerline (0.506899479567427).\n",
      "Total T: 9454 Episode Num: 367 Episode T: 98 Reward: -104.92519949745947\n"
     ]
    },
    {
     "name": "stderr",
     "output_type": "stream",
     "text": [
      "Train model: 100%|██████████| 98/98 [01:05<00:00,  1.47batch/s]\n"
     ]
    },
    {
     "name": "stdout",
     "output_type": "stream",
     "text": [
      "-0.5172206052523423 -0.3137043386709056\n",
      "Aborting episode due to head being > .2m behind the pelvis (-0.20351626658143668).\n",
      "Total T: 9557 Episode Num: 368 Episode T: 103 Reward: -206.35311854597245\n"
     ]
    },
    {
     "name": "stderr",
     "output_type": "stream",
     "text": [
      "Train model: 100%|██████████| 103/103 [01:08<00:00,  1.51batch/s]\n"
     ]
    },
    {
     "name": "stdout",
     "output_type": "stream",
     "text": [
      "-0.40402456140639154 -0.20329010602583814\n",
      "Aborting episode due to head being > .2m behind the pelvis (-0.2007344553805534).\n",
      "Total T: 9649 Episode Num: 369 Episode T: 92 Reward: -135.82855375780798\n"
     ]
    },
    {
     "name": "stderr",
     "output_type": "stream",
     "text": [
      "Train model: 100%|██████████| 92/92 [01:02<00:00,  1.47batch/s]\n"
     ]
    },
    {
     "name": "stdout",
     "output_type": "stream",
     "text": [
      "-0.41609635071716655 -0.21079170015774665\n",
      "Aborting episode due to head being > .2m behind the pelvis (-0.2053046505594199).\n",
      "Total T: 9779 Episode Num: 370 Episode T: 130 Reward: -142.97635532729066\n"
     ]
    },
    {
     "name": "stderr",
     "output_type": "stream",
     "text": [
      "Train model: 100%|██████████| 130/130 [01:28<00:00,  1.38batch/s]\n"
     ]
    },
    {
     "name": "stdout",
     "output_type": "stream",
     "text": [
      "Aborting episode due to head being > 0.5m away from centerline (0.5059722855117285).\n",
      "Total T: 9878 Episode Num: 371 Episode T: 99 Reward: -205.31932119608032\n"
     ]
    },
    {
     "name": "stderr",
     "output_type": "stream",
     "text": [
      "Train model: 100%|██████████| 99/99 [01:07<00:00,  1.40batch/s]\n"
     ]
    },
    {
     "name": "stdout",
     "output_type": "stream",
     "text": [
      "-0.4907334839806775 -0.286382128807682\n",
      "Aborting episode due to head being > .2m behind the pelvis (-0.20435135517299552).\n",
      "Total T: 9983 Episode Num: 372 Episode T: 105 Reward: -189.6040460765169\n"
     ]
    },
    {
     "name": "stderr",
     "output_type": "stream",
     "text": [
      "Train model: 100%|██████████| 105/105 [01:11<00:00,  1.48batch/s]\n"
     ]
    },
    {
     "name": "stdout",
     "output_type": "stream",
     "text": [
      "-0.4645375065393619 -0.2629088770257401\n",
      "Aborting episode due to head being > .2m behind the pelvis (-0.20162862951362176).\n",
      "Total T: 10081 Episode Num: 373 Episode T: 98 Reward: -172.11821715173295\n"
     ]
    },
    {
     "name": "stderr",
     "output_type": "stream",
     "text": [
      "Train model: 100%|██████████| 98/98 [01:07<00:00,  1.43batch/s]\n",
      "Evaluating policy: 100%|██████████| 10/10 [03:23<00:00, 20.30s/episode]\n"
     ]
    },
    {
     "name": "stdout",
     "output_type": "stream",
     "text": [
      "---------------------------------------\n",
      "Evaluation over 10 episodes: -80.566454\n",
      "---------------------------------------\n",
      "-0.41930628771697365 -0.21633020802006525\n",
      "Aborting episode due to head being > .2m behind the pelvis (-0.2029760796969084).\n",
      "Total T: 10198 Episode Num: 374 Episode T: 117 Reward: -143.91988573980325\n"
     ]
    },
    {
     "name": "stderr",
     "output_type": "stream",
     "text": [
      "Train model: 100%|██████████| 117/117 [01:25<00:00,  1.39batch/s]\n"
     ]
    },
    {
     "name": "stdout",
     "output_type": "stream",
     "text": [
      "Aborting episode due to head being > 0.5m away from centerline (0.5130151120498444).\n",
      "Total T: 10277 Episode Num: 375 Episode T: 79 Reward: -211.29099280888965\n"
     ]
    },
    {
     "name": "stderr",
     "output_type": "stream",
     "text": [
      "Train model: 100%|██████████| 79/79 [00:57<00:00,  1.40batch/s]\n"
     ]
    },
    {
     "name": "stdout",
     "output_type": "stream",
     "text": [
      "-0.5445850327323527 -0.33920908288984186\n",
      "Aborting episode due to head being > .2m behind the pelvis (-0.20537594984251084).\n",
      "Total T: 10365 Episode Num: 376 Episode T: 88 Reward: -226.8781891688541\n"
     ]
    },
    {
     "name": "stderr",
     "output_type": "stream",
     "text": [
      "Train model: 100%|██████████| 88/88 [01:04<00:00,  1.41batch/s]\n"
     ]
    },
    {
     "name": "stdout",
     "output_type": "stream",
     "text": [
      "Total T: 10453 Episode Num: 377 Episode T: 88 Reward: -348.83776750853525\n"
     ]
    },
    {
     "name": "stderr",
     "output_type": "stream",
     "text": [
      "Train model: 100%|██████████| 88/88 [01:05<00:00,  1.41batch/s]\n"
     ]
    },
    {
     "name": "stdout",
     "output_type": "stream",
     "text": [
      "-0.3712904503741099 -0.1658847856736314\n",
      "Aborting episode due to head being > .2m behind the pelvis (-0.2054056647004785).\n",
      "Total T: 10531 Episode Num: 378 Episode T: 78 Reward: -111.87623121609677\n"
     ]
    },
    {
     "name": "stderr",
     "output_type": "stream",
     "text": [
      "Train model: 100%|██████████| 78/78 [00:58<00:00,  1.40batch/s]\n"
     ]
    },
    {
     "name": "stdout",
     "output_type": "stream",
     "text": [
      "-0.43441488352866453 -0.2317450265424403\n",
      "Aborting episode due to head being > .2m behind the pelvis (-0.20266985698622422).\n",
      "Total T: 10621 Episode Num: 379 Episode T: 90 Reward: -152.38145879609942\n"
     ]
    },
    {
     "name": "stderr",
     "output_type": "stream",
     "text": [
      "Train model: 100%|██████████| 90/90 [01:06<00:00,  1.37batch/s]\n"
     ]
    },
    {
     "name": "stdout",
     "output_type": "stream",
     "text": [
      "-0.48499623365068906 -0.2835574029097583\n",
      "Aborting episode due to head being > .2m behind the pelvis (-0.20143883074093077).\n",
      "Total T: 10726 Episode Num: 380 Episode T: 105 Reward: -188.62249335696742\n"
     ]
    },
    {
     "name": "stderr",
     "output_type": "stream",
     "text": [
      "Train model: 100%|██████████| 105/105 [01:18<00:00,  1.37batch/s]\n"
     ]
    },
    {
     "name": "stdout",
     "output_type": "stream",
     "text": [
      "Aborting episode due to head being > 0.5m away from centerline (-0.5125660980399699).\n",
      "Total T: 10866 Episode Num: 381 Episode T: 140 Reward: -170.21379788928442\n"
     ]
    },
    {
     "name": "stderr",
     "output_type": "stream",
     "text": [
      "Train model: 100%|██████████| 140/140 [01:45<00:00,  1.37batch/s]\n"
     ]
    },
    {
     "name": "stdout",
     "output_type": "stream",
     "text": [
      "Aborting episode due to head being > 0.5m away from centerline (0.5103933671759592).\n",
      "Total T: 10966 Episode Num: 382 Episode T: 100 Reward: -88.91067906246913\n"
     ]
    },
    {
     "name": "stderr",
     "output_type": "stream",
     "text": [
      "Train model: 100%|██████████| 100/100 [01:15<00:00,  1.37batch/s]\n"
     ]
    },
    {
     "name": "stdout",
     "output_type": "stream",
     "text": [
      "-0.46598106889390745 -0.26204186382017386\n",
      "Aborting episode due to head being > .2m behind the pelvis (-0.2039392050737336).\n",
      "Total T: 11065 Episode Num: 383 Episode T: 99 Reward: -174.5442946793032\n"
     ]
    },
    {
     "name": "stderr",
     "output_type": "stream",
     "text": [
      "Train model: 100%|██████████| 99/99 [01:14<00:00,  1.35batch/s]\n"
     ]
    },
    {
     "name": "stdout",
     "output_type": "stream",
     "text": [
      "Aborting episode due to head being > 0.5m away from centerline (0.5045613115362944).\n",
      "Total T: 11160 Episode Num: 384 Episode T: 95 Reward: -123.63511724717802\n"
     ]
    },
    {
     "name": "stderr",
     "output_type": "stream",
     "text": [
      "Train model: 100%|██████████| 95/95 [01:11<00:00,  1.35batch/s]\n"
     ]
    },
    {
     "name": "stdout",
     "output_type": "stream",
     "text": [
      "Aborting episode due to head being > 0.5m away from centerline (-0.5110182834889248).\n",
      "Total T: 11305 Episode Num: 385 Episode T: 145 Reward: -138.26677485917196\n"
     ]
    },
    {
     "name": "stderr",
     "output_type": "stream",
     "text": [
      "Train model: 100%|██████████| 145/145 [01:50<00:00,  1.34batch/s]\n"
     ]
    },
    {
     "name": "stdout",
     "output_type": "stream",
     "text": [
      "Aborting episode due to head being > 0.5m away from centerline (0.5057443807337634).\n",
      "Total T: 11435 Episode Num: 386 Episode T: 130 Reward: -99.88972061973686\n"
     ]
    },
    {
     "name": "stderr",
     "output_type": "stream",
     "text": [
      "Train model: 100%|██████████| 130/130 [01:38<00:00,  1.35batch/s]\n"
     ]
    },
    {
     "name": "stdout",
     "output_type": "stream",
     "text": [
      "Aborting episode due to head being > 0.5m away from centerline (0.5052908559286944).\n",
      "Total T: 11531 Episode Num: 387 Episode T: 96 Reward: 48.51426964016063\n"
     ]
    },
    {
     "name": "stderr",
     "output_type": "stream",
     "text": [
      "Train model: 100%|██████████| 96/96 [01:13<00:00,  1.35batch/s]\n"
     ]
    },
    {
     "name": "stdout",
     "output_type": "stream",
     "text": [
      "Total T: 11602 Episode Num: 388 Episode T: 71 Reward: -297.50259626887276\n"
     ]
    },
    {
     "name": "stderr",
     "output_type": "stream",
     "text": [
      "Train model: 100%|██████████| 71/71 [00:55<00:00,  1.33batch/s]\n"
     ]
    },
    {
     "name": "stdout",
     "output_type": "stream",
     "text": [
      "-0.364604890794946 -0.16345442037531446\n",
      "Aborting episode due to head being > .2m behind the pelvis (-0.20115047041963155).\n",
      "Total T: 11690 Episode Num: 389 Episode T: 88 Reward: -113.80073359870848\n"
     ]
    },
    {
     "name": "stderr",
     "output_type": "stream",
     "text": [
      "Train model: 100%|██████████| 88/88 [01:08<00:00,  1.17batch/s]\n"
     ]
    },
    {
     "name": "stdout",
     "output_type": "stream",
     "text": [
      "Aborting episode due to head being > 0.5m away from centerline (-0.5041658308395528).\n",
      "Total T: 11832 Episode Num: 390 Episode T: 142 Reward: -375.48773249080546\n"
     ]
    },
    {
     "name": "stderr",
     "output_type": "stream",
     "text": [
      "Train model: 100%|██████████| 142/142 [01:49<00:00,  1.33batch/s]\n"
     ]
    },
    {
     "name": "stdout",
     "output_type": "stream",
     "text": [
      "-0.39102862727224325 -0.18864459501417666\n",
      "Aborting episode due to head being > .2m behind the pelvis (-0.2023840322580666).\n",
      "Total T: 11915 Episode Num: 391 Episode T: 83 Reward: -124.43344310609783\n"
     ]
    },
    {
     "name": "stderr",
     "output_type": "stream",
     "text": [
      "Train model: 100%|██████████| 83/83 [01:04<00:00,  1.32batch/s]\n"
     ]
    },
    {
     "name": "stdout",
     "output_type": "stream",
     "text": [
      "Aborting episode due to head being > 0.5m away from centerline (-0.5064997800528779).\n",
      "Total T: 12052 Episode Num: 392 Episode T: 137 Reward: -270.189729848181\n"
     ]
    },
    {
     "name": "stderr",
     "output_type": "stream",
     "text": [
      "Train model: 100%|██████████| 137/137 [01:47<00:00,  1.30batch/s]\n"
     ]
    },
    {
     "name": "stdout",
     "output_type": "stream",
     "text": [
      "-0.6282518760357088 -0.42775738632139515\n",
      "Aborting episode due to head being > .2m behind the pelvis (-0.2004944897143136).\n",
      "Total T: 12161 Episode Num: 393 Episode T: 109 Reward: -284.9831925558155\n"
     ]
    },
    {
     "name": "stderr",
     "output_type": "stream",
     "text": [
      "Train model: 100%|██████████| 109/109 [01:25<00:00,  1.30batch/s]\n"
     ]
    },
    {
     "name": "stdout",
     "output_type": "stream",
     "text": [
      "Aborting episode due to head being > 0.5m away from centerline (0.509683336715327).\n",
      "Total T: 12241 Episode Num: 394 Episode T: 80 Reward: -368.2870637640428\n"
     ]
    },
    {
     "name": "stderr",
     "output_type": "stream",
     "text": [
      "Train model: 100%|██████████| 80/80 [01:02<00:00,  1.32batch/s]\n"
     ]
    },
    {
     "name": "stdout",
     "output_type": "stream",
     "text": [
      "-0.4240872447580793 -0.2213460229641988\n",
      "Aborting episode due to head being > .2m behind the pelvis (-0.2027412217938805).\n",
      "Total T: 12343 Episode Num: 395 Episode T: 102 Reward: -147.44246370571275\n"
     ]
    },
    {
     "name": "stderr",
     "output_type": "stream",
     "text": [
      "Train model: 100%|██████████| 102/102 [01:20<00:00,  1.31batch/s]\n"
     ]
    },
    {
     "name": "stdout",
     "output_type": "stream",
     "text": [
      "Aborting episode due to head being > 0.5m away from centerline (0.5039567545172978).\n",
      "Total T: 12418 Episode Num: 396 Episode T: 75 Reward: -264.6047717549828\n"
     ]
    },
    {
     "name": "stderr",
     "output_type": "stream",
     "text": [
      "Train model: 100%|██████████| 75/75 [01:00<00:00,  1.28batch/s]\n"
     ]
    },
    {
     "name": "stdout",
     "output_type": "stream",
     "text": [
      "-0.13985006093425204 0.06062509433918038\n",
      "Aborting episode due to head being > .2m behind the pelvis (-0.2004751552734324).\n",
      "Total T: 12432 Episode Num: 397 Episode T: 14 Reward: 32.900659970101884\n"
     ]
    },
    {
     "name": "stderr",
     "output_type": "stream",
     "text": [
      "Train model: 100%|██████████| 14/14 [00:10<00:00,  1.29batch/s]\n"
     ]
    },
    {
     "name": "stdout",
     "output_type": "stream",
     "text": [
      "Aborting episode due to head being > 0.5m away from centerline (0.5018899076426664).\n",
      "Total T: 12530 Episode Num: 398 Episode T: 98 Reward: -141.99691049683432\n"
     ]
    },
    {
     "name": "stderr",
     "output_type": "stream",
     "text": [
      "Train model: 100%|██████████| 98/98 [01:18<00:00,  1.28batch/s]\n"
     ]
    },
    {
     "name": "stdout",
     "output_type": "stream",
     "text": [
      "Total T: 12598 Episode Num: 399 Episode T: 68 Reward: -357.74156326688285\n"
     ]
    },
    {
     "name": "stderr",
     "output_type": "stream",
     "text": [
      "Train model: 100%|██████████| 68/68 [00:54<00:00,  1.29batch/s]\n"
     ]
    },
    {
     "name": "stdout",
     "output_type": "stream",
     "text": [
      "Aborting episode due to head being > 0.5m away from centerline (0.5038577195972307).\n",
      "Total T: 12683 Episode Num: 400 Episode T: 85 Reward: -89.80129051074998\n"
     ]
    },
    {
     "name": "stderr",
     "output_type": "stream",
     "text": [
      "Train model: 100%|██████████| 85/85 [01:08<00:00,  1.27batch/s]\n"
     ]
    },
    {
     "name": "stdout",
     "output_type": "stream",
     "text": [
      "-0.525138343371355 -0.32356643843999544\n",
      "Aborting episode due to head being > .2m behind the pelvis (-0.20157190493135957).\n",
      "Total T: 12779 Episode Num: 401 Episode T: 96 Reward: -218.0453811763876\n"
     ]
    },
    {
     "name": "stderr",
     "output_type": "stream",
     "text": [
      "Train model: 100%|██████████| 96/96 [01:17<00:00,  1.28batch/s]\n"
     ]
    },
    {
     "name": "stdout",
     "output_type": "stream",
     "text": [
      "-0.41756054843213053 -0.21559885420437197\n",
      "Aborting episode due to head being > .2m behind the pelvis (-0.20196169422775856).\n",
      "Total T: 12846 Episode Num: 402 Episode T: 67 Reward: -146.30012173644462\n"
     ]
    },
    {
     "name": "stderr",
     "output_type": "stream",
     "text": [
      "Train model: 100%|██████████| 67/67 [00:53<00:00,  1.26batch/s]\n"
     ]
    },
    {
     "name": "stdout",
     "output_type": "stream",
     "text": [
      "Aborting episode due to head being > 0.5m away from centerline (0.5060610574108043).\n",
      "Total T: 12951 Episode Num: 403 Episode T: 105 Reward: -120.04856930173415\n"
     ]
    },
    {
     "name": "stderr",
     "output_type": "stream",
     "text": [
      "Train model: 100%|██████████| 105/105 [01:25<00:00,  1.26batch/s]\n"
     ]
    },
    {
     "name": "stdout",
     "output_type": "stream",
     "text": [
      "Aborting episode due to head being > 0.5m away from centerline (0.5040411523405681).\n",
      "Total T: 13045 Episode Num: 404 Episode T: 94 Reward: -151.90574904103852\n"
     ]
    },
    {
     "name": "stderr",
     "output_type": "stream",
     "text": [
      "Train model: 100%|██████████| 94/94 [01:16<00:00,  1.27batch/s]\n"
     ]
    },
    {
     "name": "stdout",
     "output_type": "stream",
     "text": [
      "Aborting episode due to head being > 0.5m away from centerline (0.5048886766433485).\n",
      "Total T: 13147 Episode Num: 405 Episode T: 102 Reward: -128.62804773228868\n"
     ]
    },
    {
     "name": "stderr",
     "output_type": "stream",
     "text": [
      "Train model: 100%|██████████| 102/102 [01:23<00:00,  1.26batch/s]\n"
     ]
    },
    {
     "name": "stdout",
     "output_type": "stream",
     "text": [
      "Aborting episode due to head being > 0.5m away from centerline (0.5077796696927486).\n",
      "Total T: 13232 Episode Num: 406 Episode T: 85 Reward: -34.80129272705392\n"
     ]
    },
    {
     "name": "stderr",
     "output_type": "stream",
     "text": [
      "Train model: 100%|██████████| 85/85 [01:09<00:00,  1.25batch/s]\n"
     ]
    },
    {
     "name": "stdout",
     "output_type": "stream",
     "text": [
      "Aborting episode due to head being > 0.5m away from centerline (0.5083059897942042).\n",
      "Total T: 13342 Episode Num: 407 Episode T: 110 Reward: 33.91585135573814\n"
     ]
    },
    {
     "name": "stderr",
     "output_type": "stream",
     "text": [
      "Train model: 100%|██████████| 110/110 [01:30<00:00,  1.09batch/s]\n"
     ]
    },
    {
     "name": "stdout",
     "output_type": "stream",
     "text": [
      "-0.4001235145476148 -0.1951847184081542\n",
      "Aborting episode due to head being > .2m behind the pelvis (-0.2049387961394606).\n",
      "Total T: 13403 Episode Num: 408 Episode T: 61 Reward: -135.08093262298016\n"
     ]
    },
    {
     "name": "stderr",
     "output_type": "stream",
     "text": [
      "Train model: 100%|██████████| 61/61 [00:50<00:00,  1.23batch/s]\n"
     ]
    },
    {
     "name": "stdout",
     "output_type": "stream",
     "text": [
      "-0.5328705916365801 -0.332126035830661\n",
      "Aborting episode due to head being > .2m behind the pelvis (-0.2007445558059191).\n",
      "Total T: 13513 Episode Num: 409 Episode T: 110 Reward: -222.1661177529024\n"
     ]
    },
    {
     "name": "stderr",
     "output_type": "stream",
     "text": [
      "Train model: 100%|██████████| 110/110 [01:30<00:00,  1.23batch/s]\n"
     ]
    },
    {
     "name": "stdout",
     "output_type": "stream",
     "text": [
      "Aborting episode due to head being > 0.5m away from centerline (0.5087895339755222).\n",
      "Total T: 13604 Episode Num: 410 Episode T: 91 Reward: -160.0030293464116\n"
     ]
    },
    {
     "name": "stderr",
     "output_type": "stream",
     "text": [
      "Train model: 100%|██████████| 91/91 [01:14<00:00,  1.23batch/s]\n"
     ]
    },
    {
     "name": "stdout",
     "output_type": "stream",
     "text": [
      "Aborting episode due to head being > 0.5m away from centerline (0.5006702481118005).\n",
      "Total T: 13683 Episode Num: 411 Episode T: 79 Reward: -121.35058948156755\n"
     ]
    },
    {
     "name": "stderr",
     "output_type": "stream",
     "text": [
      "Train model: 100%|██████████| 79/79 [01:06<00:00,  1.22batch/s]\n"
     ]
    },
    {
     "name": "stdout",
     "output_type": "stream",
     "text": [
      "Aborting episode due to head being > 0.5m away from centerline (0.5042826803754012).\n",
      "Total T: 13779 Episode Num: 412 Episode T: 96 Reward: -145.22811669766048\n"
     ]
    },
    {
     "name": "stderr",
     "output_type": "stream",
     "text": [
      "Train model: 100%|██████████| 96/96 [01:20<00:00,  1.23batch/s]\n"
     ]
    },
    {
     "name": "stdout",
     "output_type": "stream",
     "text": [
      "Aborting episode due to head being > 0.5m away from centerline (0.5079357524651558).\n",
      "Total T: 13850 Episode Num: 413 Episode T: 71 Reward: -224.68114949801446\n"
     ]
    },
    {
     "name": "stderr",
     "output_type": "stream",
     "text": [
      "Train model: 100%|██████████| 71/71 [00:59<00:00,  1.22batch/s]\n"
     ]
    },
    {
     "name": "stdout",
     "output_type": "stream",
     "text": [
      "-0.4029263605822295 -0.19792582941257442\n",
      "Aborting episode due to head being > .2m behind the pelvis (-0.2050005311696551).\n",
      "Total T: 13931 Episode Num: 414 Episode T: 81 Reward: -132.9510720860407\n"
     ]
    },
    {
     "name": "stderr",
     "output_type": "stream",
     "text": [
      "Train model: 100%|██████████| 81/81 [01:08<00:00,  1.18s/batch]\n"
     ]
    },
    {
     "name": "stdout",
     "output_type": "stream",
     "text": [
      "-0.4228125797949376 -0.22251038666930142\n",
      "Aborting episode due to head being > .2m behind the pelvis (-0.20030219312563616).\n",
      "Total T: 14011 Episode Num: 415 Episode T: 80 Reward: -148.27423341063272\n"
     ]
    },
    {
     "name": "stderr",
     "output_type": "stream",
     "text": [
      "Train model: 100%|██████████| 80/80 [01:06<00:00,  1.23batch/s]\n"
     ]
    },
    {
     "name": "stdout",
     "output_type": "stream",
     "text": [
      "Aborting episode due to head being > 0.5m away from centerline (0.5047030795341809).\n",
      "Total T: 14152 Episode Num: 416 Episode T: 141 Reward: -201.9475539194066\n"
     ]
    },
    {
     "name": "stderr",
     "output_type": "stream",
     "text": [
      "Train model: 100%|██████████| 141/141 [01:58<00:00,  1.21batch/s]\n"
     ]
    },
    {
     "name": "stdout",
     "output_type": "stream",
     "text": [
      "-0.6840564304905441 -0.47918383284509586\n",
      "Aborting episode due to head being > .2m behind the pelvis (-0.20487259764544824).\n",
      "Total T: 14260 Episode Num: 417 Episode T: 108 Reward: -322.2991970544544\n"
     ]
    },
    {
     "name": "stderr",
     "output_type": "stream",
     "text": [
      "Train model: 100%|██████████| 108/108 [01:31<00:00,  1.22batch/s]\n"
     ]
    },
    {
     "name": "stdout",
     "output_type": "stream",
     "text": [
      "-0.8213761466627099 -0.6186305412224637\n",
      "Aborting episode due to head being > .2m behind the pelvis (-0.2027456054402461).\n",
      "Total T: 14389 Episode Num: 418 Episode T: 129 Reward: -418.4130232700524\n"
     ]
    },
    {
     "name": "stderr",
     "output_type": "stream",
     "text": [
      "Train model: 100%|██████████| 129/129 [01:50<00:00,  1.20batch/s]\n"
     ]
    },
    {
     "name": "stdout",
     "output_type": "stream",
     "text": [
      "Total T: 14461 Episode Num: 419 Episode T: 72 Reward: -352.3810710834527\n"
     ]
    },
    {
     "name": "stderr",
     "output_type": "stream",
     "text": [
      "Train model: 100%|██████████| 72/72 [01:01<00:00,  1.20batch/s]\n"
     ]
    },
    {
     "name": "stdout",
     "output_type": "stream",
     "text": [
      "Aborting episode due to head being > 0.5m away from centerline (0.5007277480060934).\n",
      "Total T: 14568 Episode Num: 420 Episode T: 107 Reward: -113.30719596997807\n"
     ]
    },
    {
     "name": "stderr",
     "output_type": "stream",
     "text": [
      "Train model: 100%|██████████| 107/107 [01:31<00:00,  1.20batch/s]\n"
     ]
    },
    {
     "name": "stdout",
     "output_type": "stream",
     "text": [
      "Aborting episode due to head being > 0.5m away from centerline (0.5023557939669049).\n",
      "Total T: 14709 Episode Num: 421 Episode T: 141 Reward: -205.99943385842977\n"
     ]
    },
    {
     "name": "stderr",
     "output_type": "stream",
     "text": [
      "Train model: 100%|██████████| 141/141 [02:00<00:00,  1.19batch/s]\n"
     ]
    },
    {
     "name": "stdout",
     "output_type": "stream",
     "text": [
      "-0.5021830935202118 -0.29769297742281575\n",
      "Aborting episode due to head being > .2m behind the pelvis (-0.2044901160973961).\n",
      "Total T: 14817 Episode Num: 422 Episode T: 108 Reward: -196.45083054599985\n"
     ]
    },
    {
     "name": "stderr",
     "output_type": "stream",
     "text": [
      "Train model: 100%|██████████| 108/108 [01:33<00:00,  1.19batch/s]\n"
     ]
    },
    {
     "name": "stdout",
     "output_type": "stream",
     "text": [
      "Aborting episode due to head being > 0.5m away from centerline (0.5109566668143836).\n",
      "Total T: 14902 Episode Num: 423 Episode T: 85 Reward: -270.48452626285473\n"
     ]
    },
    {
     "name": "stderr",
     "output_type": "stream",
     "text": [
      "Train model: 100%|██████████| 85/85 [01:14<00:00,  1.18batch/s]\n"
     ]
    },
    {
     "name": "stdout",
     "output_type": "stream",
     "text": [
      "-0.6009188730971657 -0.4005526851877295\n",
      "Aborting episode due to head being > .2m behind the pelvis (-0.20036618790943622).\n",
      "Total T: 14996 Episode Num: 424 Episode T: 94 Reward: -270.57424824591845\n"
     ]
    },
    {
     "name": "stderr",
     "output_type": "stream",
     "text": [
      "Train model: 100%|██████████| 94/94 [01:22<00:00,  1.12s/batch]\n"
     ]
    },
    {
     "name": "stdout",
     "output_type": "stream",
     "text": [
      "-0.42331930576675375 -0.22310490954685164\n",
      "Aborting episode due to head being > .2m behind the pelvis (-0.2002143962199021).\n",
      "Total T: 15084 Episode Num: 425 Episode T: 88 Reward: -148.76014878590655\n"
     ]
    },
    {
     "name": "stderr",
     "output_type": "stream",
     "text": [
      "Train model: 100%|██████████| 88/88 [01:16<00:00,  1.18batch/s]\n",
      "Evaluating policy: 100%|██████████| 10/10 [03:28<00:00, 20.90s/episode]\n"
     ]
    },
    {
     "name": "stdout",
     "output_type": "stream",
     "text": [
      "---------------------------------------\n",
      "Evaluation over 10 episodes: -80.536562\n",
      "---------------------------------------\n",
      "Aborting episode due to head being > 0.5m away from centerline (-0.5014018005636663).\n",
      "Total T: 15210 Episode Num: 426 Episode T: 126 Reward: -53.993086751403276\n"
     ]
    },
    {
     "name": "stderr",
     "output_type": "stream",
     "text": [
      "Train model: 100%|██████████| 126/126 [01:54<00:00,  1.14batch/s]\n"
     ]
    },
    {
     "name": "stdout",
     "output_type": "stream",
     "text": [
      "-0.5293441815981776 -0.32875358701994095\n",
      "Aborting episode due to head being > .2m behind the pelvis (-0.2005905945782367).\n",
      "Total T: 15301 Episode Num: 427 Episode T: 91 Reward: -219.34607413402063\n"
     ]
    },
    {
     "name": "stderr",
     "output_type": "stream",
     "text": [
      "Train model: 100%|██████████| 91/91 [01:22<00:00,  1.12batch/s]\n"
     ]
    },
    {
     "name": "stdout",
     "output_type": "stream",
     "text": [
      "Aborting episode due to head being > 0.5m away from centerline (0.5094510851746367).\n",
      "Total T: 15393 Episode Num: 428 Episode T: 92 Reward: -140.3057166492464\n"
     ]
    },
    {
     "name": "stderr",
     "output_type": "stream",
     "text": [
      "Train model: 100%|██████████| 92/92 [01:23<00:00,  1.12batch/s]\n"
     ]
    },
    {
     "name": "stdout",
     "output_type": "stream",
     "text": [
      "-0.43490742136812666 -0.2287963872422748\n",
      "Aborting episode due to head being > .2m behind the pelvis (-0.20611103412585186).\n",
      "Total T: 15483 Episode Num: 429 Episode T: 90 Reward: -152.9271701076407\n"
     ]
    },
    {
     "name": "stderr",
     "output_type": "stream",
     "text": [
      "Train model: 100%|██████████| 90/90 [01:23<00:00,  1.12batch/s]\n"
     ]
    },
    {
     "name": "stdout",
     "output_type": "stream",
     "text": [
      "Aborting episode due to head being > 0.5m away from centerline (0.5126540501024635).\n",
      "Total T: 15562 Episode Num: 430 Episode T: 79 Reward: -343.3473275856\n"
     ]
    },
    {
     "name": "stderr",
     "output_type": "stream",
     "text": [
      "Train model: 100%|██████████| 79/79 [01:12<00:00,  1.11batch/s]\n"
     ]
    },
    {
     "name": "stdout",
     "output_type": "stream",
     "text": [
      "Aborting episode due to head being > 0.5m away from centerline (0.5062327670536741).\n",
      "Total T: 15631 Episode Num: 431 Episode T: 69 Reward: -134.69049007600768\n"
     ]
    },
    {
     "name": "stderr",
     "output_type": "stream",
     "text": [
      "Train model: 100%|██████████| 69/69 [01:03<00:00,  1.10batch/s]\n"
     ]
    },
    {
     "name": "stdout",
     "output_type": "stream",
     "text": [
      "-0.5373825075991854 -0.3304426363521939\n",
      "Aborting episode due to head being > .2m behind the pelvis (-0.20693987124699148).\n",
      "Total T: 15734 Episode Num: 432 Episode T: 103 Reward: -219.41322570074828\n"
     ]
    },
    {
     "name": "stderr",
     "output_type": "stream",
     "text": [
      "Train model: 100%|██████████| 103/103 [01:34<00:00,  1.10batch/s]\n"
     ]
    },
    {
     "name": "stdout",
     "output_type": "stream",
     "text": [
      "Aborting episode due to head being > 0.5m away from centerline (0.5058406939593301).\n",
      "Total T: 15817 Episode Num: 433 Episode T: 83 Reward: -170.7624391020557\n"
     ]
    },
    {
     "name": "stderr",
     "output_type": "stream",
     "text": [
      "Train model: 100%|██████████| 83/83 [01:16<00:00,  1.10batch/s]\n"
     ]
    },
    {
     "name": "stdout",
     "output_type": "stream",
     "text": [
      "-0.14246922780864346 0.061544488913523175\n",
      "Aborting episode due to head being > .2m behind the pelvis (-0.20401371672216664).\n",
      "Total T: 15832 Episode Num: 434 Episode T: 15 Reward: 33.98237130327064\n"
     ]
    },
    {
     "name": "stderr",
     "output_type": "stream",
     "text": [
      "Train model: 100%|██████████| 15/15 [00:13<00:00,  1.09batch/s]\n"
     ]
    },
    {
     "name": "stdout",
     "output_type": "stream",
     "text": [
      "-0.6323166729680816 -0.4289161704782273\n",
      "Aborting episode due to head being > .2m behind the pelvis (-0.2034005024898543).\n",
      "Total T: 15962 Episode Num: 435 Episode T: 130 Reward: -286.7313655389872\n"
     ]
    },
    {
     "name": "stderr",
     "output_type": "stream",
     "text": [
      "Train model: 100%|██████████| 130/130 [02:01<00:00,  1.02s/batch]\n"
     ]
    },
    {
     "name": "stdout",
     "output_type": "stream",
     "text": [
      "-0.4716167782985352 -0.27114284439839786\n",
      "Aborting episode due to head being > .2m behind the pelvis (-0.20047393390013735).\n",
      "Total T: 16064 Episode Num: 436 Episode T: 102 Reward: -180.06420283863847\n"
     ]
    },
    {
     "name": "stderr",
     "output_type": "stream",
     "text": [
      "Train model: 100%|██████████| 102/102 [01:34<00:00,  1.11batch/s]\n"
     ]
    },
    {
     "name": "stdout",
     "output_type": "stream",
     "text": [
      "Aborting episode due to head being > 0.5m away from centerline (0.5004645870261228).\n",
      "Total T: 16143 Episode Num: 437 Episode T: 79 Reward: -131.12401698488344\n"
     ]
    },
    {
     "name": "stderr",
     "output_type": "stream",
     "text": [
      "Train model: 100%|██████████| 79/79 [01:13<00:00,  1.09batch/s]\n"
     ]
    },
    {
     "name": "stdout",
     "output_type": "stream",
     "text": [
      "Aborting episode due to head being > 0.5m away from centerline (0.5052348703699829).\n",
      "Total T: 16247 Episode Num: 438 Episode T: 104 Reward: -142.4055053091936\n"
     ]
    },
    {
     "name": "stderr",
     "output_type": "stream",
     "text": [
      "Train model: 100%|██████████| 104/104 [01:38<00:00,  1.03s/batch]\n"
     ]
    },
    {
     "name": "stdout",
     "output_type": "stream",
     "text": [
      "Aborting episode due to head being > 0.5m away from centerline (0.5002320042172212).\n",
      "Total T: 16357 Episode Num: 439 Episode T: 110 Reward: 45.64013283865444\n"
     ]
    },
    {
     "name": "stderr",
     "output_type": "stream",
     "text": [
      "Train model: 100%|██████████| 110/110 [01:42<00:00,  1.10batch/s]\n"
     ]
    },
    {
     "name": "stdout",
     "output_type": "stream",
     "text": [
      "-0.4624896582432334 -0.2624123648451553\n",
      "Aborting episode due to head being > .2m behind the pelvis (-0.20007729339807812).\n",
      "Total T: 16449 Episode Num: 440 Episode T: 92 Reward: -172.29220490556438\n"
     ]
    },
    {
     "name": "stderr",
     "output_type": "stream",
     "text": [
      "Train model: 100%|██████████| 92/92 [01:26<00:00,  1.09batch/s]\n"
     ]
    },
    {
     "name": "stdout",
     "output_type": "stream",
     "text": [
      "-0.7450002619004457 -0.5379592752088348\n",
      "Aborting episode due to head being > .2m behind the pelvis (-0.20704098669161086).\n",
      "Total T: 16547 Episode Num: 441 Episode T: 98 Reward: -372.5081542409477\n"
     ]
    },
    {
     "name": "stderr",
     "output_type": "stream",
     "text": [
      "Train model: 100%|██████████| 98/98 [01:33<00:00,  1.08batch/s]\n"
     ]
    },
    {
     "name": "stdout",
     "output_type": "stream",
     "text": [
      "Aborting episode due to head being > 0.5m away from centerline (0.503117928631662).\n",
      "Total T: 16635 Episode Num: 442 Episode T: 88 Reward: -133.66688700205188\n"
     ]
    },
    {
     "name": "stderr",
     "output_type": "stream",
     "text": [
      "Train model: 100%|██████████| 88/88 [01:23<00:00,  1.08batch/s]\n"
     ]
    },
    {
     "name": "stdout",
     "output_type": "stream",
     "text": [
      "-0.8191647477662274 -0.6158202515223479\n",
      "Aborting episode due to head being > .2m behind the pelvis (-0.2033444962438795).\n",
      "Total T: 16735 Episode Num: 443 Episode T: 100 Reward: -428.682062437664\n"
     ]
    },
    {
     "name": "stderr",
     "output_type": "stream",
     "text": [
      "Train model: 100%|██████████| 100/100 [01:34<00:00,  1.08batch/s]\n"
     ]
    },
    {
     "name": "stdout",
     "output_type": "stream",
     "text": [
      "Total T: 16809 Episode Num: 444 Episode T: 74 Reward: -366.246335974679\n"
     ]
    },
    {
     "name": "stderr",
     "output_type": "stream",
     "text": [
      "Train model: 100%|██████████| 74/74 [01:12<00:00,  1.44s/batch]\n"
     ]
    },
    {
     "name": "stdout",
     "output_type": "stream",
     "text": [
      "-0.31381807853296384 -0.11375174645457514\n",
      "Aborting episode due to head being > .2m behind the pelvis (-0.2000663320783887).\n",
      "Total T: 16939 Episode Num: 445 Episode T: 130 Reward: -85.29296527179424\n"
     ]
    },
    {
     "name": "stderr",
     "output_type": "stream",
     "text": [
      "Train model: 100%|██████████| 130/130 [02:03<00:00,  1.07batch/s]\n"
     ]
    },
    {
     "name": "stdout",
     "output_type": "stream",
     "text": [
      "-0.29702139628011315 -0.0962809718986845\n",
      "Aborting episode due to head being > .2m behind the pelvis (-0.20074042438142864).\n",
      "Total T: 17007 Episode Num: 446 Episode T: 68 Reward: -66.17939793460333\n"
     ]
    },
    {
     "name": "stderr",
     "output_type": "stream",
     "text": [
      "Train model: 100%|██████████| 68/68 [01:05<00:00,  1.07batch/s]\n"
     ]
    },
    {
     "name": "stdout",
     "output_type": "stream",
     "text": [
      "-0.4659323608492191 -0.264377033994842\n",
      "Aborting episode due to head being > .2m behind the pelvis (-0.20155532685437705).\n",
      "Total T: 17103 Episode Num: 447 Episode T: 96 Reward: -176.52240179115955\n"
     ]
    },
    {
     "name": "stderr",
     "output_type": "stream",
     "text": [
      "Train model: 100%|██████████| 96/96 [01:33<00:00,  1.03batch/s]\n"
     ]
    },
    {
     "name": "stdout",
     "output_type": "stream",
     "text": [
      "Total T: 17168 Episode Num: 448 Episode T: 65 Reward: -348.2183143502339\n"
     ]
    },
    {
     "name": "stderr",
     "output_type": "stream",
     "text": [
      "Train model: 100%|██████████| 65/65 [01:01<00:00,  1.06batch/s]\n"
     ]
    },
    {
     "name": "stdout",
     "output_type": "stream",
     "text": [
      "Aborting episode due to head being > 0.5m away from centerline (0.5112660573523993).\n",
      "Total T: 17253 Episode Num: 449 Episode T: 85 Reward: -134.43618233809042\n"
     ]
    },
    {
     "name": "stderr",
     "output_type": "stream",
     "text": [
      "Train model: 100%|██████████| 85/85 [01:22<00:00,  1.02batch/s]\n"
     ]
    },
    {
     "name": "stdout",
     "output_type": "stream",
     "text": [
      "Aborting episode due to head being > 0.5m away from centerline (0.5014363072293251).\n",
      "Total T: 17339 Episode Num: 450 Episode T: 86 Reward: -111.61684234349151\n"
     ]
    },
    {
     "name": "stderr",
     "output_type": "stream",
     "text": [
      "Train model: 100%|██████████| 86/86 [01:23<00:00,  1.06batch/s]\n"
     ]
    },
    {
     "name": "stdout",
     "output_type": "stream",
     "text": [
      "-0.36033221287661776 -0.15541528743316987\n",
      "Aborting episode due to head being > .2m behind the pelvis (-0.2049169254434479).\n",
      "Total T: 17397 Episode Num: 451 Episode T: 58 Reward: -107.95529071873884\n"
     ]
    },
    {
     "name": "stderr",
     "output_type": "stream",
     "text": [
      "Train model: 100%|██████████| 58/58 [00:56<00:00,  1.01batch/s]\n"
     ]
    },
    {
     "name": "stdout",
     "output_type": "stream",
     "text": [
      "-0.4206235627435006 -0.21574294792325777\n",
      "Aborting episode due to head being > .2m behind the pelvis (-0.20488061482024283).\n",
      "Total T: 17483 Episode Num: 452 Episode T: 86 Reward: -144.22729524832954\n"
     ]
    },
    {
     "name": "stderr",
     "output_type": "stream",
     "text": [
      "Train model: 100%|██████████| 86/86 [01:23<00:00,  1.05batch/s]\n"
     ]
    },
    {
     "name": "stdout",
     "output_type": "stream",
     "text": [
      "-0.4137585533784827 -0.2117058467936747\n",
      "Aborting episode due to head being > .2m behind the pelvis (-0.202052706584808).\n",
      "Total T: 17571 Episode Num: 453 Episode T: 88 Reward: -141.4925046091431\n"
     ]
    },
    {
     "name": "stderr",
     "output_type": "stream",
     "text": [
      "Train model: 100%|██████████| 88/88 [01:26<00:00,  1.05batch/s]\n"
     ]
    },
    {
     "name": "stdout",
     "output_type": "stream",
     "text": [
      "Aborting episode due to head being > 0.5m away from centerline (0.5020904313691872).\n",
      "Total T: 17668 Episode Num: 454 Episode T: 97 Reward: -136.80066109560826\n"
     ]
    },
    {
     "name": "stderr",
     "output_type": "stream",
     "text": [
      "Train model: 100%|██████████| 97/97 [01:34<00:00,  1.04batch/s]\n"
     ]
    },
    {
     "name": "stdout",
     "output_type": "stream",
     "text": [
      "-0.5812311564198914 -0.3810907867396623\n",
      "Aborting episode due to head being > .2m behind the pelvis (-0.20014036968022914).\n",
      "Total T: 17782 Episode Num: 455 Episode T: 114 Reward: -251.64556048148904\n"
     ]
    },
    {
     "name": "stderr",
     "output_type": "stream",
     "text": [
      "Train model: 100%|██████████| 114/114 [01:53<00:00,  1.05batch/s]\n"
     ]
    },
    {
     "name": "stdout",
     "output_type": "stream",
     "text": [
      "Aborting episode due to head being > 0.5m away from centerline (0.5104650799978481).\n",
      "Total T: 17912 Episode Num: 456 Episode T: 130 Reward: -37.47244357482581\n"
     ]
    },
    {
     "name": "stderr",
     "output_type": "stream",
     "text": [
      "Train model: 100%|██████████| 130/130 [02:08<00:00,  1.03batch/s]\n"
     ]
    },
    {
     "name": "stdout",
     "output_type": "stream",
     "text": [
      "-0.7567851003590618 -0.5520854619940802\n",
      "Aborting episode due to head being > .2m behind the pelvis (-0.20469963836498162).\n",
      "Total T: 18018 Episode Num: 457 Episode T: 106 Reward: -382.2638835715986\n"
     ]
    },
    {
     "name": "stderr",
     "output_type": "stream",
     "text": [
      "Train model: 100%|██████████| 106/106 [01:44<00:00,  1.04batch/s]\n"
     ]
    },
    {
     "name": "stdout",
     "output_type": "stream",
     "text": [
      "-0.41306935401866157 -0.21116062137296268\n",
      "Aborting episode due to head being > .2m behind the pelvis (-0.2019087326456989).\n",
      "Total T: 18089 Episode Num: 458 Episode T: 71 Reward: -143.43602137177203\n"
     ]
    },
    {
     "name": "stderr",
     "output_type": "stream",
     "text": [
      "Train model: 100%|██████████| 71/71 [01:10<00:00,  1.03batch/s]\n"
     ]
    },
    {
     "name": "stdout",
     "output_type": "stream",
     "text": [
      "-0.5351490053427226 -0.3344668665279505\n",
      "Aborting episode due to head being > .2m behind the pelvis (-0.2006821388147721).\n",
      "Total T: 18194 Episode Num: 459 Episode T: 105 Reward: -222.84170982002482\n"
     ]
    },
    {
     "name": "stderr",
     "output_type": "stream",
     "text": [
      "Train model: 100%|██████████| 105/105 [01:43<00:00,  1.02batch/s]\n"
     ]
    },
    {
     "name": "stdout",
     "output_type": "stream",
     "text": [
      "-0.4409162367703858 -0.2371543190181207\n",
      "Aborting episode due to head being > .2m behind the pelvis (-0.20376191775226513).\n",
      "Total T: 18280 Episode Num: 460 Episode T: 86 Reward: -157.90314119926455\n"
     ]
    },
    {
     "name": "stderr",
     "output_type": "stream",
     "text": [
      "Train model: 100%|██████████| 86/86 [01:27<00:00,  1.15s/batch]\n"
     ]
    },
    {
     "name": "stdout",
     "output_type": "stream",
     "text": [
      "-0.5114015862368713 -0.30687113682772893\n",
      "Aborting episode due to head being > .2m behind the pelvis (-0.20453044940914233).\n",
      "Total T: 18372 Episode Num: 461 Episode T: 92 Reward: -203.05195500723053\n"
     ]
    },
    {
     "name": "stderr",
     "output_type": "stream",
     "text": [
      "Train model: 100%|██████████| 92/92 [01:32<00:00,  1.02batch/s]\n"
     ]
    },
    {
     "name": "stdout",
     "output_type": "stream",
     "text": [
      "Aborting episode due to head being > 0.5m away from centerline (0.5078060775078879).\n",
      "Total T: 18454 Episode Num: 462 Episode T: 82 Reward: -113.71989300881833\n"
     ]
    },
    {
     "name": "stderr",
     "output_type": "stream",
     "text": [
      "Train model: 100%|██████████| 82/82 [01:22<00:00,  1.02batch/s]\n"
     ]
    },
    {
     "name": "stdout",
     "output_type": "stream",
     "text": [
      "-0.6431456114685976 -0.4391747184942049\n",
      "Aborting episode due to head being > .2m behind the pelvis (-0.2039708929743927).\n",
      "Total T: 18553 Episode Num: 463 Episode T: 99 Reward: -296.54520546192475\n"
     ]
    },
    {
     "name": "stderr",
     "output_type": "stream",
     "text": [
      "Train model: 100%|██████████| 99/99 [01:39<00:00,  1.01batch/s]\n"
     ]
    },
    {
     "name": "stdout",
     "output_type": "stream",
     "text": [
      "Aborting episode due to head being > 0.5m away from centerline (0.5146517878477829).\n",
      "Total T: 18627 Episode Num: 464 Episode T: 74 Reward: -282.9550773262084\n"
     ]
    },
    {
     "name": "stderr",
     "output_type": "stream",
     "text": [
      "Train model: 100%|██████████| 74/74 [01:14<00:00,  1.02batch/s]\n"
     ]
    },
    {
     "name": "stdout",
     "output_type": "stream",
     "text": [
      "-0.5498023024290462 -0.3461596119515907\n",
      "Aborting episode due to head being > .2m behind the pelvis (-0.20364269047745548).\n",
      "Total T: 18729 Episode Num: 465 Episode T: 102 Reward: -230.0625165560932\n"
     ]
    },
    {
     "name": "stderr",
     "output_type": "stream",
     "text": [
      "Train model: 100%|██████████| 102/102 [01:44<00:00,  1.25s/batch]\n"
     ]
    },
    {
     "name": "stdout",
     "output_type": "stream",
     "text": [
      "Aborting episode due to head being > 0.5m away from centerline (0.502153802515233).\n",
      "Total T: 18826 Episode Num: 466 Episode T: 97 Reward: -142.47441720487586\n"
     ]
    },
    {
     "name": "stderr",
     "output_type": "stream",
     "text": [
      "Train model: 100%|██████████| 97/97 [01:37<00:00,  1.01batch/s]\n"
     ]
    },
    {
     "name": "stdout",
     "output_type": "stream",
     "text": [
      "Total T: 18882 Episode Num: 467 Episode T: 56 Reward: -298.8253208301773\n"
     ]
    },
    {
     "name": "stderr",
     "output_type": "stream",
     "text": [
      "Train model: 100%|██████████| 56/56 [00:57<00:00,  1.03s/batch]\n"
     ]
    },
    {
     "name": "stdout",
     "output_type": "stream",
     "text": [
      "Total T: 18947 Episode Num: 468 Episode T: 65 Reward: -359.2326649763976\n"
     ]
    },
    {
     "name": "stderr",
     "output_type": "stream",
     "text": [
      "Train model: 100%|██████████| 65/65 [01:04<00:00,  1.00s/batch]\n"
     ]
    },
    {
     "name": "stdout",
     "output_type": "stream",
     "text": [
      "Total T: 19022 Episode Num: 469 Episode T: 75 Reward: -388.96707415360225\n"
     ]
    },
    {
     "name": "stderr",
     "output_type": "stream",
     "text": [
      "Train model: 100%|██████████| 75/75 [01:16<00:00,  1.01s/batch]\n"
     ]
    },
    {
     "name": "stdout",
     "output_type": "stream",
     "text": [
      "-0.5854022664069125 -0.37981240240727593\n",
      "Aborting episode due to head being > .2m behind the pelvis (-0.20558986399963658).\n",
      "Total T: 19112 Episode Num: 470 Episode T: 90 Reward: -260.5596494511561\n"
     ]
    },
    {
     "name": "stderr",
     "output_type": "stream",
     "text": [
      "Train model: 100%|██████████| 90/90 [01:33<00:00,  1.14s/batch]\n"
     ]
    },
    {
     "name": "stdout",
     "output_type": "stream",
     "text": [
      "-0.4929141393401899 -0.2926871970765901\n",
      "Aborting episode due to head being > .2m behind the pelvis (-0.20022694226359983).\n",
      "Total T: 19195 Episode Num: 471 Episode T: 83 Reward: -198.4757846912065\n"
     ]
    },
    {
     "name": "stderr",
     "output_type": "stream",
     "text": [
      "Train model: 100%|██████████| 83/83 [01:25<00:00,  1.03s/batch]\n"
     ]
    },
    {
     "name": "stdout",
     "output_type": "stream",
     "text": [
      "-0.3848824414091029 -0.1835430947291666\n",
      "Aborting episode due to head being > .2m behind the pelvis (-0.20133934667993628).\n",
      "Total T: 19282 Episode Num: 472 Episode T: 87 Reward: -121.28999953105978\n"
     ]
    },
    {
     "name": "stderr",
     "output_type": "stream",
     "text": [
      "Train model: 100%|██████████| 87/87 [01:29<00:00,  1.01s/batch]\n"
     ]
    },
    {
     "name": "stdout",
     "output_type": "stream",
     "text": [
      "Total T: 19556 Episode Num: 473 Episode T: 274 Reward: 39.98182569334986\n"
     ]
    },
    {
     "name": "stderr",
     "output_type": "stream",
     "text": [
      "Train model: 100%|██████████| 274/274 [04:44<00:00,  1.01s/batch]\n"
     ]
    },
    {
     "name": "stdout",
     "output_type": "stream",
     "text": [
      "Aborting episode due to head being > 0.5m away from centerline (0.5039020023428586).\n",
      "Total T: 19629 Episode Num: 474 Episode T: 73 Reward: -301.06665249855735\n"
     ]
    },
    {
     "name": "stderr",
     "output_type": "stream",
     "text": [
      "Train model: 100%|██████████| 73/73 [01:16<00:00,  1.02s/batch]\n"
     ]
    },
    {
     "name": "stdout",
     "output_type": "stream",
     "text": [
      "-0.339311832680046 -0.13309532865442888\n",
      "Aborting episode due to head being > .2m behind the pelvis (-0.20621650402561711).\n",
      "Total T: 19694 Episode Num: 475 Episode T: 65 Reward: -90.74416440343819\n"
     ]
    },
    {
     "name": "stderr",
     "output_type": "stream",
     "text": [
      "Train model: 100%|██████████| 65/65 [01:08<00:00,  1.02s/batch]\n"
     ]
    },
    {
     "name": "stdout",
     "output_type": "stream",
     "text": [
      "Total T: 19765 Episode Num: 476 Episode T: 71 Reward: -372.01202334805987\n"
     ]
    },
    {
     "name": "stderr",
     "output_type": "stream",
     "text": [
      "Train model: 100%|██████████| 71/71 [01:14<00:00,  1.03s/batch]\n"
     ]
    },
    {
     "name": "stdout",
     "output_type": "stream",
     "text": [
      "Aborting episode due to head being > 0.5m away from centerline (0.5089461068132874).\n",
      "Total T: 19843 Episode Num: 477 Episode T: 78 Reward: -169.47483593985677\n"
     ]
    },
    {
     "name": "stderr",
     "output_type": "stream",
     "text": [
      "Train model: 100%|██████████| 78/78 [01:21<00:00,  1.02s/batch]\n"
     ]
    },
    {
     "name": "stdout",
     "output_type": "stream",
     "text": [
      "-0.5010028313126915 -0.2967441885605754\n",
      "Aborting episode due to head being > .2m behind the pelvis (-0.20425864275211614).\n",
      "Total T: 19942 Episode Num: 478 Episode T: 99 Reward: -197.18750055083896\n"
     ]
    },
    {
     "name": "stderr",
     "output_type": "stream",
     "text": [
      "Train model: 100%|██████████| 99/99 [01:43<00:00,  1.03s/batch]\n"
     ]
    },
    {
     "name": "stdout",
     "output_type": "stream",
     "text": [
      "-0.6059439170344165 -0.4057953164382083\n",
      "Aborting episode due to head being > .2m behind the pelvis (-0.2001486005962082).\n",
      "Total T: 20040 Episode Num: 479 Episode T: 98 Reward: -276.74871703677434\n"
     ]
    },
    {
     "name": "stderr",
     "output_type": "stream",
     "text": [
      "Train model: 100%|██████████| 98/98 [01:44<00:00,  1.16s/batch]\n",
      "Evaluating policy: 100%|██████████| 10/10 [03:35<00:00, 21.53s/episode]\n"
     ]
    },
    {
     "name": "stdout",
     "output_type": "stream",
     "text": [
      "---------------------------------------\n",
      "Evaluation over 10 episodes: -80.552263\n",
      "---------------------------------------\n",
      "-0.7377387353538707 -0.5295867543151995\n",
      "Aborting episode due to head being > .2m behind the pelvis (-0.20815198103867116).\n",
      "Total T: 20136 Episode Num: 480 Episode T: 96 Reward: -365.34017712853347\n"
     ]
    },
    {
     "name": "stderr",
     "output_type": "stream",
     "text": [
      "Train model: 100%|██████████| 96/96 [01:45<00:00,  1.07s/batch]\n"
     ]
    },
    {
     "name": "stdout",
     "output_type": "stream",
     "text": [
      "-0.7726929737241577 -0.5690320557868884\n",
      "Aborting episode due to head being > .2m behind the pelvis (-0.20366091793726926).\n",
      "Total T: 20252 Episode Num: 481 Episode T: 116 Reward: -390.1844280672774\n"
     ]
    },
    {
     "name": "stderr",
     "output_type": "stream",
     "text": [
      "Train model: 100%|██████████| 116/116 [02:08<00:00,  1.15s/batch]\n"
     ]
    },
    {
     "name": "stdout",
     "output_type": "stream",
     "text": [
      "-0.6029565984603112 -0.3941485808152208\n",
      "Aborting episode due to head being > .2m behind the pelvis (-0.20880801764509044).\n",
      "Total T: 20333 Episode Num: 482 Episode T: 81 Reward: -271.04592705796387\n"
     ]
    },
    {
     "name": "stderr",
     "output_type": "stream",
     "text": [
      "Train model: 100%|██████████| 81/81 [01:27<00:00,  1.08s/batch]\n"
     ]
    },
    {
     "name": "stdout",
     "output_type": "stream",
     "text": [
      "Total T: 20508 Episode Num: 483 Episode T: 175 Reward: 129.219791945221\n"
     ]
    },
    {
     "name": "stderr",
     "output_type": "stream",
     "text": [
      "Train model: 100%|██████████| 175/175 [03:14<00:00,  1.09s/batch]\n"
     ]
    },
    {
     "name": "stdout",
     "output_type": "stream",
     "text": [
      "Aborting episode due to custom reward < -10 (-88.09252537680928):\n",
      "  reward `lean_forward_x` = -2.14196991244655\n",
      "  reward `low_y_vel_pros_foot_r` = -231.43033843981115\n",
      "Total T: 20520 Episode Num: 484 Episode T: 12 Reward: 28.00059443372837\n"
     ]
    },
    {
     "name": "stderr",
     "output_type": "stream",
     "text": [
      "Train model: 100%|██████████| 12/12 [00:13<00:00,  1.10s/batch]\n"
     ]
    },
    {
     "name": "stdout",
     "output_type": "stream",
     "text": [
      "Aborting episode due to head being > 0.5m away from centerline (0.5020956269701171).\n",
      "Total T: 20593 Episode Num: 485 Episode T: 73 Reward: -151.96521611976226\n"
     ]
    },
    {
     "name": "stderr",
     "output_type": "stream",
     "text": [
      "Train model: 100%|██████████| 73/73 [01:21<00:00,  1.09s/batch]\n"
     ]
    },
    {
     "name": "stdout",
     "output_type": "stream",
     "text": [
      "Aborting episode due to head being > 0.5m away from centerline (0.5093058053439696).\n",
      "Total T: 20674 Episode Num: 486 Episode T: 81 Reward: -213.4735342826619\n"
     ]
    },
    {
     "name": "stderr",
     "output_type": "stream",
     "text": [
      "Train model: 100%|██████████| 81/81 [01:30<00:00,  1.10s/batch]\n"
     ]
    },
    {
     "name": "stdout",
     "output_type": "stream",
     "text": [
      "Total T: 20755 Episode Num: 487 Episode T: 81 Reward: -349.24389845578764\n"
     ]
    },
    {
     "name": "stderr",
     "output_type": "stream",
     "text": [
      "Train model: 100%|██████████| 81/81 [01:30<00:00,  1.09s/batch]\n"
     ]
    },
    {
     "name": "stdout",
     "output_type": "stream",
     "text": [
      "-0.44507251130085174 -0.2412882027355096\n",
      "Aborting episode due to head being > .2m behind the pelvis (-0.20378430856534213).\n",
      "Total T: 20839 Episode Num: 488 Episode T: 84 Reward: -162.25356561510722\n"
     ]
    },
    {
     "name": "stderr",
     "output_type": "stream",
     "text": [
      "Train model: 100%|██████████| 84/84 [01:33<00:00,  1.09s/batch]\n"
     ]
    },
    {
     "name": "stdout",
     "output_type": "stream",
     "text": [
      "-0.427484500120451 -0.22517936522643164\n",
      "Aborting episode due to head being > .2m behind the pelvis (-0.20230513489401938).\n",
      "Total T: 20933 Episode Num: 489 Episode T: 94 Reward: -152.38028649620887\n"
     ]
    },
    {
     "name": "stderr",
     "output_type": "stream",
     "text": [
      "Train model: 100%|██████████| 94/94 [01:44<00:00,  1.09s/batch]\n"
     ]
    },
    {
     "name": "stdout",
     "output_type": "stream",
     "text": [
      "-0.47279807500522286 -0.26838757076816555\n",
      "Aborting episode due to head being > .2m behind the pelvis (-0.2044105042370573).\n",
      "Total T: 21021 Episode Num: 490 Episode T: 88 Reward: -179.0858596201823\n"
     ]
    },
    {
     "name": "stderr",
     "output_type": "stream",
     "text": [
      "Train model: 100%|██████████| 88/88 [01:38<00:00,  1.08s/batch]\n"
     ]
    },
    {
     "name": "stdout",
     "output_type": "stream",
     "text": [
      "Aborting episode due to head being > 0.5m away from centerline (0.5030210050958719).\n",
      "Total T: 21132 Episode Num: 491 Episode T: 111 Reward: -142.21773728555894\n"
     ]
    },
    {
     "name": "stderr",
     "output_type": "stream",
     "text": [
      "Train model: 100%|██████████| 111/111 [02:03<00:00,  1.10s/batch]\n"
     ]
    },
    {
     "name": "stdout",
     "output_type": "stream",
     "text": [
      "-0.6909085725702804 -0.4878882335931532\n",
      "Aborting episode due to head being > .2m behind the pelvis (-0.20302033897712718).\n",
      "Total T: 21233 Episode Num: 492 Episode T: 101 Reward: -334.81767526655267\n"
     ]
    },
    {
     "name": "stderr",
     "output_type": "stream",
     "text": [
      "Train model: 100%|██████████| 101/101 [01:53<00:00,  1.10s/batch]\n"
     ]
    },
    {
     "name": "stdout",
     "output_type": "stream",
     "text": [
      "Aborting episode due to head being > 0.5m away from centerline (-0.5018064284232019).\n",
      "Total T: 21359 Episode Num: 493 Episode T: 126 Reward: -190.0974864974891\n"
     ]
    },
    {
     "name": "stderr",
     "output_type": "stream",
     "text": [
      "Train model: 100%|██████████| 126/126 [02:23<00:00,  1.10s/batch]\n"
     ]
    },
    {
     "name": "stdout",
     "output_type": "stream",
     "text": [
      "-0.48712813723117 -0.285254352502295\n",
      "Aborting episode due to head being > .2m behind the pelvis (-0.20187378472887496).\n",
      "Total T: 21477 Episode Num: 494 Episode T: 118 Reward: -189.04183662774753\n"
     ]
    },
    {
     "name": "stderr",
     "output_type": "stream",
     "text": [
      "Train model: 100%|██████████| 118/118 [02:12<00:00,  1.10s/batch]\n"
     ]
    },
    {
     "name": "stdout",
     "output_type": "stream",
     "text": [
      "-0.5955374236589799 -0.39486597228758147\n",
      "Aborting episode due to head being > .2m behind the pelvis (-0.2006714513713984).\n",
      "Total T: 21597 Episode Num: 495 Episode T: 120 Reward: -259.73756791499454\n"
     ]
    },
    {
     "name": "stderr",
     "output_type": "stream",
     "text": [
      "Train model: 100%|██████████| 120/120 [02:15<00:00,  1.10s/batch]\n"
     ]
    },
    {
     "name": "stdout",
     "output_type": "stream",
     "text": [
      "-0.4819681499211987 -0.2784809947470607\n",
      "Aborting episode due to head being > .2m behind the pelvis (-0.203487155174138).\n",
      "Total T: 21698 Episode Num: 496 Episode T: 101 Reward: -185.3367334939004\n"
     ]
    },
    {
     "name": "stderr",
     "output_type": "stream",
     "text": [
      "Train model: 100%|██████████| 101/101 [01:54<00:00,  1.11s/batch]\n"
     ]
    },
    {
     "name": "stdout",
     "output_type": "stream",
     "text": [
      "-0.3682027385949409 -0.16648440678747933\n",
      "Aborting episode due to head being > .2m behind the pelvis (-0.20171833180746157).\n",
      "Total T: 21749 Episode Num: 497 Episode T: 51 Reward: -119.85933518881615\n"
     ]
    },
    {
     "name": "stderr",
     "output_type": "stream",
     "text": [
      "Train model: 100%|██████████| 51/51 [00:59<00:00,  1.12s/batch]\n"
     ]
    },
    {
     "name": "stdout",
     "output_type": "stream",
     "text": [
      "Aborting episode due to head being > 0.5m away from centerline (0.5114394041278554).\n",
      "Total T: 21826 Episode Num: 498 Episode T: 77 Reward: -137.56613055025684\n"
     ]
    },
    {
     "name": "stderr",
     "output_type": "stream",
     "text": [
      "Train model: 100%|██████████| 77/77 [01:28<00:00,  1.12s/batch]\n"
     ]
    },
    {
     "name": "stdout",
     "output_type": "stream",
     "text": [
      "-0.5252911346485445 -0.32513912551786156\n",
      "Aborting episode due to head being > .2m behind the pelvis (-0.20015200913068293).\n",
      "Total T: 21934 Episode Num: 499 Episode T: 108 Reward: -214.59625527616737\n"
     ]
    },
    {
     "name": "stderr",
     "output_type": "stream",
     "text": [
      "Train model: 100%|██████████| 108/108 [02:03<00:00,  1.12s/batch]\n"
     ]
    },
    {
     "name": "stdout",
     "output_type": "stream",
     "text": [
      "Aborting episode due to head being > 0.5m away from centerline (0.5024232517182882).\n",
      "Total T: 21998 Episode Num: 500 Episode T: 64 Reward: -93.52418857049001\n"
     ]
    },
    {
     "name": "stderr",
     "output_type": "stream",
     "text": [
      "Train model: 100%|██████████| 64/64 [01:14<00:00,  1.18s/batch]\n"
     ]
    },
    {
     "name": "stdout",
     "output_type": "stream",
     "text": [
      "-0.13876428407506847 0.061647340270513024\n",
      "Aborting episode due to head being > .2m behind the pelvis (-0.2004116243455815).\n",
      "Total T: 22012 Episode Num: 501 Episode T: 14 Reward: 34.05378288614108\n"
     ]
    },
    {
     "name": "stderr",
     "output_type": "stream",
     "text": [
      "Train model: 100%|██████████| 14/14 [00:15<00:00,  1.12s/batch]\n"
     ]
    },
    {
     "name": "stdout",
     "output_type": "stream",
     "text": [
      "-0.46330392597765635 -0.2627997204687786\n",
      "Aborting episode due to head being > .2m behind the pelvis (-0.20050420550887776).\n",
      "Total T: 22147 Episode Num: 502 Episode T: 135 Reward: -173.83895191432063\n"
     ]
    },
    {
     "name": "stderr",
     "output_type": "stream",
     "text": [
      "Train model: 100%|██████████| 135/135 [02:34<00:00,  1.13s/batch]\n"
     ]
    },
    {
     "name": "stdout",
     "output_type": "stream",
     "text": [
      "-0.4502821074877339 -0.24753368579764573\n",
      "Aborting episode due to head being > .2m behind the pelvis (-0.20274842169008817).\n",
      "Total T: 22244 Episode Num: 503 Episode T: 97 Reward: -160.69095508770593\n"
     ]
    },
    {
     "name": "stderr",
     "output_type": "stream",
     "text": [
      "Train model: 100%|██████████| 97/97 [01:55<00:00,  1.13s/batch]\n"
     ]
    },
    {
     "name": "stdout",
     "output_type": "stream",
     "text": [
      "Aborting episode due to head being > 0.5m away from centerline (0.5069216171352329).\n",
      "Total T: 22338 Episode Num: 504 Episode T: 94 Reward: -162.64208942221723\n"
     ]
    },
    {
     "name": "stderr",
     "output_type": "stream",
     "text": [
      "Train model: 100%|██████████| 94/94 [01:48<00:00,  1.12s/batch]\n"
     ]
    },
    {
     "name": "stdout",
     "output_type": "stream",
     "text": [
      "Aborting episode due to head being > 0.5m away from centerline (0.5093866125036768).\n",
      "Total T: 22420 Episode Num: 505 Episode T: 82 Reward: -109.93943252894113\n"
     ]
    },
    {
     "name": "stderr",
     "output_type": "stream",
     "text": [
      "Train model: 100%|██████████| 82/82 [01:35<00:00,  1.13s/batch]\n"
     ]
    },
    {
     "name": "stdout",
     "output_type": "stream",
     "text": [
      "Aborting episode due to head being > 0.5m away from centerline (0.5027879071052427).\n",
      "Total T: 22504 Episode Num: 506 Episode T: 84 Reward: -134.0954857135766\n"
     ]
    },
    {
     "name": "stderr",
     "output_type": "stream",
     "text": [
      "Train model: 100%|██████████| 84/84 [01:37<00:00,  1.13s/batch]\n"
     ]
    },
    {
     "name": "stdout",
     "output_type": "stream",
     "text": [
      "-0.4798972207549811 -0.2772168268941894\n",
      "Aborting episode due to head being > .2m behind the pelvis (-0.20268039386079167).\n",
      "Total T: 22584 Episode Num: 507 Episode T: 80 Reward: -186.7164457672181\n"
     ]
    },
    {
     "name": "stderr",
     "output_type": "stream",
     "text": [
      "Train model: 100%|██████████| 80/80 [01:33<00:00,  1.13s/batch]\n"
     ]
    },
    {
     "name": "stdout",
     "output_type": "stream",
     "text": [
      "-0.8949156930123476 -0.6909619530295561\n",
      "Aborting episode due to head being > .2m behind the pelvis (-0.20395373998279154).\n",
      "Total T: 22700 Episode Num: 508 Episode T: 116 Reward: -481.76799009694406\n"
     ]
    },
    {
     "name": "stderr",
     "output_type": "stream",
     "text": [
      "Train model: 100%|██████████| 116/116 [02:14<00:00,  1.18s/batch]\n"
     ]
    },
    {
     "name": "stdout",
     "output_type": "stream",
     "text": [
      "Aborting episode due to head being > 0.5m away from centerline (0.5046041127007319).\n",
      "Total T: 22799 Episode Num: 509 Episode T: 99 Reward: -143.35370971877825\n"
     ]
    },
    {
     "name": "stderr",
     "output_type": "stream",
     "text": [
      "Train model: 100%|██████████| 99/99 [01:57<00:00,  1.15s/batch]\n"
     ]
    },
    {
     "name": "stdout",
     "output_type": "stream",
     "text": [
      "Aborting episode due to head being > 0.5m away from centerline (-0.5078809481766253).\n",
      "Total T: 22957 Episode Num: 510 Episode T: 158 Reward: -73.69178712181224\n"
     ]
    },
    {
     "name": "stderr",
     "output_type": "stream",
     "text": [
      "Train model: 100%|██████████| 158/158 [03:06<00:00,  1.15s/batch]\n"
     ]
    },
    {
     "name": "stdout",
     "output_type": "stream",
     "text": [
      "-0.6934859540749054 -0.49313036204009253\n",
      "Aborting episode due to head being > .2m behind the pelvis (-0.2003555920348129).\n",
      "Total T: 23057 Episode Num: 511 Episode T: 100 Reward: -341.2290613742581\n"
     ]
    },
    {
     "name": "stderr",
     "output_type": "stream",
     "text": [
      "Train model: 100%|██████████| 100/100 [01:57<00:00,  1.15s/batch]\n"
     ]
    },
    {
     "name": "stdout",
     "output_type": "stream",
     "text": [
      "Aborting episode due to head being > 0.5m away from centerline (0.5081666564819106).\n",
      "Total T: 23168 Episode Num: 512 Episode T: 111 Reward: -167.95877134964192\n"
     ]
    },
    {
     "name": "stderr",
     "output_type": "stream",
     "text": [
      "Train model: 100%|██████████| 111/111 [02:10<00:00,  1.16s/batch]\n"
     ]
    },
    {
     "name": "stdout",
     "output_type": "stream",
     "text": [
      "Aborting episode due to head being > 0.5m away from centerline (0.5055835697898989).\n",
      "Total T: 23252 Episode Num: 513 Episode T: 84 Reward: -145.4512352252282\n"
     ]
    },
    {
     "name": "stderr",
     "output_type": "stream",
     "text": [
      "Train model: 100%|██████████| 84/84 [01:39<00:00,  1.15s/batch]\n"
     ]
    },
    {
     "name": "stdout",
     "output_type": "stream",
     "text": [
      "-0.3450978858663967 -0.14313932448052502\n",
      "Aborting episode due to head being > .2m behind the pelvis (-0.2019585613858717).\n",
      "Total T: 23347 Episode Num: 514 Episode T: 95 Reward: -95.82672607114166\n"
     ]
    },
    {
     "name": "stderr",
     "output_type": "stream",
     "text": [
      "Train model: 100%|██████████| 95/95 [01:52<00:00,  1.16s/batch]\n"
     ]
    },
    {
     "name": "stdout",
     "output_type": "stream",
     "text": [
      "-0.42054346239616747 -0.2202896041533799\n",
      "Aborting episode due to head being > .2m behind the pelvis (-0.20025385824278757).\n",
      "Total T: 23443 Episode Num: 515 Episode T: 96 Reward: -146.6569797116032\n"
     ]
    },
    {
     "name": "stderr",
     "output_type": "stream",
     "text": [
      "Train model: 100%|██████████| 96/96 [01:54<00:00,  1.16s/batch]\n"
     ]
    },
    {
     "name": "stdout",
     "output_type": "stream",
     "text": [
      "-0.6114546285224749 -0.4024409906900902\n",
      "Aborting episode due to head being > .2m behind the pelvis (-0.2090136378323847).\n",
      "Total T: 23540 Episode Num: 516 Episode T: 97 Reward: -272.4023405081625\n"
     ]
    },
    {
     "name": "stderr",
     "output_type": "stream",
     "text": [
      "Train model: 100%|██████████| 97/97 [01:55<00:00,  1.17s/batch]\n"
     ]
    },
    {
     "name": "stdout",
     "output_type": "stream",
     "text": [
      "-0.33731949473569983 -0.13647040121873008\n",
      "Aborting episode due to head being > .2m behind the pelvis (-0.20084909351696975).\n",
      "Total T: 23607 Episode Num: 517 Episode T: 67 Reward: -92.9224195658961\n"
     ]
    },
    {
     "name": "stderr",
     "output_type": "stream",
     "text": [
      "Train model: 100%|██████████| 67/67 [01:20<00:00,  1.42s/batch]\n"
     ]
    },
    {
     "name": "stdout",
     "output_type": "stream",
     "text": [
      "Aborting episode due to head being > 0.5m away from centerline (0.5031162161843872).\n",
      "Total T: 23690 Episode Num: 518 Episode T: 83 Reward: -125.38405450934358\n"
     ]
    },
    {
     "name": "stderr",
     "output_type": "stream",
     "text": [
      "Train model: 100%|██████████| 83/83 [01:37<00:00,  1.18s/batch]\n"
     ]
    },
    {
     "name": "stdout",
     "output_type": "stream",
     "text": [
      "-0.41427714469681665 -0.21154317066351325\n",
      "Aborting episode due to head being > .2m behind the pelvis (-0.2027339740333034).\n",
      "Total T: 23789 Episode Num: 519 Episode T: 99 Reward: -140.01212705781342\n"
     ]
    },
    {
     "name": "stderr",
     "output_type": "stream",
     "text": [
      "Train model: 100%|██████████| 99/99 [01:58<00:00,  1.17s/batch]\n"
     ]
    },
    {
     "name": "stdout",
     "output_type": "stream",
     "text": [
      "Total T: 23865 Episode Num: 520 Episode T: 76 Reward: -369.2674607024093\n"
     ]
    },
    {
     "name": "stderr",
     "output_type": "stream",
     "text": [
      "Train model: 100%|██████████| 76/76 [01:31<00:00,  1.17s/batch]\n"
     ]
    },
    {
     "name": "stdout",
     "output_type": "stream",
     "text": [
      "Aborting episode due to head being > 0.5m away from centerline (0.5049747523264294).\n",
      "Total T: 23994 Episode Num: 521 Episode T: 129 Reward: 99.13724071376369\n"
     ]
    },
    {
     "name": "stderr",
     "output_type": "stream",
     "text": [
      "Train model: 100%|██████████| 129/129 [02:37<00:00,  1.69s/batch]\n"
     ]
    },
    {
     "name": "stdout",
     "output_type": "stream",
     "text": [
      "Aborting episode due to head being > 0.5m away from centerline (0.5001358296935956).\n",
      "Total T: 24063 Episode Num: 522 Episode T: 69 Reward: -281.26519727836984\n"
     ]
    },
    {
     "name": "stderr",
     "output_type": "stream",
     "text": [
      "Train model: 100%|██████████| 69/69 [01:21<00:00,  1.19s/batch]\n"
     ]
    },
    {
     "name": "stdout",
     "output_type": "stream",
     "text": [
      "-0.5979869119848878 -0.39227836778147207\n",
      "Aborting episode due to head being > .2m behind the pelvis (-0.20570854420341578).\n",
      "Total T: 24173 Episode Num: 523 Episode T: 110 Reward: -264.8108337048499\n"
     ]
    },
    {
     "name": "stderr",
     "output_type": "stream",
     "text": [
      "Train model: 100%|██████████| 110/110 [02:12<00:00,  1.18s/batch]\n"
     ]
    },
    {
     "name": "stdout",
     "output_type": "stream",
     "text": [
      "-0.4337974217305544 -0.2308793251763746\n",
      "Aborting episode due to head being > .2m behind the pelvis (-0.2029180965541798).\n",
      "Total T: 24255 Episode Num: 524 Episode T: 82 Reward: -153.36432410327728\n"
     ]
    },
    {
     "name": "stderr",
     "output_type": "stream",
     "text": [
      "Train model: 100%|██████████| 82/82 [01:39<00:00,  1.18s/batch]\n"
     ]
    },
    {
     "name": "stdout",
     "output_type": "stream",
     "text": [
      "Aborting episode due to head being > 0.5m away from centerline (0.5082838303408567).\n",
      "Total T: 24376 Episode Num: 525 Episode T: 121 Reward: -155.70231437940674\n"
     ]
    },
    {
     "name": "stderr",
     "output_type": "stream",
     "text": [
      "Train model: 100%|██████████| 121/121 [02:26<00:00,  1.19s/batch]\n"
     ]
    },
    {
     "name": "stdout",
     "output_type": "stream",
     "text": [
      "-0.3919420282309892 -0.1905027236450943\n",
      "Aborting episode due to head being > .2m behind the pelvis (-0.20143930458589493).\n",
      "Total T: 24461 Episode Num: 526 Episode T: 85 Reward: -126.23972043049496\n"
     ]
    },
    {
     "name": "stderr",
     "output_type": "stream",
     "text": [
      "Train model: 100%|██████████| 85/85 [01:43<00:00,  1.20s/batch]\n"
     ]
    },
    {
     "name": "stdout",
     "output_type": "stream",
     "text": [
      "-0.8462311710190158 -0.6454575396183302\n",
      "Aborting episode due to head being > .2m behind the pelvis (-0.2007736314006856).\n",
      "Total T: 24599 Episode Num: 527 Episode T: 138 Reward: -439.85742484260936\n"
     ]
    },
    {
     "name": "stderr",
     "output_type": "stream",
     "text": [
      "Train model: 100%|██████████| 138/138 [02:50<00:00,  1.20s/batch]\n"
     ]
    },
    {
     "name": "stdout",
     "output_type": "stream",
     "text": [
      "-0.4021633054705209 -0.19583737815027258\n",
      "Aborting episode due to head being > .2m behind the pelvis (-0.20632592732024835).\n",
      "Total T: 24694 Episode Num: 528 Episode T: 95 Reward: -128.45257255680204\n"
     ]
    },
    {
     "name": "stderr",
     "output_type": "stream",
     "text": [
      "Train model: 100%|██████████| 95/95 [01:56<00:00,  1.24s/batch]\n"
     ]
    },
    {
     "name": "stdout",
     "output_type": "stream",
     "text": [
      "Aborting episode due to head being > 0.5m away from centerline (0.5086965768778215).\n",
      "Total T: 24768 Episode Num: 529 Episode T: 74 Reward: -193.85320554464238\n"
     ]
    },
    {
     "name": "stderr",
     "output_type": "stream",
     "text": [
      "Train model: 100%|██████████| 74/74 [01:28<00:00,  1.20s/batch]\n"
     ]
    },
    {
     "name": "stdout",
     "output_type": "stream",
     "text": [
      "Aborting episode due to head being > 0.5m away from centerline (0.5107028319527429).\n",
      "Total T: 24857 Episode Num: 530 Episode T: 89 Reward: -154.1734434370078\n"
     ]
    },
    {
     "name": "stderr",
     "output_type": "stream",
     "text": [
      "Train model: 100%|██████████| 89/89 [01:49<00:00,  1.21s/batch]\n"
     ]
    },
    {
     "name": "stdout",
     "output_type": "stream",
     "text": [
      "Aborting episode due to head being > 0.5m away from centerline (0.5069596749150653).\n",
      "Total T: 24935 Episode Num: 531 Episode T: 78 Reward: -135.51871554428703\n"
     ]
    },
    {
     "name": "stderr",
     "output_type": "stream",
     "text": [
      "Train model: 100%|██████████| 78/78 [01:36<00:00,  1.20s/batch]\n"
     ]
    },
    {
     "name": "stdout",
     "output_type": "stream",
     "text": [
      "Aborting episode due to head being > 0.5m away from centerline (-0.5172219346787169).\n",
      "Total T: 25111 Episode Num: 532 Episode T: 176 Reward: -90.95824123347685\n"
     ]
    },
    {
     "name": "stderr",
     "output_type": "stream",
     "text": [
      "Train model: 100%|██████████| 176/176 [03:38<00:00,  1.20s/batch]\n",
      "Evaluating policy: 100%|██████████| 10/10 [03:41<00:00, 22.12s/episode]\n"
     ]
    },
    {
     "name": "stdout",
     "output_type": "stream",
     "text": [
      "---------------------------------------\n",
      "Evaluation over 10 episodes: -80.558020\n",
      "---------------------------------------\n"
     ]
    },
    {
     "ename": "MemoryError",
     "evalue": "",
     "output_type": "error",
     "traceback": [
      "\u001b[0;31m---------------------------------------------------------------------------\u001b[0m",
      "\u001b[0;31mMemoryError\u001b[0m                               Traceback (most recent call last)",
      "\u001b[0;32m<ipython-input-17-0a12d4901f13>\u001b[0m in \u001b[0;36m<module>\u001b[0;34m()\u001b[0m\n\u001b[1;32m     39\u001b[0m                 \u001b[0mpolicy\u001b[0m\u001b[0;34m.\u001b[0m\u001b[0msave\u001b[0m\u001b[0;34m(\u001b[0m\u001b[0mCHECKPOINTS_DIR\u001b[0m\u001b[0;34m,\u001b[0m \u001b[0mCONFIG\u001b[0m\u001b[0;34m[\u001b[0m\u001b[0;34m\"training\"\u001b[0m\u001b[0;34m]\u001b[0m\u001b[0;34m[\u001b[0m\u001b[0;34m\"checkpoint_save_load_prefix\"\u001b[0m\u001b[0;34m]\u001b[0m\u001b[0;34m)\u001b[0m\u001b[0;34m\u001b[0m\u001b[0m\n\u001b[1;32m     40\u001b[0m                 \u001b[0;31m# Checkpoint history\u001b[0m\u001b[0;34m\u001b[0m\u001b[0;34m\u001b[0m\u001b[0m\n\u001b[0;32m---> 41\u001b[0;31m                 \u001b[0mpd\u001b[0m\u001b[0;34m.\u001b[0m\u001b[0mconcat\u001b[0m\u001b[0;34m(\u001b[0m\u001b[0;34m[\u001b[0m\u001b[0mdf_saved_episodes\u001b[0m\u001b[0;34m,\u001b[0m \u001b[0menv\u001b[0m\u001b[0;34m.\u001b[0m\u001b[0mhistory\u001b[0m\u001b[0;34m(\u001b[0m\u001b[0;34m)\u001b[0m\u001b[0;34m]\u001b[0m\u001b[0;34m,\u001b[0m \u001b[0mignore_index\u001b[0m\u001b[0;34m=\u001b[0m\u001b[0;32mTrue\u001b[0m\u001b[0;34m,\u001b[0m \u001b[0mcopy\u001b[0m\u001b[0;34m=\u001b[0m\u001b[0;32mFalse\u001b[0m\u001b[0;34m)\u001b[0m\u001b[0;34m.\u001b[0m\u001b[0mto_hdf\u001b[0m\u001b[0;34m(\u001b[0m\u001b[0mCONFIG\u001b[0m\u001b[0;34m[\u001b[0m\u001b[0;34m'training'\u001b[0m\u001b[0;34m]\u001b[0m\u001b[0;34m[\u001b[0m\u001b[0;34m'episode_save_load_file'\u001b[0m\u001b[0;34m]\u001b[0m\u001b[0;34m,\u001b[0m \u001b[0mkey\u001b[0m\u001b[0;34m=\u001b[0m\u001b[0;34m'df'\u001b[0m\u001b[0;34m)\u001b[0m\u001b[0;34m\u001b[0m\u001b[0m\n\u001b[0m\u001b[1;32m     42\u001b[0m                 \u001b[0;31m# TODO Log evaluations, etc.\u001b[0m\u001b[0;34m\u001b[0m\u001b[0;34m\u001b[0m\u001b[0m\n\u001b[1;32m     43\u001b[0m \u001b[0;34m\u001b[0m\u001b[0m\n",
      "\u001b[0;32m~/.local/share/virtualenvs/nips-2018-ai-for-prosthetics-fCqIkKV7/lib/python3.6/site-packages/pandas/core/generic.py\u001b[0m in \u001b[0;36mto_hdf\u001b[0;34m(self, path_or_buf, key, **kwargs)\u001b[0m\n\u001b[1;32m   1994\u001b[0m         \"\"\"\n\u001b[1;32m   1995\u001b[0m         \u001b[0;32mfrom\u001b[0m \u001b[0mpandas\u001b[0m\u001b[0;34m.\u001b[0m\u001b[0mio\u001b[0m \u001b[0;32mimport\u001b[0m \u001b[0mpytables\u001b[0m\u001b[0;34m\u001b[0m\u001b[0m\n\u001b[0;32m-> 1996\u001b[0;31m         \u001b[0;32mreturn\u001b[0m \u001b[0mpytables\u001b[0m\u001b[0;34m.\u001b[0m\u001b[0mto_hdf\u001b[0m\u001b[0;34m(\u001b[0m\u001b[0mpath_or_buf\u001b[0m\u001b[0;34m,\u001b[0m \u001b[0mkey\u001b[0m\u001b[0;34m,\u001b[0m \u001b[0mself\u001b[0m\u001b[0;34m,\u001b[0m \u001b[0;34m**\u001b[0m\u001b[0mkwargs\u001b[0m\u001b[0;34m)\u001b[0m\u001b[0;34m\u001b[0m\u001b[0m\n\u001b[0m\u001b[1;32m   1997\u001b[0m \u001b[0;34m\u001b[0m\u001b[0m\n\u001b[1;32m   1998\u001b[0m     \u001b[0;32mdef\u001b[0m \u001b[0mto_msgpack\u001b[0m\u001b[0;34m(\u001b[0m\u001b[0mself\u001b[0m\u001b[0;34m,\u001b[0m \u001b[0mpath_or_buf\u001b[0m\u001b[0;34m=\u001b[0m\u001b[0;32mNone\u001b[0m\u001b[0;34m,\u001b[0m \u001b[0mencoding\u001b[0m\u001b[0;34m=\u001b[0m\u001b[0;34m'utf-8'\u001b[0m\u001b[0;34m,\u001b[0m \u001b[0;34m**\u001b[0m\u001b[0mkwargs\u001b[0m\u001b[0;34m)\u001b[0m\u001b[0;34m:\u001b[0m\u001b[0;34m\u001b[0m\u001b[0m\n",
      "\u001b[0;32m~/.local/share/virtualenvs/nips-2018-ai-for-prosthetics-fCqIkKV7/lib/python3.6/site-packages/pandas/io/pytables.py\u001b[0m in \u001b[0;36mto_hdf\u001b[0;34m(path_or_buf, key, value, mode, complevel, complib, append, **kwargs)\u001b[0m\n\u001b[1;32m    277\u001b[0m         with HDFStore(path_or_buf, mode=mode, complevel=complevel,\n\u001b[1;32m    278\u001b[0m                       complib=complib) as store:\n\u001b[0;32m--> 279\u001b[0;31m             \u001b[0mf\u001b[0m\u001b[0;34m(\u001b[0m\u001b[0mstore\u001b[0m\u001b[0;34m)\u001b[0m\u001b[0;34m\u001b[0m\u001b[0m\n\u001b[0m\u001b[1;32m    280\u001b[0m     \u001b[0;32melse\u001b[0m\u001b[0;34m:\u001b[0m\u001b[0;34m\u001b[0m\u001b[0m\n\u001b[1;32m    281\u001b[0m         \u001b[0mf\u001b[0m\u001b[0;34m(\u001b[0m\u001b[0mpath_or_buf\u001b[0m\u001b[0;34m)\u001b[0m\u001b[0;34m\u001b[0m\u001b[0m\n",
      "\u001b[0;32m~/.local/share/virtualenvs/nips-2018-ai-for-prosthetics-fCqIkKV7/lib/python3.6/site-packages/pandas/io/pytables.py\u001b[0m in \u001b[0;36m<lambda>\u001b[0;34m(store)\u001b[0m\n\u001b[1;32m    271\u001b[0m         \u001b[0mf\u001b[0m \u001b[0;34m=\u001b[0m \u001b[0;32mlambda\u001b[0m \u001b[0mstore\u001b[0m\u001b[0;34m:\u001b[0m \u001b[0mstore\u001b[0m\u001b[0;34m.\u001b[0m\u001b[0mappend\u001b[0m\u001b[0;34m(\u001b[0m\u001b[0mkey\u001b[0m\u001b[0;34m,\u001b[0m \u001b[0mvalue\u001b[0m\u001b[0;34m,\u001b[0m \u001b[0;34m**\u001b[0m\u001b[0mkwargs\u001b[0m\u001b[0;34m)\u001b[0m\u001b[0;34m\u001b[0m\u001b[0m\n\u001b[1;32m    272\u001b[0m     \u001b[0;32melse\u001b[0m\u001b[0;34m:\u001b[0m\u001b[0;34m\u001b[0m\u001b[0m\n\u001b[0;32m--> 273\u001b[0;31m         \u001b[0mf\u001b[0m \u001b[0;34m=\u001b[0m \u001b[0;32mlambda\u001b[0m \u001b[0mstore\u001b[0m\u001b[0;34m:\u001b[0m \u001b[0mstore\u001b[0m\u001b[0;34m.\u001b[0m\u001b[0mput\u001b[0m\u001b[0;34m(\u001b[0m\u001b[0mkey\u001b[0m\u001b[0;34m,\u001b[0m \u001b[0mvalue\u001b[0m\u001b[0;34m,\u001b[0m \u001b[0;34m**\u001b[0m\u001b[0mkwargs\u001b[0m\u001b[0;34m)\u001b[0m\u001b[0;34m\u001b[0m\u001b[0m\n\u001b[0m\u001b[1;32m    274\u001b[0m \u001b[0;34m\u001b[0m\u001b[0m\n\u001b[1;32m    275\u001b[0m     \u001b[0mpath_or_buf\u001b[0m \u001b[0;34m=\u001b[0m \u001b[0m_stringify_path\u001b[0m\u001b[0;34m(\u001b[0m\u001b[0mpath_or_buf\u001b[0m\u001b[0;34m)\u001b[0m\u001b[0;34m\u001b[0m\u001b[0m\n",
      "\u001b[0;32m~/.local/share/virtualenvs/nips-2018-ai-for-prosthetics-fCqIkKV7/lib/python3.6/site-packages/pandas/io/pytables.py\u001b[0m in \u001b[0;36mput\u001b[0;34m(self, key, value, format, append, **kwargs)\u001b[0m\n\u001b[1;32m    888\u001b[0m             \u001b[0mformat\u001b[0m \u001b[0;34m=\u001b[0m \u001b[0mget_option\u001b[0m\u001b[0;34m(\u001b[0m\u001b[0;34m\"io.hdf.default_format\"\u001b[0m\u001b[0;34m)\u001b[0m \u001b[0;32mor\u001b[0m \u001b[0;34m'fixed'\u001b[0m\u001b[0;34m\u001b[0m\u001b[0m\n\u001b[1;32m    889\u001b[0m         \u001b[0mkwargs\u001b[0m \u001b[0;34m=\u001b[0m \u001b[0mself\u001b[0m\u001b[0;34m.\u001b[0m\u001b[0m_validate_format\u001b[0m\u001b[0;34m(\u001b[0m\u001b[0mformat\u001b[0m\u001b[0;34m,\u001b[0m \u001b[0mkwargs\u001b[0m\u001b[0;34m)\u001b[0m\u001b[0;34m\u001b[0m\u001b[0m\n\u001b[0;32m--> 890\u001b[0;31m         \u001b[0mself\u001b[0m\u001b[0;34m.\u001b[0m\u001b[0m_write_to_group\u001b[0m\u001b[0;34m(\u001b[0m\u001b[0mkey\u001b[0m\u001b[0;34m,\u001b[0m \u001b[0mvalue\u001b[0m\u001b[0;34m,\u001b[0m \u001b[0mappend\u001b[0m\u001b[0;34m=\u001b[0m\u001b[0mappend\u001b[0m\u001b[0;34m,\u001b[0m \u001b[0;34m**\u001b[0m\u001b[0mkwargs\u001b[0m\u001b[0;34m)\u001b[0m\u001b[0;34m\u001b[0m\u001b[0m\n\u001b[0m\u001b[1;32m    891\u001b[0m \u001b[0;34m\u001b[0m\u001b[0m\n\u001b[1;32m    892\u001b[0m     \u001b[0;32mdef\u001b[0m \u001b[0mremove\u001b[0m\u001b[0;34m(\u001b[0m\u001b[0mself\u001b[0m\u001b[0;34m,\u001b[0m \u001b[0mkey\u001b[0m\u001b[0;34m,\u001b[0m \u001b[0mwhere\u001b[0m\u001b[0;34m=\u001b[0m\u001b[0;32mNone\u001b[0m\u001b[0;34m,\u001b[0m \u001b[0mstart\u001b[0m\u001b[0;34m=\u001b[0m\u001b[0;32mNone\u001b[0m\u001b[0;34m,\u001b[0m \u001b[0mstop\u001b[0m\u001b[0;34m=\u001b[0m\u001b[0;32mNone\u001b[0m\u001b[0;34m)\u001b[0m\u001b[0;34m:\u001b[0m\u001b[0;34m\u001b[0m\u001b[0m\n",
      "\u001b[0;32m~/.local/share/virtualenvs/nips-2018-ai-for-prosthetics-fCqIkKV7/lib/python3.6/site-packages/pandas/io/pytables.py\u001b[0m in \u001b[0;36m_write_to_group\u001b[0;34m(self, key, value, format, index, append, complib, encoding, **kwargs)\u001b[0m\n\u001b[1;32m   1365\u001b[0m \u001b[0;34m\u001b[0m\u001b[0m\n\u001b[1;32m   1366\u001b[0m         \u001b[0;31m# write the object\u001b[0m\u001b[0;34m\u001b[0m\u001b[0;34m\u001b[0m\u001b[0m\n\u001b[0;32m-> 1367\u001b[0;31m         \u001b[0ms\u001b[0m\u001b[0;34m.\u001b[0m\u001b[0mwrite\u001b[0m\u001b[0;34m(\u001b[0m\u001b[0mobj\u001b[0m\u001b[0;34m=\u001b[0m\u001b[0mvalue\u001b[0m\u001b[0;34m,\u001b[0m \u001b[0mappend\u001b[0m\u001b[0;34m=\u001b[0m\u001b[0mappend\u001b[0m\u001b[0;34m,\u001b[0m \u001b[0mcomplib\u001b[0m\u001b[0;34m=\u001b[0m\u001b[0mcomplib\u001b[0m\u001b[0;34m,\u001b[0m \u001b[0;34m**\u001b[0m\u001b[0mkwargs\u001b[0m\u001b[0;34m)\u001b[0m\u001b[0;34m\u001b[0m\u001b[0m\n\u001b[0m\u001b[1;32m   1368\u001b[0m \u001b[0;34m\u001b[0m\u001b[0m\n\u001b[1;32m   1369\u001b[0m         \u001b[0;32mif\u001b[0m \u001b[0ms\u001b[0m\u001b[0;34m.\u001b[0m\u001b[0mis_table\u001b[0m \u001b[0;32mand\u001b[0m \u001b[0mindex\u001b[0m\u001b[0;34m:\u001b[0m\u001b[0;34m\u001b[0m\u001b[0m\n",
      "\u001b[0;32m~/.local/share/virtualenvs/nips-2018-ai-for-prosthetics-fCqIkKV7/lib/python3.6/site-packages/pandas/io/pytables.py\u001b[0m in \u001b[0;36mwrite\u001b[0;34m(self, obj, **kwargs)\u001b[0m\n\u001b[1;32m   2961\u001b[0m             \u001b[0;31m# I have no idea why, but writing values before items fixed #2299\u001b[0m\u001b[0;34m\u001b[0m\u001b[0;34m\u001b[0m\u001b[0m\n\u001b[1;32m   2962\u001b[0m             \u001b[0mblk_items\u001b[0m \u001b[0;34m=\u001b[0m \u001b[0mdata\u001b[0m\u001b[0;34m.\u001b[0m\u001b[0mitems\u001b[0m\u001b[0;34m.\u001b[0m\u001b[0mtake\u001b[0m\u001b[0;34m(\u001b[0m\u001b[0mblk\u001b[0m\u001b[0;34m.\u001b[0m\u001b[0mmgr_locs\u001b[0m\u001b[0;34m)\u001b[0m\u001b[0;34m\u001b[0m\u001b[0m\n\u001b[0;32m-> 2963\u001b[0;31m             \u001b[0mself\u001b[0m\u001b[0;34m.\u001b[0m\u001b[0mwrite_array\u001b[0m\u001b[0;34m(\u001b[0m\u001b[0;34m'block%d_values'\u001b[0m \u001b[0;34m%\u001b[0m \u001b[0mi\u001b[0m\u001b[0;34m,\u001b[0m \u001b[0mblk\u001b[0m\u001b[0;34m.\u001b[0m\u001b[0mvalues\u001b[0m\u001b[0;34m,\u001b[0m \u001b[0mitems\u001b[0m\u001b[0;34m=\u001b[0m\u001b[0mblk_items\u001b[0m\u001b[0;34m)\u001b[0m\u001b[0;34m\u001b[0m\u001b[0m\n\u001b[0m\u001b[1;32m   2964\u001b[0m             \u001b[0mself\u001b[0m\u001b[0;34m.\u001b[0m\u001b[0mwrite_index\u001b[0m\u001b[0;34m(\u001b[0m\u001b[0;34m'block%d_items'\u001b[0m \u001b[0;34m%\u001b[0m \u001b[0mi\u001b[0m\u001b[0;34m,\u001b[0m \u001b[0mblk_items\u001b[0m\u001b[0;34m)\u001b[0m\u001b[0;34m\u001b[0m\u001b[0m\n\u001b[1;32m   2965\u001b[0m \u001b[0;34m\u001b[0m\u001b[0m\n",
      "\u001b[0;32m~/.local/share/virtualenvs/nips-2018-ai-for-prosthetics-fCqIkKV7/lib/python3.6/site-packages/pandas/io/pytables.py\u001b[0m in \u001b[0;36mwrite_array\u001b[0;34m(self, key, value, items)\u001b[0m\n\u001b[1;32m   2728\u001b[0m             vlarr = self._handle.create_vlarray(self.group, key,\n\u001b[1;32m   2729\u001b[0m                                                 _tables().ObjectAtom())\n\u001b[0;32m-> 2730\u001b[0;31m             \u001b[0mvlarr\u001b[0m\u001b[0;34m.\u001b[0m\u001b[0mappend\u001b[0m\u001b[0;34m(\u001b[0m\u001b[0mvalue\u001b[0m\u001b[0;34m)\u001b[0m\u001b[0;34m\u001b[0m\u001b[0m\n\u001b[0m\u001b[1;32m   2731\u001b[0m         \u001b[0;32melse\u001b[0m\u001b[0;34m:\u001b[0m\u001b[0;34m\u001b[0m\u001b[0m\n\u001b[1;32m   2732\u001b[0m             \u001b[0;32mif\u001b[0m \u001b[0mempty_array\u001b[0m\u001b[0;34m:\u001b[0m\u001b[0;34m\u001b[0m\u001b[0m\n",
      "\u001b[0;32m~/.local/share/virtualenvs/nips-2018-ai-for-prosthetics-fCqIkKV7/lib/python3.6/site-packages/tables/vlarray.py\u001b[0m in \u001b[0;36mappend\u001b[0;34m(self, sequence)\u001b[0m\n\u001b[1;32m    527\u001b[0m         \u001b[0matom\u001b[0m \u001b[0;34m=\u001b[0m \u001b[0mself\u001b[0m\u001b[0;34m.\u001b[0m\u001b[0matom\u001b[0m\u001b[0;34m\u001b[0m\u001b[0m\n\u001b[1;32m    528\u001b[0m         \u001b[0;32mif\u001b[0m \u001b[0;32mnot\u001b[0m \u001b[0mhasattr\u001b[0m\u001b[0;34m(\u001b[0m\u001b[0matom\u001b[0m\u001b[0;34m,\u001b[0m \u001b[0;34m'size'\u001b[0m\u001b[0;34m)\u001b[0m\u001b[0;34m:\u001b[0m  \u001b[0;31m# it is a pseudo-atom\u001b[0m\u001b[0;34m\u001b[0m\u001b[0m\n\u001b[0;32m--> 529\u001b[0;31m             \u001b[0msequence\u001b[0m \u001b[0;34m=\u001b[0m \u001b[0matom\u001b[0m\u001b[0;34m.\u001b[0m\u001b[0mtoarray\u001b[0m\u001b[0;34m(\u001b[0m\u001b[0msequence\u001b[0m\u001b[0;34m)\u001b[0m\u001b[0;34m\u001b[0m\u001b[0m\n\u001b[0m\u001b[1;32m    530\u001b[0m             \u001b[0mstatom\u001b[0m \u001b[0;34m=\u001b[0m \u001b[0matom\u001b[0m\u001b[0;34m.\u001b[0m\u001b[0mbase\u001b[0m\u001b[0;34m\u001b[0m\u001b[0m\n\u001b[1;32m    531\u001b[0m         \u001b[0;32melse\u001b[0m\u001b[0;34m:\u001b[0m\u001b[0;34m\u001b[0m\u001b[0m\n",
      "\u001b[0;32m~/.local/share/virtualenvs/nips-2018-ai-for-prosthetics-fCqIkKV7/lib/python3.6/site-packages/tables/atom.py\u001b[0m in \u001b[0;36mtoarray\u001b[0;34m(self, object_)\u001b[0m\n\u001b[1;32m   1084\u001b[0m \u001b[0;34m\u001b[0m\u001b[0m\n\u001b[1;32m   1085\u001b[0m     \u001b[0;32mdef\u001b[0m \u001b[0mtoarray\u001b[0m\u001b[0;34m(\u001b[0m\u001b[0mself\u001b[0m\u001b[0;34m,\u001b[0m \u001b[0mobject_\u001b[0m\u001b[0;34m)\u001b[0m\u001b[0;34m:\u001b[0m\u001b[0;34m\u001b[0m\u001b[0m\n\u001b[0;32m-> 1086\u001b[0;31m         \u001b[0mbuffer_\u001b[0m \u001b[0;34m=\u001b[0m \u001b[0mself\u001b[0m\u001b[0;34m.\u001b[0m\u001b[0m_tobuffer\u001b[0m\u001b[0;34m(\u001b[0m\u001b[0mobject_\u001b[0m\u001b[0;34m)\u001b[0m\u001b[0;34m\u001b[0m\u001b[0m\n\u001b[0m\u001b[1;32m   1087\u001b[0m         array = numpy.ndarray(buffer=buffer_, dtype=self.base.dtype,\n\u001b[1;32m   1088\u001b[0m                               shape=len(buffer_))\n",
      "\u001b[0;32m~/.local/share/virtualenvs/nips-2018-ai-for-prosthetics-fCqIkKV7/lib/python3.6/site-packages/tables/atom.py\u001b[0m in \u001b[0;36m_tobuffer\u001b[0;34m(self, object_)\u001b[0m\n\u001b[1;32m   1218\u001b[0m \u001b[0;34m\u001b[0m\u001b[0m\n\u001b[1;32m   1219\u001b[0m     \u001b[0;32mdef\u001b[0m \u001b[0m_tobuffer\u001b[0m\u001b[0;34m(\u001b[0m\u001b[0mself\u001b[0m\u001b[0;34m,\u001b[0m \u001b[0mobject_\u001b[0m\u001b[0;34m)\u001b[0m\u001b[0;34m:\u001b[0m\u001b[0;34m\u001b[0m\u001b[0m\n\u001b[0;32m-> 1220\u001b[0;31m         \u001b[0;32mreturn\u001b[0m \u001b[0msix\u001b[0m\u001b[0;34m.\u001b[0m\u001b[0mmoves\u001b[0m\u001b[0;34m.\u001b[0m\u001b[0mcPickle\u001b[0m\u001b[0;34m.\u001b[0m\u001b[0mdumps\u001b[0m\u001b[0;34m(\u001b[0m\u001b[0mobject_\u001b[0m\u001b[0;34m,\u001b[0m \u001b[0msix\u001b[0m\u001b[0;34m.\u001b[0m\u001b[0mmoves\u001b[0m\u001b[0;34m.\u001b[0m\u001b[0mcPickle\u001b[0m\u001b[0;34m.\u001b[0m\u001b[0mHIGHEST_PROTOCOL\u001b[0m\u001b[0;34m)\u001b[0m\u001b[0;34m\u001b[0m\u001b[0m\n\u001b[0m\u001b[1;32m   1221\u001b[0m \u001b[0;34m\u001b[0m\u001b[0m\n\u001b[1;32m   1222\u001b[0m     \u001b[0;32mdef\u001b[0m \u001b[0mfromarray\u001b[0m\u001b[0;34m(\u001b[0m\u001b[0mself\u001b[0m\u001b[0;34m,\u001b[0m \u001b[0marray\u001b[0m\u001b[0;34m)\u001b[0m\u001b[0;34m:\u001b[0m\u001b[0;34m\u001b[0m\u001b[0m\n",
      "\u001b[0;31mMemoryError\u001b[0m: "
     ]
    }
   ],
   "source": [
    "while total_timesteps < CONFIG['training']['max_timesteps']:\n",
    "    if done: \n",
    "        if total_timesteps >= CONFIG['training']['start_timesteps']: \n",
    "            df_env_history = pd.concat([df_saved_episodes, env.history()], ignore_index=True, copy=False)\n",
    "            history_sampler = EnvHistorySampler(\n",
    "                df_env_history,\n",
    "                env_obs_history_to_model_obs_fn=env_obs_history_to_model_obs, \n",
    "                env_obs_custom_reward_fn=lambda obs: sum(env_obs_to_custom_reward(obs).values()),\n",
    "                env_obs_custom_done_fn=should_abort_episode,\n",
    "            )\n",
    "            if CONFIG['model']['architecture'] == \"TD3\":\n",
    "                policy.train(\n",
    "                    history_sampler,#replay_buffer, \n",
    "                    episode_timesteps, \n",
    "                    CONFIG['training']['batch_size'], \n",
    "                    CONFIG['training']['discount'], \n",
    "                    CONFIG['training']['tau'], \n",
    "                    CONFIG['training']['policy_noise'], \n",
    "                    CONFIG['training']['noise_clip'], \n",
    "                    CONFIG['training']['policy_freq'],\n",
    "                )\n",
    "            else: \n",
    "                policy.train(\n",
    "                    history_sampler,#replay_buffer, \n",
    "                    episode_timesteps, \n",
    "                    CONFIG['training']['batch_size'], \n",
    "                    CONFIG['training']['discount'], \n",
    "                    CONFIG['training']['tau']\n",
    "                )\n",
    "        \n",
    "            # Evaluate policy, Checkpoint policy, Checkpoint history\n",
    "            if timesteps_since_eval >= CONFIG['training']['eval_freq']:\n",
    "                # Reset evaluation counter\n",
    "                timesteps_since_eval %= CONFIG['training']['eval_freq']\n",
    "                # Evaluate policy\n",
    "                evaluations.append(evaluate_policy(policy))\n",
    "                # Checkpoint policy\n",
    "                policy.save(CHECKPOINTS_DIR, f'{CONFIG[\"training\"][\"checkpoint_save_load_prefix\"]}_episode{episode_num}_eval{evaluations[-1]:.1f}')\n",
    "                policy.save(CHECKPOINTS_DIR, CONFIG[\"training\"][\"checkpoint_save_load_prefix\"])\n",
    "                # Checkpoint history\n",
    "                pd.concat([df_saved_episodes, env.history()], ignore_index=True, copy=False).to_hdf(CONFIG['training']['episode_save_load_file'], key='df')\n",
    "                # TODO Log evaluations, etc.\n",
    "        \n",
    "        # Reset environment\n",
    "        obs = env.reset(**env_step_kwargs)\n",
    "        reset_frameskip(CONFIG['training']['frameskip'])\n",
    "#         obs_dict = env.get_state_desc()\n",
    "        done = False\n",
    "        episode_reward = 0\n",
    "        episode_timesteps = 0\n",
    "        episode_num += 1 \n",
    "    \n",
    "    # Select action randomly or according to policy\n",
    "    if total_timesteps < CONFIG['training']['start_timesteps']:\n",
    "        action = env.action_space.sample()\n",
    "    else:\n",
    "        action = policy.select_action(prepare_model_observation(env))\n",
    "        if CONFIG['training']['expl_noise'] != 0: \n",
    "            action += np.random.normal(0, CONFIG['training']['expl_noise'], size=action.shape)\n",
    "\n",
    "    # Perform action\n",
    "    action = prepare_env_action(action)\n",
    "    obs, reward, done, _ = env.step(action, **env_step_kwargs)\n",
    "#     new_obs_dict = env.get_state_desc()\n",
    "\n",
    "    if not done:\n",
    "        done = should_abort_episode(env.get_state_desc(), verbose=True)\n",
    "    done_bool = 0 if episode_timesteps + 1 == CONFIG['training']['max_episode_steps'] else float(done)\n",
    "\n",
    "    # custom_rewards = compute_rewards(new_obs_dict)\n",
    "    episode_reward += reward #+ sum(custom_rewards.values())\n",
    "\n",
    "    # Store data in replay buffer\n",
    "#     replay_buffer.add((obs_dict, new_obs_dict, action, reward, done_bool, episode_num))\n",
    "\n",
    "#     obs = new_obs\n",
    "#     obs_dict = new_obs_dict\n",
    "\n",
    "    episode_timesteps += 1\n",
    "    total_timesteps += 1\n",
    "    timesteps_since_eval += 1\n",
    "    \n",
    "    if done:\n",
    "        print(f\"Total T: {total_timesteps} Episode Num: {episode_num} Episode T: {episode_timesteps} Reward: {episode_reward}\")\n",
    "        sys.stdout.flush()\n",
    "\n",
    "        "
   ]
  },
  {
   "cell_type": "code",
   "execution_count": null,
   "metadata": {},
   "outputs": [],
   "source": [
    "!sudo shutdown"
   ]
  },
  {
   "cell_type": "code",
   "execution_count": 65,
   "metadata": {},
   "outputs": [
    {
     "name": "stderr",
     "output_type": "stream",
     "text": [
      "/home/ubuntu/.local/share/virtualenvs/nips-2018-ai-for-prosthetics-fCqIkKV7/lib/python3.6/site-packages/pandas/core/generic.py:1996: PerformanceWarning: \n",
      "your performance may suffer as PyTables will pickle object types that it cannot\n",
      "map directly to c-types [inferred_type->mixed-integer,key->block0_values] [items->['episode_uuid', 'i_step', 'action', 'obs', 'reward', 'done', 'info']]\n",
      "\n",
      "  return pytables.to_hdf(path_or_buf, key, self, **kwargs)\n"
     ]
    },
    {
     "ename": "MemoryError",
     "evalue": "",
     "output_type": "error",
     "traceback": [
      "\u001b[0;31m---------------------------------------------------------------------------\u001b[0m",
      "\u001b[0;31mMemoryError\u001b[0m                               Traceback (most recent call last)",
      "\u001b[0;32m<ipython-input-65-69b37e0b0940>\u001b[0m in \u001b[0;36m<module>\u001b[0;34m()\u001b[0m\n\u001b[1;32m      2\u001b[0m \u001b[0;31m# df_saved_episodes.to_hdf(CONFIG['training']['episode_save_load_file'].replace('.','_start.'), key='df', format='table')\u001b[0m\u001b[0;34m\u001b[0m\u001b[0;34m\u001b[0m\u001b[0m\n\u001b[1;32m      3\u001b[0m \u001b[0;31m# env.history().to_hdf(CONFIG['training']['episode_save_load_file'].replace('.','_start.'), key='df', format='table', append=True)\u001b[0m\u001b[0;34m\u001b[0m\u001b[0;34m\u001b[0m\u001b[0m\n\u001b[0;32m----> 4\u001b[0;31m \u001b[0mpd\u001b[0m\u001b[0;34m.\u001b[0m\u001b[0mconcat\u001b[0m\u001b[0;34m(\u001b[0m\u001b[0;34m[\u001b[0m\u001b[0mdf_saved_episodes\u001b[0m\u001b[0;34m,\u001b[0m \u001b[0menv_history\u001b[0m\u001b[0;34m]\u001b[0m\u001b[0;34m,\u001b[0m \u001b[0mignore_index\u001b[0m\u001b[0;34m=\u001b[0m\u001b[0;32mTrue\u001b[0m\u001b[0;34m,\u001b[0m \u001b[0mcopy\u001b[0m\u001b[0;34m=\u001b[0m\u001b[0;32mFalse\u001b[0m\u001b[0;34m)\u001b[0m\u001b[0;34m.\u001b[0m\u001b[0mto_hdf\u001b[0m\u001b[0;34m(\u001b[0m\u001b[0mCONFIG\u001b[0m\u001b[0;34m[\u001b[0m\u001b[0;34m'training'\u001b[0m\u001b[0;34m]\u001b[0m\u001b[0;34m[\u001b[0m\u001b[0;34m'episode_save_load_file'\u001b[0m\u001b[0;34m]\u001b[0m\u001b[0;34m,\u001b[0m \u001b[0mkey\u001b[0m\u001b[0;34m=\u001b[0m\u001b[0;34m'df'\u001b[0m\u001b[0;34m)\u001b[0m\u001b[0;34m\u001b[0m\u001b[0m\n\u001b[0m\u001b[1;32m      5\u001b[0m \u001b[0;31m# env.history()['i_step'].dtype\u001b[0m\u001b[0;34m\u001b[0m\u001b[0;34m\u001b[0m\u001b[0m\n\u001b[1;32m      6\u001b[0m \u001b[0;31m# df_saved_episodes['i_step'].dtype\u001b[0m\u001b[0;34m\u001b[0m\u001b[0;34m\u001b[0m\u001b[0m\n",
      "\u001b[0;32m~/.local/share/virtualenvs/nips-2018-ai-for-prosthetics-fCqIkKV7/lib/python3.6/site-packages/pandas/core/generic.py\u001b[0m in \u001b[0;36mto_hdf\u001b[0;34m(self, path_or_buf, key, **kwargs)\u001b[0m\n\u001b[1;32m   1994\u001b[0m         \"\"\"\n\u001b[1;32m   1995\u001b[0m         \u001b[0;32mfrom\u001b[0m \u001b[0mpandas\u001b[0m\u001b[0;34m.\u001b[0m\u001b[0mio\u001b[0m \u001b[0;32mimport\u001b[0m \u001b[0mpytables\u001b[0m\u001b[0;34m\u001b[0m\u001b[0m\n\u001b[0;32m-> 1996\u001b[0;31m         \u001b[0;32mreturn\u001b[0m \u001b[0mpytables\u001b[0m\u001b[0;34m.\u001b[0m\u001b[0mto_hdf\u001b[0m\u001b[0;34m(\u001b[0m\u001b[0mpath_or_buf\u001b[0m\u001b[0;34m,\u001b[0m \u001b[0mkey\u001b[0m\u001b[0;34m,\u001b[0m \u001b[0mself\u001b[0m\u001b[0;34m,\u001b[0m \u001b[0;34m**\u001b[0m\u001b[0mkwargs\u001b[0m\u001b[0;34m)\u001b[0m\u001b[0;34m\u001b[0m\u001b[0m\n\u001b[0m\u001b[1;32m   1997\u001b[0m \u001b[0;34m\u001b[0m\u001b[0m\n\u001b[1;32m   1998\u001b[0m     \u001b[0;32mdef\u001b[0m \u001b[0mto_msgpack\u001b[0m\u001b[0;34m(\u001b[0m\u001b[0mself\u001b[0m\u001b[0;34m,\u001b[0m \u001b[0mpath_or_buf\u001b[0m\u001b[0;34m=\u001b[0m\u001b[0;32mNone\u001b[0m\u001b[0;34m,\u001b[0m \u001b[0mencoding\u001b[0m\u001b[0;34m=\u001b[0m\u001b[0;34m'utf-8'\u001b[0m\u001b[0;34m,\u001b[0m \u001b[0;34m**\u001b[0m\u001b[0mkwargs\u001b[0m\u001b[0;34m)\u001b[0m\u001b[0;34m:\u001b[0m\u001b[0;34m\u001b[0m\u001b[0m\n",
      "\u001b[0;32m~/.local/share/virtualenvs/nips-2018-ai-for-prosthetics-fCqIkKV7/lib/python3.6/site-packages/pandas/io/pytables.py\u001b[0m in \u001b[0;36mto_hdf\u001b[0;34m(path_or_buf, key, value, mode, complevel, complib, append, **kwargs)\u001b[0m\n\u001b[1;32m    277\u001b[0m         with HDFStore(path_or_buf, mode=mode, complevel=complevel,\n\u001b[1;32m    278\u001b[0m                       complib=complib) as store:\n\u001b[0;32m--> 279\u001b[0;31m             \u001b[0mf\u001b[0m\u001b[0;34m(\u001b[0m\u001b[0mstore\u001b[0m\u001b[0;34m)\u001b[0m\u001b[0;34m\u001b[0m\u001b[0m\n\u001b[0m\u001b[1;32m    280\u001b[0m     \u001b[0;32melse\u001b[0m\u001b[0;34m:\u001b[0m\u001b[0;34m\u001b[0m\u001b[0m\n\u001b[1;32m    281\u001b[0m         \u001b[0mf\u001b[0m\u001b[0;34m(\u001b[0m\u001b[0mpath_or_buf\u001b[0m\u001b[0;34m)\u001b[0m\u001b[0;34m\u001b[0m\u001b[0m\n",
      "\u001b[0;32m~/.local/share/virtualenvs/nips-2018-ai-for-prosthetics-fCqIkKV7/lib/python3.6/site-packages/pandas/io/pytables.py\u001b[0m in \u001b[0;36m<lambda>\u001b[0;34m(store)\u001b[0m\n\u001b[1;32m    271\u001b[0m         \u001b[0mf\u001b[0m \u001b[0;34m=\u001b[0m \u001b[0;32mlambda\u001b[0m \u001b[0mstore\u001b[0m\u001b[0;34m:\u001b[0m \u001b[0mstore\u001b[0m\u001b[0;34m.\u001b[0m\u001b[0mappend\u001b[0m\u001b[0;34m(\u001b[0m\u001b[0mkey\u001b[0m\u001b[0;34m,\u001b[0m \u001b[0mvalue\u001b[0m\u001b[0;34m,\u001b[0m \u001b[0;34m**\u001b[0m\u001b[0mkwargs\u001b[0m\u001b[0;34m)\u001b[0m\u001b[0;34m\u001b[0m\u001b[0m\n\u001b[1;32m    272\u001b[0m     \u001b[0;32melse\u001b[0m\u001b[0;34m:\u001b[0m\u001b[0;34m\u001b[0m\u001b[0m\n\u001b[0;32m--> 273\u001b[0;31m         \u001b[0mf\u001b[0m \u001b[0;34m=\u001b[0m \u001b[0;32mlambda\u001b[0m \u001b[0mstore\u001b[0m\u001b[0;34m:\u001b[0m \u001b[0mstore\u001b[0m\u001b[0;34m.\u001b[0m\u001b[0mput\u001b[0m\u001b[0;34m(\u001b[0m\u001b[0mkey\u001b[0m\u001b[0;34m,\u001b[0m \u001b[0mvalue\u001b[0m\u001b[0;34m,\u001b[0m \u001b[0;34m**\u001b[0m\u001b[0mkwargs\u001b[0m\u001b[0;34m)\u001b[0m\u001b[0;34m\u001b[0m\u001b[0m\n\u001b[0m\u001b[1;32m    274\u001b[0m \u001b[0;34m\u001b[0m\u001b[0m\n\u001b[1;32m    275\u001b[0m     \u001b[0mpath_or_buf\u001b[0m \u001b[0;34m=\u001b[0m \u001b[0m_stringify_path\u001b[0m\u001b[0;34m(\u001b[0m\u001b[0mpath_or_buf\u001b[0m\u001b[0;34m)\u001b[0m\u001b[0;34m\u001b[0m\u001b[0m\n",
      "\u001b[0;32m~/.local/share/virtualenvs/nips-2018-ai-for-prosthetics-fCqIkKV7/lib/python3.6/site-packages/pandas/io/pytables.py\u001b[0m in \u001b[0;36mput\u001b[0;34m(self, key, value, format, append, **kwargs)\u001b[0m\n\u001b[1;32m    888\u001b[0m             \u001b[0mformat\u001b[0m \u001b[0;34m=\u001b[0m \u001b[0mget_option\u001b[0m\u001b[0;34m(\u001b[0m\u001b[0;34m\"io.hdf.default_format\"\u001b[0m\u001b[0;34m)\u001b[0m \u001b[0;32mor\u001b[0m \u001b[0;34m'fixed'\u001b[0m\u001b[0;34m\u001b[0m\u001b[0m\n\u001b[1;32m    889\u001b[0m         \u001b[0mkwargs\u001b[0m \u001b[0;34m=\u001b[0m \u001b[0mself\u001b[0m\u001b[0;34m.\u001b[0m\u001b[0m_validate_format\u001b[0m\u001b[0;34m(\u001b[0m\u001b[0mformat\u001b[0m\u001b[0;34m,\u001b[0m \u001b[0mkwargs\u001b[0m\u001b[0;34m)\u001b[0m\u001b[0;34m\u001b[0m\u001b[0m\n\u001b[0;32m--> 890\u001b[0;31m         \u001b[0mself\u001b[0m\u001b[0;34m.\u001b[0m\u001b[0m_write_to_group\u001b[0m\u001b[0;34m(\u001b[0m\u001b[0mkey\u001b[0m\u001b[0;34m,\u001b[0m \u001b[0mvalue\u001b[0m\u001b[0;34m,\u001b[0m \u001b[0mappend\u001b[0m\u001b[0;34m=\u001b[0m\u001b[0mappend\u001b[0m\u001b[0;34m,\u001b[0m \u001b[0;34m**\u001b[0m\u001b[0mkwargs\u001b[0m\u001b[0;34m)\u001b[0m\u001b[0;34m\u001b[0m\u001b[0m\n\u001b[0m\u001b[1;32m    891\u001b[0m \u001b[0;34m\u001b[0m\u001b[0m\n\u001b[1;32m    892\u001b[0m     \u001b[0;32mdef\u001b[0m \u001b[0mremove\u001b[0m\u001b[0;34m(\u001b[0m\u001b[0mself\u001b[0m\u001b[0;34m,\u001b[0m \u001b[0mkey\u001b[0m\u001b[0;34m,\u001b[0m \u001b[0mwhere\u001b[0m\u001b[0;34m=\u001b[0m\u001b[0;32mNone\u001b[0m\u001b[0;34m,\u001b[0m \u001b[0mstart\u001b[0m\u001b[0;34m=\u001b[0m\u001b[0;32mNone\u001b[0m\u001b[0;34m,\u001b[0m \u001b[0mstop\u001b[0m\u001b[0;34m=\u001b[0m\u001b[0;32mNone\u001b[0m\u001b[0;34m)\u001b[0m\u001b[0;34m:\u001b[0m\u001b[0;34m\u001b[0m\u001b[0m\n",
      "\u001b[0;32m~/.local/share/virtualenvs/nips-2018-ai-for-prosthetics-fCqIkKV7/lib/python3.6/site-packages/pandas/io/pytables.py\u001b[0m in \u001b[0;36m_write_to_group\u001b[0;34m(self, key, value, format, index, append, complib, encoding, **kwargs)\u001b[0m\n\u001b[1;32m   1365\u001b[0m \u001b[0;34m\u001b[0m\u001b[0m\n\u001b[1;32m   1366\u001b[0m         \u001b[0;31m# write the object\u001b[0m\u001b[0;34m\u001b[0m\u001b[0;34m\u001b[0m\u001b[0m\n\u001b[0;32m-> 1367\u001b[0;31m         \u001b[0ms\u001b[0m\u001b[0;34m.\u001b[0m\u001b[0mwrite\u001b[0m\u001b[0;34m(\u001b[0m\u001b[0mobj\u001b[0m\u001b[0;34m=\u001b[0m\u001b[0mvalue\u001b[0m\u001b[0;34m,\u001b[0m \u001b[0mappend\u001b[0m\u001b[0;34m=\u001b[0m\u001b[0mappend\u001b[0m\u001b[0;34m,\u001b[0m \u001b[0mcomplib\u001b[0m\u001b[0;34m=\u001b[0m\u001b[0mcomplib\u001b[0m\u001b[0;34m,\u001b[0m \u001b[0;34m**\u001b[0m\u001b[0mkwargs\u001b[0m\u001b[0;34m)\u001b[0m\u001b[0;34m\u001b[0m\u001b[0m\n\u001b[0m\u001b[1;32m   1368\u001b[0m \u001b[0;34m\u001b[0m\u001b[0m\n\u001b[1;32m   1369\u001b[0m         \u001b[0;32mif\u001b[0m \u001b[0ms\u001b[0m\u001b[0;34m.\u001b[0m\u001b[0mis_table\u001b[0m \u001b[0;32mand\u001b[0m \u001b[0mindex\u001b[0m\u001b[0;34m:\u001b[0m\u001b[0;34m\u001b[0m\u001b[0m\n",
      "\u001b[0;32m~/.local/share/virtualenvs/nips-2018-ai-for-prosthetics-fCqIkKV7/lib/python3.6/site-packages/pandas/io/pytables.py\u001b[0m in \u001b[0;36mwrite\u001b[0;34m(self, obj, **kwargs)\u001b[0m\n\u001b[1;32m   2961\u001b[0m             \u001b[0;31m# I have no idea why, but writing values before items fixed #2299\u001b[0m\u001b[0;34m\u001b[0m\u001b[0;34m\u001b[0m\u001b[0m\n\u001b[1;32m   2962\u001b[0m             \u001b[0mblk_items\u001b[0m \u001b[0;34m=\u001b[0m \u001b[0mdata\u001b[0m\u001b[0;34m.\u001b[0m\u001b[0mitems\u001b[0m\u001b[0;34m.\u001b[0m\u001b[0mtake\u001b[0m\u001b[0;34m(\u001b[0m\u001b[0mblk\u001b[0m\u001b[0;34m.\u001b[0m\u001b[0mmgr_locs\u001b[0m\u001b[0;34m)\u001b[0m\u001b[0;34m\u001b[0m\u001b[0m\n\u001b[0;32m-> 2963\u001b[0;31m             \u001b[0mself\u001b[0m\u001b[0;34m.\u001b[0m\u001b[0mwrite_array\u001b[0m\u001b[0;34m(\u001b[0m\u001b[0;34m'block%d_values'\u001b[0m \u001b[0;34m%\u001b[0m \u001b[0mi\u001b[0m\u001b[0;34m,\u001b[0m \u001b[0mblk\u001b[0m\u001b[0;34m.\u001b[0m\u001b[0mvalues\u001b[0m\u001b[0;34m,\u001b[0m \u001b[0mitems\u001b[0m\u001b[0;34m=\u001b[0m\u001b[0mblk_items\u001b[0m\u001b[0;34m)\u001b[0m\u001b[0;34m\u001b[0m\u001b[0m\n\u001b[0m\u001b[1;32m   2964\u001b[0m             \u001b[0mself\u001b[0m\u001b[0;34m.\u001b[0m\u001b[0mwrite_index\u001b[0m\u001b[0;34m(\u001b[0m\u001b[0;34m'block%d_items'\u001b[0m \u001b[0;34m%\u001b[0m \u001b[0mi\u001b[0m\u001b[0;34m,\u001b[0m \u001b[0mblk_items\u001b[0m\u001b[0;34m)\u001b[0m\u001b[0;34m\u001b[0m\u001b[0m\n\u001b[1;32m   2965\u001b[0m \u001b[0;34m\u001b[0m\u001b[0m\n",
      "\u001b[0;32m~/.local/share/virtualenvs/nips-2018-ai-for-prosthetics-fCqIkKV7/lib/python3.6/site-packages/pandas/io/pytables.py\u001b[0m in \u001b[0;36mwrite_array\u001b[0;34m(self, key, value, items)\u001b[0m\n\u001b[1;32m   2728\u001b[0m             vlarr = self._handle.create_vlarray(self.group, key,\n\u001b[1;32m   2729\u001b[0m                                                 _tables().ObjectAtom())\n\u001b[0;32m-> 2730\u001b[0;31m             \u001b[0mvlarr\u001b[0m\u001b[0;34m.\u001b[0m\u001b[0mappend\u001b[0m\u001b[0;34m(\u001b[0m\u001b[0mvalue\u001b[0m\u001b[0;34m)\u001b[0m\u001b[0;34m\u001b[0m\u001b[0m\n\u001b[0m\u001b[1;32m   2731\u001b[0m         \u001b[0;32melse\u001b[0m\u001b[0;34m:\u001b[0m\u001b[0;34m\u001b[0m\u001b[0m\n\u001b[1;32m   2732\u001b[0m             \u001b[0;32mif\u001b[0m \u001b[0mempty_array\u001b[0m\u001b[0;34m:\u001b[0m\u001b[0;34m\u001b[0m\u001b[0m\n",
      "\u001b[0;32m~/.local/share/virtualenvs/nips-2018-ai-for-prosthetics-fCqIkKV7/lib/python3.6/site-packages/tables/vlarray.py\u001b[0m in \u001b[0;36mappend\u001b[0;34m(self, sequence)\u001b[0m\n\u001b[1;32m    527\u001b[0m         \u001b[0matom\u001b[0m \u001b[0;34m=\u001b[0m \u001b[0mself\u001b[0m\u001b[0;34m.\u001b[0m\u001b[0matom\u001b[0m\u001b[0;34m\u001b[0m\u001b[0m\n\u001b[1;32m    528\u001b[0m         \u001b[0;32mif\u001b[0m \u001b[0;32mnot\u001b[0m \u001b[0mhasattr\u001b[0m\u001b[0;34m(\u001b[0m\u001b[0matom\u001b[0m\u001b[0;34m,\u001b[0m \u001b[0;34m'size'\u001b[0m\u001b[0;34m)\u001b[0m\u001b[0;34m:\u001b[0m  \u001b[0;31m# it is a pseudo-atom\u001b[0m\u001b[0;34m\u001b[0m\u001b[0m\n\u001b[0;32m--> 529\u001b[0;31m             \u001b[0msequence\u001b[0m \u001b[0;34m=\u001b[0m \u001b[0matom\u001b[0m\u001b[0;34m.\u001b[0m\u001b[0mtoarray\u001b[0m\u001b[0;34m(\u001b[0m\u001b[0msequence\u001b[0m\u001b[0;34m)\u001b[0m\u001b[0;34m\u001b[0m\u001b[0m\n\u001b[0m\u001b[1;32m    530\u001b[0m             \u001b[0mstatom\u001b[0m \u001b[0;34m=\u001b[0m \u001b[0matom\u001b[0m\u001b[0;34m.\u001b[0m\u001b[0mbase\u001b[0m\u001b[0;34m\u001b[0m\u001b[0m\n\u001b[1;32m    531\u001b[0m         \u001b[0;32melse\u001b[0m\u001b[0;34m:\u001b[0m\u001b[0;34m\u001b[0m\u001b[0m\n",
      "\u001b[0;32m~/.local/share/virtualenvs/nips-2018-ai-for-prosthetics-fCqIkKV7/lib/python3.6/site-packages/tables/atom.py\u001b[0m in \u001b[0;36mtoarray\u001b[0;34m(self, object_)\u001b[0m\n\u001b[1;32m   1084\u001b[0m \u001b[0;34m\u001b[0m\u001b[0m\n\u001b[1;32m   1085\u001b[0m     \u001b[0;32mdef\u001b[0m \u001b[0mtoarray\u001b[0m\u001b[0;34m(\u001b[0m\u001b[0mself\u001b[0m\u001b[0;34m,\u001b[0m \u001b[0mobject_\u001b[0m\u001b[0;34m)\u001b[0m\u001b[0;34m:\u001b[0m\u001b[0;34m\u001b[0m\u001b[0m\n\u001b[0;32m-> 1086\u001b[0;31m         \u001b[0mbuffer_\u001b[0m \u001b[0;34m=\u001b[0m \u001b[0mself\u001b[0m\u001b[0;34m.\u001b[0m\u001b[0m_tobuffer\u001b[0m\u001b[0;34m(\u001b[0m\u001b[0mobject_\u001b[0m\u001b[0;34m)\u001b[0m\u001b[0;34m\u001b[0m\u001b[0m\n\u001b[0m\u001b[1;32m   1087\u001b[0m         array = numpy.ndarray(buffer=buffer_, dtype=self.base.dtype,\n\u001b[1;32m   1088\u001b[0m                               shape=len(buffer_))\n",
      "\u001b[0;32m~/.local/share/virtualenvs/nips-2018-ai-for-prosthetics-fCqIkKV7/lib/python3.6/site-packages/tables/atom.py\u001b[0m in \u001b[0;36m_tobuffer\u001b[0;34m(self, object_)\u001b[0m\n\u001b[1;32m   1218\u001b[0m \u001b[0;34m\u001b[0m\u001b[0m\n\u001b[1;32m   1219\u001b[0m     \u001b[0;32mdef\u001b[0m \u001b[0m_tobuffer\u001b[0m\u001b[0;34m(\u001b[0m\u001b[0mself\u001b[0m\u001b[0;34m,\u001b[0m \u001b[0mobject_\u001b[0m\u001b[0;34m)\u001b[0m\u001b[0;34m:\u001b[0m\u001b[0;34m\u001b[0m\u001b[0m\n\u001b[0;32m-> 1220\u001b[0;31m         \u001b[0;32mreturn\u001b[0m \u001b[0msix\u001b[0m\u001b[0;34m.\u001b[0m\u001b[0mmoves\u001b[0m\u001b[0;34m.\u001b[0m\u001b[0mcPickle\u001b[0m\u001b[0;34m.\u001b[0m\u001b[0mdumps\u001b[0m\u001b[0;34m(\u001b[0m\u001b[0mobject_\u001b[0m\u001b[0;34m,\u001b[0m \u001b[0msix\u001b[0m\u001b[0;34m.\u001b[0m\u001b[0mmoves\u001b[0m\u001b[0;34m.\u001b[0m\u001b[0mcPickle\u001b[0m\u001b[0;34m.\u001b[0m\u001b[0mHIGHEST_PROTOCOL\u001b[0m\u001b[0;34m)\u001b[0m\u001b[0;34m\u001b[0m\u001b[0m\n\u001b[0m\u001b[1;32m   1221\u001b[0m \u001b[0;34m\u001b[0m\u001b[0m\n\u001b[1;32m   1222\u001b[0m     \u001b[0;32mdef\u001b[0m \u001b[0mfromarray\u001b[0m\u001b[0;34m(\u001b[0m\u001b[0mself\u001b[0m\u001b[0;34m,\u001b[0m \u001b[0marray\u001b[0m\u001b[0;34m)\u001b[0m\u001b[0;34m:\u001b[0m\u001b[0;34m\u001b[0m\u001b[0m\n",
      "\u001b[0;31mMemoryError\u001b[0m: "
     ]
    }
   ],
   "source": [
    "# pd.concat([df_saved_episodes, env.history()], ignore_index=True, copy=False)\n",
    "# df_saved_episodes.to_hdf(CONFIG['training']['episode_save_load_file'].replace('.','_start.'), key='df', format='table')\n",
    "# env.history().to_hdf(CONFIG['training']['episode_save_load_file'].replace('.','_start.'), key='df', format='table', append=True)\n",
    "pd.concat([df_saved_episodes, env_history], ignore_index=True, copy=False).to_hdf(CONFIG['training']['episode_save_load_file'], key='df')\n",
    "# env.history()['i_step'].dtype\n",
    "# df_saved_episodes['i_step'].dtype\n"
   ]
  },
  {
   "cell_type": "code",
   "execution_count": null,
   "metadata": {},
   "outputs": [],
   "source": []
  }
 ],
 "metadata": {
  "kernelspec": {
   "display_name": "prosthetics",
   "language": "python",
   "name": "prosthetics"
  },
  "language_info": {
   "codemirror_mode": {
    "name": "ipython",
    "version": 3
   },
   "file_extension": ".py",
   "mimetype": "text/x-python",
   "name": "python",
   "nbconvert_exporter": "python",
   "pygments_lexer": "ipython3",
   "version": "3.6.5"
  }
 },
 "nbformat": 4,
 "nbformat_minor": 2
}
