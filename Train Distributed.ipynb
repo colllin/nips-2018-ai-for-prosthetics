{
 "cells": [
  {
   "cell_type": "code",
   "execution_count": 1,
   "metadata": {},
   "outputs": [],
   "source": [
    "import sys\n",
    "import os\n",
    "import math\n",
    "import json\n",
    "import uuid\n",
    "import datetime\n",
    "import subprocess\n",
    "from pathlib import Path\n",
    "import numpy as np\n",
    "import pandas as pd\n",
    "from tqdm import tqdm\n",
    "from models.td3 import TD3\n",
    "# from osim.env import ProstheticsEnv\n",
    "from environment.prosthetics_env_with_history import ProstheticsEnvWithHistory\n",
    "from environment.observations import prepare_model_observation, env_obs_history_to_model_obs\n",
    "# from environment.actions import prepare_env_action, reset_frameskip\n",
    "from environment.rewards import env_obs_to_custom_reward\n",
    "from distributed.database import persist_timesteps, persist_event, get_total_timesteps, clear_clients_for_thread\n",
    "from distributed.db_history_sampler import DatabaseHistorySampler\n",
    "from distributed.s3_checkpoints import load_s3_model_checkpoint, save_s3_model_checkpoint\n",
    "import torch\n",
    "import torch.utils.data\n",
    "\n"
   ]
  },
  {
   "cell_type": "code",
   "execution_count": 2,
   "metadata": {},
   "outputs": [
    {
     "name": "stdout",
     "output_type": "stream",
     "text": [
      "{\n",
      "    \"env\": {\n",
      "        \"integrator_accuracy\": 0.002\n",
      "    },\n",
      "    \"model\": {\n",
      "        \"architecture\": \"TD3\"\n",
      "    },\n",
      "    \"rollout\": {\n",
      "        \"#\": \"Frameskip will be applied for random durations between 0 and `frameskip` timesteps.\",\n",
      "        \"max_episode_steps\": 600,\n",
      "        \"expl_noise\": 0.25,\n",
      "        \"frameskip\": 5\n",
      "    },\n",
      "    \"distributed\": {\n",
      "        \"policy_weights_dir_s3\": \"s3://colllin-nips-2018-prosthetics/checkpoints/\",\n",
      "        \"policy_weights_basename\": \"checkpoint_TD3\",\n",
      "        \"#\": \"How often (episodes) we download model weights during rollout.\",\n",
      "        \"rollout_refresh_model_freq\": 5\n",
      "    },\n",
      "    \"training\": {\n",
      "        \"#\": \"Frequency of delayed policy updates\",\n",
      "        \"eval_freq\": 2500,\n",
      "        \"batch_size\": 100,\n",
      "        \"discount\": 0.99,\n",
      "        \"tau\": 0.005,\n",
      "        \"policy_noise\": 0.2,\n",
      "        \"noise_clip\": 0.5,\n",
      "        \"policy_freq\": 2\n",
      "    }\n",
      "}\n"
     ]
    }
   ],
   "source": [
    "with open('config_distributed.json', 'r') as f:\n",
    "    CONFIG = json.load(f)\n",
    "print(json.dumps(CONFIG, indent=4))\n"
   ]
  },
  {
   "cell_type": "markdown",
   "metadata": {},
   "source": [
    "### Create Policy, Download & load latest weights"
   ]
  },
  {
   "cell_type": "code",
   "execution_count": 3,
   "metadata": {},
   "outputs": [
    {
     "name": "stdout",
     "output_type": "stream",
     "text": [
      "\u001b[33mWARN: gym.spaces.Box autodetected dtype as <class 'numpy.float32'>. Please provide explicit dtype.\u001b[0m\n",
      "\u001b[33mWARN: gym.spaces.Box autodetected dtype as <class 'numpy.float32'>. Please provide explicit dtype.\u001b[0m\n"
     ]
    },
    {
     "data": {
      "text/plain": [
       "(1260, 19, 1)"
      ]
     },
     "execution_count": 3,
     "metadata": {},
     "output_type": "execute_result"
    }
   ],
   "source": [
    "# state_dim = env.observation_space.shape[0]\n",
    "env = ProstheticsEnvWithHistory(visualize=False, integrator_accuracy=CONFIG['env']['integrator_accuracy'])\n",
    "env.reset()\n",
    "state_dim = prepare_model_observation(env).shape[0]\n",
    "action_dim = env.action_space.shape[0]\n",
    "max_action = int(env.action_space.high[0])\n",
    "del env\n",
    "state_dim, action_dim, max_action\n"
   ]
  },
  {
   "cell_type": "code",
   "execution_count": 4,
   "metadata": {},
   "outputs": [],
   "source": [
    "policy = TD3(state_dim, action_dim, max_action)"
   ]
  },
  {
   "cell_type": "code",
   "execution_count": 5,
   "metadata": {
    "scrolled": false
   },
   "outputs": [
    {
     "name": "stdout",
     "output_type": "stream",
     "text": [
      "Loading policy checkpoints from s3://colllin-nips-2018-prosthetics/checkpoints/checkpoint_TD3*\n"
     ]
    }
   ],
   "source": [
    "print(f\"Loading policy checkpoints from {CONFIG['distributed']['policy_weights_dir_s3']}{CONFIG['distributed']['policy_weights_basename']}*\")\n",
    "load_s3_model_checkpoint(\n",
    "    policy, \n",
    "    s3_dir=CONFIG['distributed']['policy_weights_dir_s3'],\n",
    "    basename=CONFIG['distributed']['policy_weights_basename'],\n",
    "    map_location='cpu'\n",
    ")\n",
    "persist_event('train_load_latest_checkpoint', f'Loaded policy checkpoint from {CONFIG[\"distributed\"][\"policy_weights_dir_s3\"]}{CONFIG[\"distributed\"][\"policy_weights_basename\"]}*')\n",
    "\n"
   ]
  },
  {
   "cell_type": "markdown",
   "metadata": {},
   "source": [
    "### Episode Hacking (Custom \"done\" criteria)\n"
   ]
  },
  {
   "cell_type": "code",
   "execution_count": 6,
   "metadata": {},
   "outputs": [],
   "source": [
    "def should_abort_episode(env_obs, custom_rewards=None, verbose=False):\n",
    "#     print((np.array(env_obs['body_pos_rot']['torso'])*180/math.pi > 60).any())\n",
    "#     if env_obs['body_pos_rot']['torso'][2] < -0.2:\n",
    "#         return True\n",
    "    rewards = custom_rewards if custom_rewards != None else env_obs_to_custom_reward(env_obs)\n",
    "    # print(f'Custom reward: {sum(rewards.values())}')\n",
    "    if (env_obs['body_pos']['head'][0] - env_obs['body_pos']['pelvis'][0]) < -.2:\n",
    "        if verbose: print(f'Aborting episode due to head being > .2m behind the pelvis ({env_obs[\"body_pos\"][\"head\"][0] - env_obs[\"body_pos\"][\"pelvis\"][0]}).')\n",
    "        return True\n",
    "    if np.fabs(env_obs['body_pos']['head'][2]) > 0.5:\n",
    "        if verbose: print(f'Aborting episode due to head being > 0.5m away from centerline ({env_obs[\"body_pos\"][\"head\"][2]}).')\n",
    "        return True\n",
    "    if sum(rewards.values()) < -10:\n",
    "        if verbose:\n",
    "            print(f'Aborting episode due to custom reward < -10 ({sum(rewards.values())}):')\n",
    "            for k,v in rewards.items():\n",
    "                if v < 0:\n",
    "                    print(f'  reward `{k}` = {v}')\n",
    "        return True\n",
    "    return False\n",
    "    "
   ]
  },
  {
   "cell_type": "markdown",
   "metadata": {},
   "source": [
    "### Init dataloader"
   ]
  },
  {
   "cell_type": "code",
   "execution_count": 7,
   "metadata": {},
   "outputs": [],
   "source": [
    "history_sampler = DatabaseHistorySampler(\n",
    "    env_obs_history_to_model_obs_fn=env_obs_history_to_model_obs, \n",
    "    n_obs_history=3,\n",
    "    env_obs_custom_reward_fn=lambda obs: sum(env_obs_to_custom_reward(obs).values()),\n",
    "    env_obs_custom_done_fn=should_abort_episode,\n",
    ")\n",
    "\n",
    "def load_batch(fake_batch):\n",
    "    return history_sampler.sample(len(fake_batch))\n",
    "\n",
    "fake_dataset_len = CONFIG['training']['eval_freq'] * CONFIG['training']['batch_size']\n",
    "fake_dataset = list(range(int(fake_dataset_len)))\n",
    "dataloader = torch.utils.data.DataLoader(\n",
    "    fake_dataset,\n",
    "    batch_size=CONFIG['training']['batch_size'], \n",
    "#     shuffle=False, \n",
    "#     sampler=None, \n",
    "#     batch_sampler=None, \n",
    "    num_workers=6, \n",
    "    collate_fn=load_batch, \n",
    "    pin_memory=True, \n",
    "    drop_last=True, \n",
    "#     timeout=0, \n",
    "    worker_init_fn=lambda instance_id: clear_clients_for_thread()\n",
    ")\n",
    "\n",
    "\n"
   ]
  },
  {
   "cell_type": "markdown",
   "metadata": {},
   "source": [
    "# Model Training"
   ]
  },
  {
   "cell_type": "code",
   "execution_count": 8,
   "metadata": {
    "scrolled": false
   },
   "outputs": [
    {
     "name": "stderr",
     "output_type": "stream",
     "text": [
      "Train model: 100%|██████████| 2500/2500 [05:47<00:00,  8.49batch/s]\n"
     ]
    },
    {
     "name": "stdout",
     "output_type": "stream",
     "text": [
      "SAving policy checkpoints to s3://colllin-nips-2018-prosthetics/checkpoints/checkpoint_TD3*\n",
      "SAving policy checkpoints to s3://colllin-nips-2018-prosthetics/checkpoints/checkpoint_TD3_T90860_2018-09-26T13:49:24.037055*\n",
      "SAving policy checkpoints to 5bb7964d-2562-4c4d-ab70-d3ad8907e8a3/checkpoint_TD3_T90860_2018-09-26T13:49:24.037055*\n",
      "Launching evaluation script with cmd: `CHECKPOINT_DIR=5bb7964d-2562-4c4d-ab70-d3ad8907e8a3 CHECKPOINT_NAME=checkpoint_TD3_T90860_2018-09-26T13:49:24.037055 pipenv run python evaluate_policy.py`\n"
     ]
    },
    {
     "name": "stderr",
     "output_type": "stream",
     "text": [
      "Train model: 100%|██████████| 2500/2500 [07:16<00:00,  8.03batch/s]\n"
     ]
    },
    {
     "name": "stdout",
     "output_type": "stream",
     "text": [
      "SAving policy checkpoints to s3://colllin-nips-2018-prosthetics/checkpoints/checkpoint_TD3*\n",
      "SAving policy checkpoints to s3://colllin-nips-2018-prosthetics/checkpoints/checkpoint_TD3_T116034_2018-09-26T13:56:42.709661*\n",
      "SAving policy checkpoints to f3ae6fa0-3acb-4094-9daa-25dca51c3b56/checkpoint_TD3_T116034_2018-09-26T13:56:42.709661*\n",
      "Launching evaluation script with cmd: `CHECKPOINT_DIR=f3ae6fa0-3acb-4094-9daa-25dca51c3b56 CHECKPOINT_NAME=checkpoint_TD3_T116034_2018-09-26T13:56:42.709661 pipenv run python evaluate_policy.py`\n"
     ]
    },
    {
     "name": "stderr",
     "output_type": "stream",
     "text": [
      "Train model: 100%|██████████| 2500/2500 [07:55<00:00,  5.25batch/s]\n"
     ]
    },
    {
     "name": "stdout",
     "output_type": "stream",
     "text": [
      "SAving policy checkpoints to s3://colllin-nips-2018-prosthetics/checkpoints/checkpoint_TD3*\n",
      "SAving policy checkpoints to s3://colllin-nips-2018-prosthetics/checkpoints/checkpoint_TD3_T144787_2018-09-26T14:04:40.988324*\n",
      "SAving policy checkpoints to c36e4b75-e519-4a44-89eb-849b59409835/checkpoint_TD3_T144787_2018-09-26T14:04:40.988324*\n",
      "Launching evaluation script with cmd: `CHECKPOINT_DIR=c36e4b75-e519-4a44-89eb-849b59409835 CHECKPOINT_NAME=checkpoint_TD3_T144787_2018-09-26T14:04:40.988324 pipenv run python evaluate_policy.py`\n"
     ]
    },
    {
     "name": "stderr",
     "output_type": "stream",
     "text": [
      "Train model: 100%|██████████| 2500/2500 [08:10<00:00,  5.10batch/s]\n"
     ]
    },
    {
     "name": "stdout",
     "output_type": "stream",
     "text": [
      "SAving policy checkpoints to s3://colllin-nips-2018-prosthetics/checkpoints/checkpoint_TD3*\n",
      "SAving policy checkpoints to s3://colllin-nips-2018-prosthetics/checkpoints/checkpoint_TD3_T174003_2018-09-26T14:12:53.801034*\n",
      "SAving policy checkpoints to c35270eb-8598-4f89-a287-bfc1cfac9e58/checkpoint_TD3_T174003_2018-09-26T14:12:53.801034*\n",
      "Launching evaluation script with cmd: `CHECKPOINT_DIR=c35270eb-8598-4f89-a287-bfc1cfac9e58 CHECKPOINT_NAME=checkpoint_TD3_T174003_2018-09-26T14:12:53.801034 pipenv run python evaluate_policy.py`\n"
     ]
    },
    {
     "name": "stderr",
     "output_type": "stream",
     "text": [
      "Train model: 100%|██████████| 2500/2500 [08:14<00:00,  5.05batch/s]\n"
     ]
    },
    {
     "name": "stdout",
     "output_type": "stream",
     "text": [
      "SAving policy checkpoints to s3://colllin-nips-2018-prosthetics/checkpoints/checkpoint_TD3*\n",
      "SAving policy checkpoints to s3://colllin-nips-2018-prosthetics/checkpoints/checkpoint_TD3_T203407_2018-09-26T14:21:12.044560*\n",
      "SAving policy checkpoints to 0f41befa-46dc-40a3-a8f5-d9c9e4875b6e/checkpoint_TD3_T203407_2018-09-26T14:21:12.044560*\n",
      "Launching evaluation script with cmd: `CHECKPOINT_DIR=0f41befa-46dc-40a3-a8f5-d9c9e4875b6e CHECKPOINT_NAME=checkpoint_TD3_T203407_2018-09-26T14:21:12.044560 pipenv run python evaluate_policy.py`\n"
     ]
    },
    {
     "name": "stderr",
     "output_type": "stream",
     "text": [
      "Train model: 100%|██████████| 2500/2500 [08:08<00:00,  5.12batch/s]\n"
     ]
    },
    {
     "name": "stdout",
     "output_type": "stream",
     "text": [
      "SAving policy checkpoints to s3://colllin-nips-2018-prosthetics/checkpoints/checkpoint_TD3*\n",
      "SAving policy checkpoints to s3://colllin-nips-2018-prosthetics/checkpoints/checkpoint_TD3_T233107_2018-09-26T14:29:23.896472*\n",
      "SAving policy checkpoints to e8786e8a-0e68-4055-b50f-79c49261c3e6/checkpoint_TD3_T233107_2018-09-26T14:29:23.896472*\n",
      "Launching evaluation script with cmd: `CHECKPOINT_DIR=e8786e8a-0e68-4055-b50f-79c49261c3e6 CHECKPOINT_NAME=checkpoint_TD3_T233107_2018-09-26T14:29:23.896472 pipenv run python evaluate_policy.py`\n"
     ]
    },
    {
     "name": "stderr",
     "output_type": "stream",
     "text": [
      "Train model: 100%|██████████| 2500/2500 [08:13<00:00,  5.06batch/s]\n"
     ]
    },
    {
     "name": "stdout",
     "output_type": "stream",
     "text": [
      "SAving policy checkpoints to s3://colllin-nips-2018-prosthetics/checkpoints/checkpoint_TD3*\n",
      "SAving policy checkpoints to s3://colllin-nips-2018-prosthetics/checkpoints/checkpoint_TD3_T262859_2018-09-26T14:37:41.574132*\n",
      "SAving policy checkpoints to a2c08ba7-d07e-4c3b-a069-567cd3b3a818/checkpoint_TD3_T262859_2018-09-26T14:37:41.574132*\n",
      "Launching evaluation script with cmd: `CHECKPOINT_DIR=a2c08ba7-d07e-4c3b-a069-567cd3b3a818 CHECKPOINT_NAME=checkpoint_TD3_T262859_2018-09-26T14:37:41.574132 pipenv run python evaluate_policy.py`\n"
     ]
    },
    {
     "name": "stderr",
     "output_type": "stream",
     "text": [
      "Train model: 100%|██████████| 2500/2500 [08:06<00:00,  7.45batch/s]\n"
     ]
    },
    {
     "name": "stdout",
     "output_type": "stream",
     "text": [
      "SAving policy checkpoints to s3://colllin-nips-2018-prosthetics/checkpoints/checkpoint_TD3*\n",
      "SAving policy checkpoints to s3://colllin-nips-2018-prosthetics/checkpoints/checkpoint_TD3_T292200_2018-09-26T14:45:52.522100*\n",
      "SAving policy checkpoints to 44b815e5-ee48-4e59-90a2-5873ba980cba/checkpoint_TD3_T292200_2018-09-26T14:45:52.522100*\n",
      "Launching evaluation script with cmd: `CHECKPOINT_DIR=44b815e5-ee48-4e59-90a2-5873ba980cba CHECKPOINT_NAME=checkpoint_TD3_T292200_2018-09-26T14:45:52.522100 pipenv run python evaluate_policy.py`\n"
     ]
    },
    {
     "name": "stderr",
     "output_type": "stream",
     "text": [
      "Train model: 100%|██████████| 2500/2500 [08:05<00:00,  5.15batch/s]\n"
     ]
    },
    {
     "name": "stdout",
     "output_type": "stream",
     "text": [
      "SAving policy checkpoints to s3://colllin-nips-2018-prosthetics/checkpoints/checkpoint_TD3*\n",
      "SAving policy checkpoints to s3://colllin-nips-2018-prosthetics/checkpoints/checkpoint_TD3_T316663_2018-09-26T14:54:02.643708*\n",
      "SAving policy checkpoints to 5867afba-33a7-492d-968c-e5429d5fbdee/checkpoint_TD3_T316663_2018-09-26T14:54:02.643708*\n",
      "Launching evaluation script with cmd: `CHECKPOINT_DIR=5867afba-33a7-492d-968c-e5429d5fbdee CHECKPOINT_NAME=checkpoint_TD3_T316663_2018-09-26T14:54:02.643708 pipenv run python evaluate_policy.py`\n"
     ]
    },
    {
     "name": "stderr",
     "output_type": "stream",
     "text": [
      "Train model: 100%|██████████| 2500/2500 [08:07<00:00,  5.13batch/s]\n"
     ]
    },
    {
     "name": "stdout",
     "output_type": "stream",
     "text": [
      "SAving policy checkpoints to s3://colllin-nips-2018-prosthetics/checkpoints/checkpoint_TD3*\n",
      "SAving policy checkpoints to s3://colllin-nips-2018-prosthetics/checkpoints/checkpoint_TD3_T326717_2018-09-26T15:02:15.028588*\n",
      "SAving policy checkpoints to 3a6cbc10-cdde-4a05-a7b6-e08842c8381e/checkpoint_TD3_T326717_2018-09-26T15:02:15.028588*\n",
      "Launching evaluation script with cmd: `CHECKPOINT_DIR=3a6cbc10-cdde-4a05-a7b6-e08842c8381e CHECKPOINT_NAME=checkpoint_TD3_T326717_2018-09-26T15:02:15.028588 pipenv run python evaluate_policy.py`\n"
     ]
    },
    {
     "name": "stderr",
     "output_type": "stream",
     "text": [
      "Train model: 100%|██████████| 2500/2500 [08:10<00:00,  5.10batch/s]\n"
     ]
    },
    {
     "name": "stdout",
     "output_type": "stream",
     "text": [
      "SAving policy checkpoints to s3://colllin-nips-2018-prosthetics/checkpoints/checkpoint_TD3*\n",
      "SAving policy checkpoints to s3://colllin-nips-2018-prosthetics/checkpoints/checkpoint_TD3_T336865_2018-09-26T15:10:29.951491*\n",
      "SAving policy checkpoints to 8b740726-0284-4c5d-b02a-74f7a53da875/checkpoint_TD3_T336865_2018-09-26T15:10:29.951491*\n",
      "Launching evaluation script with cmd: `CHECKPOINT_DIR=8b740726-0284-4c5d-b02a-74f7a53da875 CHECKPOINT_NAME=checkpoint_TD3_T336865_2018-09-26T15:10:29.951491 pipenv run python evaluate_policy.py`\n"
     ]
    },
    {
     "name": "stderr",
     "output_type": "stream",
     "text": [
      "Train model: 100%|██████████| 2500/2500 [08:07<00:00,  5.13batch/s]\n"
     ]
    },
    {
     "name": "stdout",
     "output_type": "stream",
     "text": [
      "SAving policy checkpoints to s3://colllin-nips-2018-prosthetics/checkpoints/checkpoint_TD3*\n",
      "SAving policy checkpoints to s3://colllin-nips-2018-prosthetics/checkpoints/checkpoint_TD3_T347014_2018-09-26T15:18:42.608827*\n",
      "SAving policy checkpoints to c94b53fd-9163-4921-a4bd-765c332c6f56/checkpoint_TD3_T347014_2018-09-26T15:18:42.608827*\n",
      "Launching evaluation script with cmd: `CHECKPOINT_DIR=c94b53fd-9163-4921-a4bd-765c332c6f56 CHECKPOINT_NAME=checkpoint_TD3_T347014_2018-09-26T15:18:42.608827 pipenv run python evaluate_policy.py`\n"
     ]
    },
    {
     "name": "stderr",
     "output_type": "stream",
     "text": [
      "Train model: 100%|██████████| 2500/2500 [08:06<00:00,  8.26batch/s]\n"
     ]
    },
    {
     "name": "stdout",
     "output_type": "stream",
     "text": [
      "SAving policy checkpoints to s3://colllin-nips-2018-prosthetics/checkpoints/checkpoint_TD3*\n",
      "SAving policy checkpoints to s3://colllin-nips-2018-prosthetics/checkpoints/checkpoint_TD3_T357040_2018-09-26T15:26:54.092054*\n",
      "SAving policy checkpoints to a4d9668b-8df5-4592-89b8-01644a81afc0/checkpoint_TD3_T357040_2018-09-26T15:26:54.092054*\n",
      "Launching evaluation script with cmd: `CHECKPOINT_DIR=a4d9668b-8df5-4592-89b8-01644a81afc0 CHECKPOINT_NAME=checkpoint_TD3_T357040_2018-09-26T15:26:54.092054 pipenv run python evaluate_policy.py`\n"
     ]
    },
    {
     "name": "stderr",
     "output_type": "stream",
     "text": [
      "Train model: 100%|██████████| 2500/2500 [08:07<00:00,  5.13batch/s]\n"
     ]
    },
    {
     "name": "stdout",
     "output_type": "stream",
     "text": [
      "SAving policy checkpoints to s3://colllin-nips-2018-prosthetics/checkpoints/checkpoint_TD3*\n",
      "SAving policy checkpoints to s3://colllin-nips-2018-prosthetics/checkpoints/checkpoint_TD3_T367127_2018-09-26T15:35:06.730147*\n",
      "SAving policy checkpoints to 81123610-6540-4af4-a113-0304a8a29cee/checkpoint_TD3_T367127_2018-09-26T15:35:06.730147*\n",
      "Launching evaluation script with cmd: `CHECKPOINT_DIR=81123610-6540-4af4-a113-0304a8a29cee CHECKPOINT_NAME=checkpoint_TD3_T367127_2018-09-26T15:35:06.730147 pipenv run python evaluate_policy.py`\n"
     ]
    },
    {
     "name": "stderr",
     "output_type": "stream",
     "text": [
      "Train model: 100%|██████████| 2500/2500 [08:08<00:00,  5.12batch/s]\n"
     ]
    },
    {
     "name": "stdout",
     "output_type": "stream",
     "text": [
      "SAving policy checkpoints to s3://colllin-nips-2018-prosthetics/checkpoints/checkpoint_TD3*\n",
      "SAving policy checkpoints to s3://colllin-nips-2018-prosthetics/checkpoints/checkpoint_TD3_T377048_2018-09-26T15:43:20.319652*\n",
      "SAving policy checkpoints to 4e75188e-c20d-4205-addc-3c595efc6f70/checkpoint_TD3_T377048_2018-09-26T15:43:20.319652*\n",
      "Launching evaluation script with cmd: `CHECKPOINT_DIR=4e75188e-c20d-4205-addc-3c595efc6f70 CHECKPOINT_NAME=checkpoint_TD3_T377048_2018-09-26T15:43:20.319652 pipenv run python evaluate_policy.py`\n"
     ]
    },
    {
     "name": "stderr",
     "output_type": "stream",
     "text": [
      "Train model: 100%|██████████| 2500/2500 [08:09<00:00,  5.10batch/s]\n"
     ]
    },
    {
     "name": "stdout",
     "output_type": "stream",
     "text": [
      "SAving policy checkpoints to s3://colllin-nips-2018-prosthetics/checkpoints/checkpoint_TD3*\n",
      "SAving policy checkpoints to s3://colllin-nips-2018-prosthetics/checkpoints/checkpoint_TD3_T387164_2018-09-26T15:51:37.235230*\n",
      "SAving policy checkpoints to 208f4a91-0d40-4675-9bc1-a06628f16080/checkpoint_TD3_T387164_2018-09-26T15:51:37.235230*\n",
      "Launching evaluation script with cmd: `CHECKPOINT_DIR=208f4a91-0d40-4675-9bc1-a06628f16080 CHECKPOINT_NAME=checkpoint_TD3_T387164_2018-09-26T15:51:37.235230 pipenv run python evaluate_policy.py`\n"
     ]
    },
    {
     "name": "stderr",
     "output_type": "stream",
     "text": [
      "Train model: 100%|██████████| 2500/2500 [08:01<00:00,  5.19batch/s]\n"
     ]
    },
    {
     "name": "stdout",
     "output_type": "stream",
     "text": [
      "SAving policy checkpoints to s3://colllin-nips-2018-prosthetics/checkpoints/checkpoint_TD3*\n",
      "SAving policy checkpoints to s3://colllin-nips-2018-prosthetics/checkpoints/checkpoint_TD3_T397049_2018-09-26T15:59:45.275985*\n",
      "SAving policy checkpoints to 8fad5d9a-2501-4615-b210-43032167ca57/checkpoint_TD3_T397049_2018-09-26T15:59:45.275985*\n",
      "Launching evaluation script with cmd: `CHECKPOINT_DIR=8fad5d9a-2501-4615-b210-43032167ca57 CHECKPOINT_NAME=checkpoint_TD3_T397049_2018-09-26T15:59:45.275985 pipenv run python evaluate_policy.py`\n"
     ]
    },
    {
     "name": "stderr",
     "output_type": "stream",
     "text": [
      "Train model: 100%|██████████| 2500/2500 [08:11<00:00,  5.09batch/s]\n"
     ]
    },
    {
     "name": "stdout",
     "output_type": "stream",
     "text": [
      "SAving policy checkpoints to s3://colllin-nips-2018-prosthetics/checkpoints/checkpoint_TD3*\n",
      "SAving policy checkpoints to s3://colllin-nips-2018-prosthetics/checkpoints/checkpoint_TD3_T407208_2018-09-26T16:08:01.871089*\n",
      "SAving policy checkpoints to 9dccafb2-2fa0-4711-b12d-83a00b7ab01e/checkpoint_TD3_T407208_2018-09-26T16:08:01.871089*\n",
      "Launching evaluation script with cmd: `CHECKPOINT_DIR=9dccafb2-2fa0-4711-b12d-83a00b7ab01e CHECKPOINT_NAME=checkpoint_TD3_T407208_2018-09-26T16:08:01.871089 pipenv run python evaluate_policy.py`\n"
     ]
    },
    {
     "name": "stderr",
     "output_type": "stream",
     "text": [
      "Train model: 100%|██████████| 2500/2500 [08:09<00:00,  5.11batch/s]\n"
     ]
    },
    {
     "name": "stdout",
     "output_type": "stream",
     "text": [
      "SAving policy checkpoints to s3://colllin-nips-2018-prosthetics/checkpoints/checkpoint_TD3*\n",
      "SAving policy checkpoints to s3://colllin-nips-2018-prosthetics/checkpoints/checkpoint_TD3_T417392_2018-09-26T16:16:17.116208*\n",
      "SAving policy checkpoints to 68080a93-9b1e-4717-a172-1d64d64b3206/checkpoint_TD3_T417392_2018-09-26T16:16:17.116208*\n",
      "Launching evaluation script with cmd: `CHECKPOINT_DIR=68080a93-9b1e-4717-a172-1d64d64b3206 CHECKPOINT_NAME=checkpoint_TD3_T417392_2018-09-26T16:16:17.116208 pipenv run python evaluate_policy.py`\n"
     ]
    },
    {
     "name": "stderr",
     "output_type": "stream",
     "text": [
      "Train model: 100%|██████████| 2500/2500 [08:11<00:00,  5.09batch/s]\n"
     ]
    },
    {
     "name": "stdout",
     "output_type": "stream",
     "text": [
      "SAving policy checkpoints to s3://colllin-nips-2018-prosthetics/checkpoints/checkpoint_TD3*\n",
      "SAving policy checkpoints to s3://colllin-nips-2018-prosthetics/checkpoints/checkpoint_TD3_T427288_2018-09-26T16:24:35.678515*\n",
      "SAving policy checkpoints to ccc6d18f-eb92-4109-afe5-258cad6e3860/checkpoint_TD3_T427288_2018-09-26T16:24:35.678515*\n",
      "Launching evaluation script with cmd: `CHECKPOINT_DIR=ccc6d18f-eb92-4109-afe5-258cad6e3860 CHECKPOINT_NAME=checkpoint_TD3_T427288_2018-09-26T16:24:35.678515 pipenv run python evaluate_policy.py`\n"
     ]
    },
    {
     "name": "stderr",
     "output_type": "stream",
     "text": [
      "Train model: 100%|██████████| 2500/2500 [08:09<00:00,  5.11batch/s]\n"
     ]
    },
    {
     "name": "stdout",
     "output_type": "stream",
     "text": [
      "SAving policy checkpoints to s3://colllin-nips-2018-prosthetics/checkpoints/checkpoint_TD3*\n",
      "SAving policy checkpoints to s3://colllin-nips-2018-prosthetics/checkpoints/checkpoint_TD3_T437530_2018-09-26T16:32:50.591437*\n",
      "SAving policy checkpoints to d024cbc3-5f27-4746-b234-105566cd46c1/checkpoint_TD3_T437530_2018-09-26T16:32:50.591437*\n",
      "Launching evaluation script with cmd: `CHECKPOINT_DIR=d024cbc3-5f27-4746-b234-105566cd46c1 CHECKPOINT_NAME=checkpoint_TD3_T437530_2018-09-26T16:32:50.591437 pipenv run python evaluate_policy.py`\n"
     ]
    },
    {
     "name": "stderr",
     "output_type": "stream",
     "text": [
      "Train model: 100%|██████████| 2500/2500 [08:02<00:00,  5.18batch/s]\n"
     ]
    },
    {
     "name": "stdout",
     "output_type": "stream",
     "text": [
      "SAving policy checkpoints to s3://colllin-nips-2018-prosthetics/checkpoints/checkpoint_TD3*\n",
      "SAving policy checkpoints to s3://colllin-nips-2018-prosthetics/checkpoints/checkpoint_TD3_T447169_2018-09-26T16:40:59.661575*\n",
      "SAving policy checkpoints to d9da1aa8-e997-48e9-96c7-a5e969b85a27/checkpoint_TD3_T447169_2018-09-26T16:40:59.661575*\n",
      "Launching evaluation script with cmd: `CHECKPOINT_DIR=d9da1aa8-e997-48e9-96c7-a5e969b85a27 CHECKPOINT_NAME=checkpoint_TD3_T447169_2018-09-26T16:40:59.661575 pipenv run python evaluate_policy.py`\n"
     ]
    },
    {
     "name": "stderr",
     "output_type": "stream",
     "text": [
      "Train model: 100%|██████████| 2500/2500 [08:07<00:00,  6.01batch/s]\n"
     ]
    },
    {
     "name": "stdout",
     "output_type": "stream",
     "text": [
      "SAving policy checkpoints to s3://colllin-nips-2018-prosthetics/checkpoints/checkpoint_TD3*\n",
      "SAving policy checkpoints to s3://colllin-nips-2018-prosthetics/checkpoints/checkpoint_TD3_T457127_2018-09-26T16:49:13.119521*\n",
      "SAving policy checkpoints to 0f863122-b67a-4725-9802-3d1d3f6870db/checkpoint_TD3_T457127_2018-09-26T16:49:13.119521*\n",
      "Launching evaluation script with cmd: `CHECKPOINT_DIR=0f863122-b67a-4725-9802-3d1d3f6870db CHECKPOINT_NAME=checkpoint_TD3_T457127_2018-09-26T16:49:13.119521 pipenv run python evaluate_policy.py`\n"
     ]
    },
    {
     "name": "stderr",
     "output_type": "stream",
     "text": [
      "Train model: 100%|██████████| 2500/2500 [08:10<00:00,  5.10batch/s]\n"
     ]
    },
    {
     "name": "stdout",
     "output_type": "stream",
     "text": [
      "SAving policy checkpoints to s3://colllin-nips-2018-prosthetics/checkpoints/checkpoint_TD3*\n",
      "SAving policy checkpoints to s3://colllin-nips-2018-prosthetics/checkpoints/checkpoint_TD3_T466810_2018-09-26T16:57:32.499984*\n",
      "SAving policy checkpoints to 4e7364c0-d0d9-41c6-ae27-85c284a675a9/checkpoint_TD3_T466810_2018-09-26T16:57:32.499984*\n",
      "Launching evaluation script with cmd: `CHECKPOINT_DIR=4e7364c0-d0d9-41c6-ae27-85c284a675a9 CHECKPOINT_NAME=checkpoint_TD3_T466810_2018-09-26T16:57:32.499984 pipenv run python evaluate_policy.py`\n"
     ]
    },
    {
     "name": "stderr",
     "output_type": "stream",
     "text": [
      "Train model: 100%|██████████| 2500/2500 [08:06<00:00,  5.14batch/s]\n"
     ]
    },
    {
     "name": "stdout",
     "output_type": "stream",
     "text": [
      "SAving policy checkpoints to s3://colllin-nips-2018-prosthetics/checkpoints/checkpoint_TD3*\n",
      "SAving policy checkpoints to s3://colllin-nips-2018-prosthetics/checkpoints/checkpoint_TD3_T476687_2018-09-26T17:05:45.548323*\n",
      "SAving policy checkpoints to 7ca2197b-cfb1-4385-afe3-a70026f256fa/checkpoint_TD3_T476687_2018-09-26T17:05:45.548323*\n",
      "Launching evaluation script with cmd: `CHECKPOINT_DIR=7ca2197b-cfb1-4385-afe3-a70026f256fa CHECKPOINT_NAME=checkpoint_TD3_T476687_2018-09-26T17:05:45.548323 pipenv run python evaluate_policy.py`\n"
     ]
    },
    {
     "name": "stderr",
     "output_type": "stream",
     "text": [
      "Train model: 100%|██████████| 2500/2500 [08:15<00:00,  5.04batch/s]\n"
     ]
    },
    {
     "name": "stdout",
     "output_type": "stream",
     "text": [
      "SAving policy checkpoints to s3://colllin-nips-2018-prosthetics/checkpoints/checkpoint_TD3*\n",
      "SAving policy checkpoints to s3://colllin-nips-2018-prosthetics/checkpoints/checkpoint_TD3_T486611_2018-09-26T17:14:10.292386*\n",
      "SAving policy checkpoints to 1884c496-8968-4f7a-8172-63fcb254f0e1/checkpoint_TD3_T486611_2018-09-26T17:14:10.292386*\n",
      "Launching evaluation script with cmd: `CHECKPOINT_DIR=1884c496-8968-4f7a-8172-63fcb254f0e1 CHECKPOINT_NAME=checkpoint_TD3_T486611_2018-09-26T17:14:10.292386 pipenv run python evaluate_policy.py`\n"
     ]
    },
    {
     "name": "stderr",
     "output_type": "stream",
     "text": [
      "Train model: 100%|██████████| 2500/2500 [08:03<00:00,  5.17batch/s]\n"
     ]
    },
    {
     "name": "stdout",
     "output_type": "stream",
     "text": [
      "SAving policy checkpoints to s3://colllin-nips-2018-prosthetics/checkpoints/checkpoint_TD3*\n",
      "SAving policy checkpoints to s3://colllin-nips-2018-prosthetics/checkpoints/checkpoint_TD3_T496183_2018-09-26T17:22:20.862578*\n",
      "SAving policy checkpoints to 3c007c38-f811-4210-b25b-9af798e746f2/checkpoint_TD3_T496183_2018-09-26T17:22:20.862578*\n",
      "Launching evaluation script with cmd: `CHECKPOINT_DIR=3c007c38-f811-4210-b25b-9af798e746f2 CHECKPOINT_NAME=checkpoint_TD3_T496183_2018-09-26T17:22:20.862578 pipenv run python evaluate_policy.py`\n"
     ]
    },
    {
     "name": "stderr",
     "output_type": "stream",
     "text": [
      "Train model: 100%|██████████| 2500/2500 [08:04<00:00,  5.16batch/s]\n"
     ]
    },
    {
     "name": "stdout",
     "output_type": "stream",
     "text": [
      "SAving policy checkpoints to s3://colllin-nips-2018-prosthetics/checkpoints/checkpoint_TD3*\n",
      "SAving policy checkpoints to s3://colllin-nips-2018-prosthetics/checkpoints/checkpoint_TD3_T505956_2018-09-26T17:30:37.510970*\n",
      "SAving policy checkpoints to f2ea39ed-4036-42e9-beaf-1d9f7e8f65d9/checkpoint_TD3_T505956_2018-09-26T17:30:37.510970*\n",
      "Launching evaluation script with cmd: `CHECKPOINT_DIR=f2ea39ed-4036-42e9-beaf-1d9f7e8f65d9 CHECKPOINT_NAME=checkpoint_TD3_T505956_2018-09-26T17:30:37.510970 pipenv run python evaluate_policy.py`\n"
     ]
    },
    {
     "name": "stderr",
     "output_type": "stream",
     "text": [
      "Train model: 100%|██████████| 2500/2500 [08:01<00:00,  5.19batch/s]\n"
     ]
    },
    {
     "name": "stdout",
     "output_type": "stream",
     "text": [
      "SAving policy checkpoints to s3://colllin-nips-2018-prosthetics/checkpoints/checkpoint_TD3*\n",
      "SAving policy checkpoints to s3://colllin-nips-2018-prosthetics/checkpoints/checkpoint_TD3_T515776_2018-09-26T17:38:56.717782*\n",
      "SAving policy checkpoints to a7ad22d3-1418-4d36-a52a-f14ff201af17/checkpoint_TD3_T515776_2018-09-26T17:38:56.717782*\n",
      "Launching evaluation script with cmd: `CHECKPOINT_DIR=a7ad22d3-1418-4d36-a52a-f14ff201af17 CHECKPOINT_NAME=checkpoint_TD3_T515776_2018-09-26T17:38:56.717782 pipenv run python evaluate_policy.py`\n"
     ]
    },
    {
     "name": "stderr",
     "output_type": "stream",
     "text": [
      "Train model: 100%|██████████| 2500/2500 [08:17<00:00,  5.03batch/s]\n"
     ]
    },
    {
     "name": "stdout",
     "output_type": "stream",
     "text": [
      "SAving policy checkpoints to s3://colllin-nips-2018-prosthetics/checkpoints/checkpoint_TD3*\n",
      "SAving policy checkpoints to s3://colllin-nips-2018-prosthetics/checkpoints/checkpoint_TD3_T525835_2018-09-26T17:47:23.569276*\n",
      "SAving policy checkpoints to 382e7492-75cd-499a-a260-7101f70a1aa2/checkpoint_TD3_T525835_2018-09-26T17:47:23.569276*\n",
      "Launching evaluation script with cmd: `CHECKPOINT_DIR=382e7492-75cd-499a-a260-7101f70a1aa2 CHECKPOINT_NAME=checkpoint_TD3_T525835_2018-09-26T17:47:23.569276 pipenv run python evaluate_policy.py`\n"
     ]
    },
    {
     "name": "stderr",
     "output_type": "stream",
     "text": [
      "Train model: 100%|██████████| 2500/2500 [08:09<00:00,  5.11batch/s]\n"
     ]
    },
    {
     "name": "stdout",
     "output_type": "stream",
     "text": [
      "SAving policy checkpoints to s3://colllin-nips-2018-prosthetics/checkpoints/checkpoint_TD3*\n",
      "SAving policy checkpoints to s3://colllin-nips-2018-prosthetics/checkpoints/checkpoint_TD3_T536241_2018-09-26T17:55:50.770278*\n",
      "SAving policy checkpoints to 49991646-8065-495d-85da-3a32aea4369c/checkpoint_TD3_T536241_2018-09-26T17:55:50.770278*\n",
      "Launching evaluation script with cmd: `CHECKPOINT_DIR=49991646-8065-495d-85da-3a32aea4369c CHECKPOINT_NAME=checkpoint_TD3_T536241_2018-09-26T17:55:50.770278 pipenv run python evaluate_policy.py`\n"
     ]
    },
    {
     "name": "stderr",
     "output_type": "stream",
     "text": [
      "Train model: 100%|██████████| 2500/2500 [07:56<00:00,  5.25batch/s]\n"
     ]
    },
    {
     "name": "stdout",
     "output_type": "stream",
     "text": [
      "SAving policy checkpoints to s3://colllin-nips-2018-prosthetics/checkpoints/checkpoint_TD3*\n",
      "SAving policy checkpoints to s3://colllin-nips-2018-prosthetics/checkpoints/checkpoint_TD3_T546357_2018-09-26T18:04:07.252086*\n",
      "SAving policy checkpoints to 45b796d6-b198-4e44-acba-4e1d28d7b25b/checkpoint_TD3_T546357_2018-09-26T18:04:07.252086*\n",
      "Launching evaluation script with cmd: `CHECKPOINT_DIR=45b796d6-b198-4e44-acba-4e1d28d7b25b CHECKPOINT_NAME=checkpoint_TD3_T546357_2018-09-26T18:04:07.252086 pipenv run python evaluate_policy.py`\n"
     ]
    },
    {
     "name": "stderr",
     "output_type": "stream",
     "text": [
      "Train model: 100%|██████████| 2500/2500 [08:12<00:00,  5.07batch/s]\n"
     ]
    },
    {
     "name": "stdout",
     "output_type": "stream",
     "text": [
      "SAving policy checkpoints to s3://colllin-nips-2018-prosthetics/checkpoints/checkpoint_TD3*\n",
      "SAving policy checkpoints to s3://colllin-nips-2018-prosthetics/checkpoints/checkpoint_TD3_T556668_2018-09-26T18:12:37.690017*\n",
      "SAving policy checkpoints to d72cafbb-66d8-436f-8b12-7fe8035322a2/checkpoint_TD3_T556668_2018-09-26T18:12:37.690017*\n",
      "Launching evaluation script with cmd: `CHECKPOINT_DIR=d72cafbb-66d8-436f-8b12-7fe8035322a2 CHECKPOINT_NAME=checkpoint_TD3_T556668_2018-09-26T18:12:37.690017 pipenv run python evaluate_policy.py`\n"
     ]
    },
    {
     "name": "stderr",
     "output_type": "stream",
     "text": [
      "Train model: 100%|██████████| 2500/2500 [07:55<00:00,  7.29batch/s]\n"
     ]
    },
    {
     "name": "stdout",
     "output_type": "stream",
     "text": [
      "SAving policy checkpoints to s3://colllin-nips-2018-prosthetics/checkpoints/checkpoint_TD3*\n",
      "SAving policy checkpoints to s3://colllin-nips-2018-prosthetics/checkpoints/checkpoint_TD3_T566612_2018-09-26T18:20:53.153737*\n",
      "SAving policy checkpoints to 20e045f0-9314-41af-ad79-1254c63c8001/checkpoint_TD3_T566612_2018-09-26T18:20:53.153737*\n",
      "Launching evaluation script with cmd: `CHECKPOINT_DIR=20e045f0-9314-41af-ad79-1254c63c8001 CHECKPOINT_NAME=checkpoint_TD3_T566612_2018-09-26T18:20:53.153737 pipenv run python evaluate_policy.py`\n"
     ]
    },
    {
     "name": "stderr",
     "output_type": "stream",
     "text": [
      "Train model: 100%|██████████| 2500/2500 [08:15<00:00,  8.16batch/s]\n"
     ]
    },
    {
     "name": "stdout",
     "output_type": "stream",
     "text": [
      "SAving policy checkpoints to s3://colllin-nips-2018-prosthetics/checkpoints/checkpoint_TD3*\n",
      "SAving policy checkpoints to s3://colllin-nips-2018-prosthetics/checkpoints/checkpoint_TD3_T576738_2018-09-26T18:29:29.838588*\n",
      "SAving policy checkpoints to 076e2d42-d0fd-4c54-a2be-4386dcc46d87/checkpoint_TD3_T576738_2018-09-26T18:29:29.838588*\n",
      "Launching evaluation script with cmd: `CHECKPOINT_DIR=076e2d42-d0fd-4c54-a2be-4386dcc46d87 CHECKPOINT_NAME=checkpoint_TD3_T576738_2018-09-26T18:29:29.838588 pipenv run python evaluate_policy.py`\n"
     ]
    },
    {
     "name": "stderr",
     "output_type": "stream",
     "text": [
      "Train model: 100%|██████████| 2500/2500 [07:56<00:00,  5.25batch/s]\n"
     ]
    },
    {
     "name": "stdout",
     "output_type": "stream",
     "text": [
      "SAving policy checkpoints to s3://colllin-nips-2018-prosthetics/checkpoints/checkpoint_TD3*\n",
      "SAving policy checkpoints to s3://colllin-nips-2018-prosthetics/checkpoints/checkpoint_TD3_T586604_2018-09-26T18:37:45.533023*\n",
      "SAving policy checkpoints to 11d3e450-8776-4eb8-b383-b7b63d640efb/checkpoint_TD3_T586604_2018-09-26T18:37:45.533023*\n",
      "Launching evaluation script with cmd: `CHECKPOINT_DIR=11d3e450-8776-4eb8-b383-b7b63d640efb CHECKPOINT_NAME=checkpoint_TD3_T586604_2018-09-26T18:37:45.533023 pipenv run python evaluate_policy.py`\n"
     ]
    },
    {
     "name": "stderr",
     "output_type": "stream",
     "text": [
      "Train model: 100%|██████████| 2500/2500 [07:56<00:00,  6.49batch/s]\n"
     ]
    },
    {
     "name": "stdout",
     "output_type": "stream",
     "text": [
      "SAving policy checkpoints to s3://colllin-nips-2018-prosthetics/checkpoints/checkpoint_TD3*\n",
      "SAving policy checkpoints to s3://colllin-nips-2018-prosthetics/checkpoints/checkpoint_TD3_T595372_2018-09-26T18:46:01.445519*\n",
      "SAving policy checkpoints to bc503e6a-2e68-4b7c-8266-2dd75f16975b/checkpoint_TD3_T595372_2018-09-26T18:46:01.445519*\n",
      "Launching evaluation script with cmd: `CHECKPOINT_DIR=bc503e6a-2e68-4b7c-8266-2dd75f16975b CHECKPOINT_NAME=checkpoint_TD3_T595372_2018-09-26T18:46:01.445519 pipenv run python evaluate_policy.py`\n"
     ]
    },
    {
     "name": "stderr",
     "output_type": "stream",
     "text": [
      "Train model:   2%|▏         | 62/2500 [00:14<09:30,  4.27batch/s]Process Process-223:\n",
      "Process Process-226:\n",
      "Process Process-225:\n",
      "Process Process-228:\n",
      "Process Process-224:\n",
      "Traceback (most recent call last):\n",
      "Traceback (most recent call last):\n",
      "Traceback (most recent call last):\n",
      "  File \"/usr/lib/python3.6/multiprocessing/process.py\", line 258, in _bootstrap\n",
      "    self.run()\n",
      "  File \"/usr/lib/python3.6/multiprocessing/process.py\", line 258, in _bootstrap\n",
      "    self.run()\n",
      "  File \"/usr/lib/python3.6/multiprocessing/process.py\", line 93, in run\n",
      "    self._target(*self._args, **self._kwargs)\n",
      "  File \"/usr/lib/python3.6/multiprocessing/process.py\", line 258, in _bootstrap\n",
      "    self.run()\n",
      "Traceback (most recent call last):\n",
      "Process Process-227:\n",
      "Traceback (most recent call last):\n",
      "  File \"/usr/lib/python3.6/multiprocessing/process.py\", line 258, in _bootstrap\n",
      "    self.run()\n",
      "  File \"/usr/lib/python3.6/multiprocessing/process.py\", line 93, in run\n",
      "    self._target(*self._args, **self._kwargs)\n",
      "  File \"/home/ubuntu/.local/share/virtualenvs/nips-2018-ai-for-prosthetics-fCqIkKV7/lib/python3.6/site-packages/torch/utils/data/dataloader.py\", line 96, in _worker_loop\n",
      "    r = index_queue.get(timeout=MANAGER_STATUS_CHECK_INTERVAL)\n",
      "  File \"/usr/lib/python3.6/multiprocessing/process.py\", line 93, in run\n",
      "    self._target(*self._args, **self._kwargs)\n",
      "  File \"/usr/lib/python3.6/multiprocessing/process.py\", line 258, in _bootstrap\n",
      "    self.run()\n",
      "  File \"/home/ubuntu/.local/share/virtualenvs/nips-2018-ai-for-prosthetics-fCqIkKV7/lib/python3.6/site-packages/torch/utils/data/dataloader.py\", line 106, in _worker_loop\n",
      "    samples = collate_fn([dataset[i] for i in batch_indices])\n",
      "  File \"<ipython-input-7-7dbbadf99dd8>\", line 9, in load_batch\n",
      "    return history_sampler.sample(len(fake_batch))\n",
      "  File \"/usr/lib/python3.6/multiprocessing/process.py\", line 93, in run\n",
      "    self._target(*self._args, **self._kwargs)\n",
      "  File \"/usr/lib/python3.6/multiprocessing/queues.py\", line 104, in get\n",
      "    if not self._poll(timeout):\n",
      "  File \"/home/ubuntu/.local/share/virtualenvs/nips-2018-ai-for-prosthetics-fCqIkKV7/lib/python3.6/site-packages/torch/utils/data/dataloader.py\", line 106, in _worker_loop\n",
      "    samples = collate_fn([dataset[i] for i in batch_indices])\n",
      "Traceback (most recent call last):\n",
      "  File \"/usr/lib/python3.6/multiprocessing/connection.py\", line 257, in poll\n",
      "    return self._poll(timeout)\n",
      "  File \"/usr/lib/python3.6/multiprocessing/process.py\", line 93, in run\n",
      "    self._target(*self._args, **self._kwargs)\n",
      "  File \"/home/ubuntu/.local/share/virtualenvs/nips-2018-ai-for-prosthetics-fCqIkKV7/lib/python3.6/site-packages/torch/utils/data/dataloader.py\", line 106, in _worker_loop\n",
      "    samples = collate_fn([dataset[i] for i in batch_indices])\n",
      "  File \"/home/ubuntu/nips-2018-ai-for-prosthetics/distributed/db_history_sampler.py\", line 15, in sample\n",
      "    docs_with_history = sample_timesteps(n=batch_size, n_obs_history=self.aggregate_obs_history)\n",
      "  File \"/usr/lib/python3.6/multiprocessing/process.py\", line 258, in _bootstrap\n",
      "    self.run()\n",
      "  File \"/home/ubuntu/nips-2018-ai-for-prosthetics/distributed/database.py\", line 93, in sample_timesteps\n",
      "    for pt in past_timesteps:\n",
      "  File \"/usr/lib/python3.6/multiprocessing/connection.py\", line 414, in _poll\n",
      "    r = wait([self], timeout)\n",
      "  File \"/home/ubuntu/.local/share/virtualenvs/nips-2018-ai-for-prosthetics-fCqIkKV7/lib/python3.6/site-packages/torch/utils/data/dataloader.py\", line 106, in _worker_loop\n",
      "    samples = collate_fn([dataset[i] for i in batch_indices])\n",
      "  File \"<ipython-input-7-7dbbadf99dd8>\", line 9, in load_batch\n",
      "    return history_sampler.sample(len(fake_batch))\n",
      "  File \"/usr/lib/python3.6/multiprocessing/process.py\", line 93, in run\n",
      "    self._target(*self._args, **self._kwargs)\n",
      "  File \"<ipython-input-7-7dbbadf99dd8>\", line 9, in load_batch\n",
      "    return history_sampler.sample(len(fake_batch))\n",
      "  File \"<ipython-input-7-7dbbadf99dd8>\", line 9, in load_batch\n",
      "    return history_sampler.sample(len(fake_batch))\n",
      "  File \"/home/ubuntu/.local/share/virtualenvs/nips-2018-ai-for-prosthetics-fCqIkKV7/lib/python3.6/site-packages/pymongo/cursor.py\", line 1189, in next\n",
      "    if len(self.__data) or self._refresh():\n",
      "  File \"/home/ubuntu/.local/share/virtualenvs/nips-2018-ai-for-prosthetics-fCqIkKV7/lib/python3.6/site-packages/torch/utils/data/dataloader.py\", line 110, in _worker_loop\n",
      "    data_queue.put((idx, samples))\n",
      "  File \"/home/ubuntu/nips-2018-ai-for-prosthetics/distributed/db_history_sampler.py\", line 36, in sample\n",
      "    Y = [self.env_obs_history_to_model_obs_fn(obslist(d)[1:]) for d in docs_with_history]\n",
      "  File \"/usr/lib/python3.6/multiprocessing/connection.py\", line 911, in wait\n",
      "    ready = selector.select(timeout)\n",
      "  File \"/home/ubuntu/.local/share/virtualenvs/nips-2018-ai-for-prosthetics-fCqIkKV7/lib/python3.6/site-packages/pymongo/cursor.py\", line 1126, in _refresh\n",
      "    self.__send_message(g)\n",
      "  File \"/home/ubuntu/nips-2018-ai-for-prosthetics/distributed/db_history_sampler.py\", line 35, in sample\n",
      "    X = [self.env_obs_history_to_model_obs_fn(obslist(d)[:-1]) for d in docs_with_history]\n",
      "  File \"/home/ubuntu/nips-2018-ai-for-prosthetics/distributed/db_history_sampler.py\", line 15, in sample\n",
      "    docs_with_history = sample_timesteps(n=batch_size, n_obs_history=self.aggregate_obs_history)\n",
      "  File \"/usr/lib/python3.6/multiprocessing/queues.py\", line 346, in put\n",
      "    with self._wlock:\n",
      "  File \"/usr/lib/python3.6/selectors.py\", line 376, in select\n",
      "    fd_event_list = self._poll.poll(timeout)\n",
      "  File \"/home/ubuntu/nips-2018-ai-for-prosthetics/distributed/db_history_sampler.py\", line 35, in <listcomp>\n",
      "    X = [self.env_obs_history_to_model_obs_fn(obslist(d)[:-1]) for d in docs_with_history]\n",
      "  File \"/home/ubuntu/nips-2018-ai-for-prosthetics/distributed/db_history_sampler.py\", line 36, in <listcomp>\n",
      "    Y = [self.env_obs_history_to_model_obs_fn(obslist(d)[1:]) for d in docs_with_history]\n",
      "  File \"/home/ubuntu/nips-2018-ai-for-prosthetics/distributed/database.py\", line 69, in sample_timesteps\n",
      "    '$limit': n\n",
      "  File \"/usr/lib/python3.6/multiprocessing/synchronize.py\", line 96, in __enter__\n",
      "    return self._semlock.__enter__()\n",
      "KeyboardInterrupt\n",
      "  File \"/home/ubuntu/.local/share/virtualenvs/nips-2018-ai-for-prosthetics-fCqIkKV7/lib/python3.6/site-packages/pymongo/cursor.py\", line 978, in __send_message\n",
      "    codec_options=self.__codec_options)\n",
      "  File \"/home/ubuntu/nips-2018-ai-for-prosthetics/environment/observations.py\", line 384, in env_obs_history_to_model_obs\n",
      "    model_obs_steps += [single_step_env_obs_to_model_obs(env_obs, exclude_lower_order_values=True) for env_obs in env_obs_history[:-1]][::-1]\n",
      "  File \"/home/ubuntu/.local/share/virtualenvs/nips-2018-ai-for-prosthetics-fCqIkKV7/lib/python3.6/site-packages/pymongo/collection.py\", line 2397, in aggregate\n",
      "    **kwargs)\n",
      "  File \"/home/ubuntu/nips-2018-ai-for-prosthetics/environment/observations.py\", line 384, in env_obs_history_to_model_obs\n",
      "    model_obs_steps += [single_step_env_obs_to_model_obs(env_obs, exclude_lower_order_values=True) for env_obs in env_obs_history[:-1]][::-1]\n",
      "KeyboardInterrupt\n",
      "  File \"/home/ubuntu/nips-2018-ai-for-prosthetics/environment/observations.py\", line 384, in <listcomp>\n",
      "    model_obs_steps += [single_step_env_obs_to_model_obs(env_obs, exclude_lower_order_values=True) for env_obs in env_obs_history[:-1]][::-1]\n",
      "  File \"/home/ubuntu/.local/share/virtualenvs/nips-2018-ai-for-prosthetics-fCqIkKV7/lib/python3.6/site-packages/pymongo/collection.py\", line 2304, in _aggregate\n",
      "    client=self.__database.client)\n",
      "  File \"/home/ubuntu/nips-2018-ai-for-prosthetics/environment/observations.py\", line 384, in <listcomp>\n",
      "    model_obs_steps += [single_step_env_obs_to_model_obs(env_obs, exclude_lower_order_values=True) for env_obs in env_obs_history[:-1]][::-1]\n",
      "  File \"/home/ubuntu/.local/share/virtualenvs/nips-2018-ai-for-prosthetics-fCqIkKV7/lib/python3.6/site-packages/pymongo/cursor.py\", line 1067, in _unpack_response\n",
      "    return response.unpack_response(cursor_id, codec_options)\n",
      "  File \"/home/ubuntu/nips-2018-ai-for-prosthetics/environment/observations.py\", line 304, in single_step_env_obs_to_model_obs\n",
      "    env_obs['body_pos'][k] = list(np.array(pos) - frame['pos'])\n",
      "KeyboardInterrupt\n",
      "KeyboardInterrupt\n",
      "  File \"/home/ubuntu/.local/share/virtualenvs/nips-2018-ai-for-prosthetics-fCqIkKV7/lib/python3.6/site-packages/pymongo/pool.py\", line 584, in command\n",
      "    self._raise_connection_failure(error)\n"
     ]
    },
    {
     "name": "stderr",
     "output_type": "stream",
     "text": [
      "  File \"/home/ubuntu/.local/share/virtualenvs/nips-2018-ai-for-prosthetics-fCqIkKV7/lib/python3.6/site-packages/pymongo/message.py\", line 1463, in unpack_response\n",
      "    return bson.decode_all(self.payload_document, codec_options)\n",
      "  File \"/home/ubuntu/.local/share/virtualenvs/nips-2018-ai-for-prosthetics-fCqIkKV7/lib/python3.6/site-packages/bson/timestamp.py\", line 33, in __init__\n",
      "    def __init__(self, time, inc):\n",
      "KeyboardInterrupt\n",
      "  File \"/home/ubuntu/.local/share/virtualenvs/nips-2018-ai-for-prosthetics-fCqIkKV7/lib/python3.6/site-packages/pymongo/pool.py\", line 745, in _raise_connection_failure\n",
      "    raise error\n",
      "  File \"/home/ubuntu/.local/share/virtualenvs/nips-2018-ai-for-prosthetics-fCqIkKV7/lib/python3.6/site-packages/pymongo/pool.py\", line 579, in command\n",
      "    unacknowledged=unacknowledged)\n",
      "ERROR:root:Internal Python error in the inspect module.\n",
      "Below is the traceback from this internal error.\n",
      "\n",
      "  File \"/home/ubuntu/.local/share/virtualenvs/nips-2018-ai-for-prosthetics-fCqIkKV7/lib/python3.6/site-packages/pymongo/network.py\", line 141, in command\n",
      "    reply = receive_message(sock, request_id)\n"
     ]
    },
    {
     "name": "stdout",
     "output_type": "stream",
     "text": [
      "Traceback (most recent call last):\n",
      "  File \"/home/ubuntu/.local/share/virtualenvs/nips-2018-ai-for-prosthetics-fCqIkKV7/lib/python3.6/site-packages/IPython/core/interactiveshell.py\", line 2961, in run_code\n",
      "    exec(code_obj, self.user_global_ns, self.user_ns)\n",
      "  File \"<ipython-input-8-28c7e80da0cf>\", line 10, in <module>\n",
      "    CONFIG['training']['policy_freq'],\n",
      "  File \"/home/ubuntu/nips-2018-ai-for-prosthetics/models/td3.py\", line 111, in train\n",
      "    for ibatch, (x, y, u, r, d) in enumerate(tqdm(iter(replay_dataloader), desc='Train model', unit='batch')):\n",
      "  File \"/home/ubuntu/.local/share/virtualenvs/nips-2018-ai-for-prosthetics-fCqIkKV7/lib/python3.6/site-packages/tqdm/_tqdm.py\", line 937, in __iter__\n",
      "    for obj in iterable:\n",
      "  File \"/home/ubuntu/.local/share/virtualenvs/nips-2018-ai-for-prosthetics-fCqIkKV7/lib/python3.6/site-packages/torch/utils/data/dataloader.py\", line 330, in __next__\n",
      "    idx, batch = self._get_batch()\n",
      "  File \"/home/ubuntu/.local/share/virtualenvs/nips-2018-ai-for-prosthetics-fCqIkKV7/lib/python3.6/site-packages/torch/utils/data/dataloader.py\", line 309, in _get_batch\n",
      "    return self.data_queue.get()\n",
      "  File \"/usr/lib/python3.6/queue.py\", line 164, in get\n",
      "    self.not_empty.wait()\n",
      "  File \"/usr/lib/python3.6/threading.py\", line 295, in wait\n",
      "    waiter.acquire()\n",
      "KeyboardInterrupt\n",
      "\n",
      "During handling of the above exception, another exception occurred:\n",
      "\n",
      "Traceback (most recent call last):\n",
      "  File \"/home/ubuntu/.local/share/virtualenvs/nips-2018-ai-for-prosthetics-fCqIkKV7/lib/python3.6/site-packages/IPython/core/interactiveshell.py\", line 1863, in showtraceback\n",
      "    stb = value._render_traceback_()\n",
      "AttributeError: 'KeyboardInterrupt' object has no attribute '_render_traceback_'\n",
      "\n",
      "During handling of the above exception, another exception occurred:\n",
      "\n",
      "Traceback (most recent call last):\n",
      "  File \"/home/ubuntu/.local/share/virtualenvs/nips-2018-ai-for-prosthetics-fCqIkKV7/lib/python3.6/site-packages/IPython/core/ultratb.py\", line 1095, in get_records\n",
      "    return _fixed_getinnerframes(etb, number_of_lines_of_context, tb_offset)\n",
      "  File \"/home/ubuntu/.local/share/virtualenvs/nips-2018-ai-for-prosthetics-fCqIkKV7/lib/python3.6/site-packages/IPython/core/ultratb.py\", line 311, in wrapped\n",
      "    return f(*args, **kwargs)\n",
      "  File \"/home/ubuntu/.local/share/virtualenvs/nips-2018-ai-for-prosthetics-fCqIkKV7/lib/python3.6/site-packages/IPython/core/ultratb.py\", line 345, in _fixed_getinnerframes\n",
      "    records = fix_frame_records_filenames(inspect.getinnerframes(etb, context))\n",
      "  File \"/usr/lib/python3.6/inspect.py\", line 1483, in getinnerframes\n",
      "    frameinfo = (tb.tb_frame,) + getframeinfo(tb, context)\n",
      "  File \"/usr/lib/python3.6/inspect.py\", line 1441, in getframeinfo\n",
      "    filename = getsourcefile(frame) or getfile(frame)\n",
      "  File \"/usr/lib/python3.6/inspect.py\", line 696, in getsourcefile\n",
      "    if getattr(getmodule(object, filename), '__loader__', None) is not None:\n",
      "  File \"/usr/lib/python3.6/inspect.py\", line 742, in getmodule\n",
      "    os.path.realpath(f)] = module.__name__\n",
      "  File \"/home/ubuntu/.local/share/virtualenvs/nips-2018-ai-for-prosthetics-fCqIkKV7/lib/python3.6/posixpath.py\", line 388, in realpath\n",
      "    path, ok = _joinrealpath(filename[:0], filename, {})\n",
      "  File \"/home/ubuntu/.local/share/virtualenvs/nips-2018-ai-for-prosthetics-fCqIkKV7/lib/python3.6/posixpath.py\", line 421, in _joinrealpath\n",
      "    newpath = join(path, name)\n",
      "  File \"/home/ubuntu/.local/share/virtualenvs/nips-2018-ai-for-prosthetics-fCqIkKV7/lib/python3.6/posixpath.py\", line 86, in join\n",
      "    for b in map(os.fspath, p):\n",
      "  File \"/home/ubuntu/.local/share/virtualenvs/nips-2018-ai-for-prosthetics-fCqIkKV7/lib/python3.6/site-packages/torch/utils/data/dataloader.py\", line 227, in handler\n",
      "    _error_if_any_worker_fails()\n",
      "RuntimeError: DataLoader worker (pid 5659) exited unexpectedly with exit code 1. Details are lost due to multiprocessing. Rerunning with num_workers=0 may give better error trace.\n"
     ]
    },
    {
     "ename": "KeyboardInterrupt",
     "evalue": "",
     "output_type": "error",
     "traceback": [
      "\u001b[0;31m---------------------------------------------------------------------------\u001b[0m"
     ]
    },
    {
     "name": "stderr",
     "output_type": "stream",
     "text": [
      "  File \"/home/ubuntu/.local/share/virtualenvs/nips-2018-ai-for-prosthetics-fCqIkKV7/lib/python3.6/site-packages/pymongo/network.py\", line 173, in receive_message\n",
      "    _receive_data_on_socket(sock, 16))\n",
      "  File \"/home/ubuntu/.local/share/virtualenvs/nips-2018-ai-for-prosthetics-fCqIkKV7/lib/python3.6/site-packages/pymongo/network.py\", line 232, in _receive_data_on_socket\n",
      "    chunk_length = sock.recv_into(mv[bytes_read:])\n",
      "  File \"/usr/lib/python3.6/ssl.py\", line 1009, in recv_into\n",
      "    return self.read(nbytes, buffer)\n",
      "  File \"/usr/lib/python3.6/ssl.py\", line 871, in read\n",
      "    return self._sslobj.read(len, buffer)\n",
      "  File \"/usr/lib/python3.6/ssl.py\", line 631, in read\n",
      "    v = self._sslobj.read(len, buffer)\n",
      "KeyboardInterrupt\n"
     ]
    }
   ],
   "source": [
    "while True:\n",
    "    # Train for `eval_freq` batches:\n",
    "    if CONFIG['model']['architecture'] == \"TD3\":\n",
    "        policy.train(\n",
    "            dataloader,\n",
    "            CONFIG['training']['discount'], \n",
    "            CONFIG['training']['tau'], \n",
    "            CONFIG['training']['policy_noise'], \n",
    "            CONFIG['training']['noise_clip'], \n",
    "            CONFIG['training']['policy_freq'],\n",
    "        )\n",
    "    else: \n",
    "        policy.train(\n",
    "            history_sampler,#replay_buffer, \n",
    "            int(CONFIG['training']['eval_freq']),\n",
    "            CONFIG['training']['batch_size'], \n",
    "            CONFIG['training']['discount'], \n",
    "            CONFIG['training']['tau']\n",
    "        )\n",
    "    persist_event('train_epoch_completed', f'Trained policy for {len(dataloader)} batches of {dataloader.batch_size}')\n",
    "      \n",
    "    # Upload policy weights to S3, to be picked up by instances running the Rollout Distributed process.\n",
    "    print(f\"SAving policy checkpoints to {CONFIG['distributed']['policy_weights_dir_s3']}{CONFIG['distributed']['policy_weights_basename']}*\")\n",
    "    save_s3_model_checkpoint(\n",
    "        policy, \n",
    "        s3_dir=CONFIG['distributed']['policy_weights_dir_s3'],\n",
    "        basename=CONFIG['distributed']['policy_weights_basename'],\n",
    "    )\n",
    "    persist_event('train_update_s3_checkpoint', f'Uploaded policy checkpoint to {CONFIG[\"distributed\"][\"policy_weights_dir_s3\"]}{CONFIG[\"distributed\"][\"policy_weights_basename\"]}*')\n",
    "    \n",
    "    # Also upload policy weights under unique name as a historical checkpoint.\n",
    "    total_timesteps = get_total_timesteps()\n",
    "    evalname = f\"{CONFIG['distributed']['policy_weights_basename']}_T{total_timesteps}_{datetime.datetime.now().isoformat()}\"\n",
    "    print(f\"SAving policy checkpoints to {CONFIG['distributed']['policy_weights_dir_s3']}{evalname}*\")\n",
    "    save_s3_model_checkpoint(\n",
    "        policy, \n",
    "        s3_dir=CONFIG['distributed']['policy_weights_dir_s3'],\n",
    "        basename=evalname,\n",
    "    )\n",
    "    persist_event('train_save_historical_checkpoint', f'Uploaded policy checkpoint to {CONFIG[\"distributed\"][\"policy_weights_dir_s3\"]}{evalname}*')\n",
    "\n",
    "    # Run Evaluation script\n",
    "    evaldir = str(uuid.uuid4())\n",
    "    print(f\"SAving policy checkpoints to {evaldir}/{evalname}*\")\n",
    "    os.makedirs(evaldir, exist_ok=True)\n",
    "    policy.save(evaldir, evalname)\n",
    "    evalcmd = f\"CHECKPOINT_DIR={evaldir} CHECKPOINT_NAME={evalname} pipenv run python evaluate_policy.py\"\n",
    "    print(f\"Launching evaluation script with cmd: `{evalcmd}`\")\n",
    "    subprocess.Popen(evalcmd, shell=True)\n",
    "    \n",
    "    "
   ]
  },
  {
   "cell_type": "code",
   "execution_count": null,
   "metadata": {},
   "outputs": [],
   "source": []
  }
 ],
 "metadata": {
  "kernelspec": {
   "display_name": "prosthetics",
   "language": "python",
   "name": "prosthetics"
  },
  "language_info": {
   "codemirror_mode": {
    "name": "ipython",
    "version": 3
   },
   "file_extension": ".py",
   "mimetype": "text/x-python",
   "name": "python",
   "nbconvert_exporter": "python",
   "pygments_lexer": "ipython3",
   "version": "3.6.5"
  }
 },
 "nbformat": 4,
 "nbformat_minor": 2
}
