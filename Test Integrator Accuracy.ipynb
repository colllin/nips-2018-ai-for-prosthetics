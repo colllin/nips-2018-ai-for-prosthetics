{
 "cells": [
  {
   "cell_type": "code",
   "execution_count": 9,
   "metadata": {},
   "outputs": [],
   "source": [
    "# import sys\n",
    "# import os\n",
    "# import math\n",
    "# import json\n",
    "# import subprocess\n",
    "# from pathlib import Path\n",
    "import numpy as np\n",
    "# import pandas as pd\n",
    "from tqdm import tqdm\n",
    "# from models.td3 import TD3\n",
    "# # from osim.env import ProstheticsEnv\n",
    "# from environment.prosthetics_env_with_history import ProstheticsEnvWithHistory\n",
    "# from environment.observations import prepare_model_observation\n",
    "# from environment.actions import prepare_env_action, reset_frameskip\n",
    "# from environment.rewards import env_obs_to_custom_reward\n",
    "# from distributed.database import persist_timesteps, persist_event\n",
    "# from distributed.s3_checkpoints import load_s3_model_checkpoint\n",
    "\n",
    "from osim.env import ProstheticsEnv\n"
   ]
  },
  {
   "cell_type": "code",
   "execution_count": 15,
   "metadata": {},
   "outputs": [
    {
     "name": "stdout",
     "output_type": "stream",
     "text": [
      "\u001b[33mWARN: gym.spaces.Box autodetected dtype as <class 'numpy.float32'>. Please provide explicit dtype.\u001b[0m\n",
      "\u001b[33mWARN: gym.spaces.Box autodetected dtype as <class 'numpy.float32'>. Please provide explicit dtype.\u001b[0m\n"
     ]
    }
   ],
   "source": [
    "env = ProstheticsEnv(visualize=False, integrator_accuracy=2e-3)\n"
   ]
  },
  {
   "cell_type": "code",
   "execution_count": 21,
   "metadata": {
    "scrolled": false
   },
   "outputs": [
    {
     "name": "stderr",
     "output_type": "stream",
     "text": [
      "1000 good, 0 bad: 100%|██████████| 1000/1000 [02:22<00:00,  7.54it/s]\n"
     ]
    }
   ],
   "source": [
    "get_test_value = lambda obs_dict: obs_dict['body_pos']['pelvis'][1]\n",
    "is_good = lambda test_value: test_value > -1\n",
    "n_episodes = 1000\n",
    "\n",
    "bad_values = []\n",
    "good_values = []\n",
    "\n",
    "t = tqdm(range(n_episodes))\n",
    "for episode in t:\n",
    "    env.reset(project=False)\n",
    "    env.step(np.array([-1]*19))\n",
    "    obs_dict = env.get_state_desc()    \n",
    "    val = get_test_value(obs_dict)\n",
    "    if is_good(val):\n",
    "        good_values += [val]\n",
    "    else:\n",
    "        bad_values += [val]\n",
    "    t.set_description(f'{len(good_values)} good, {len(bad_values)} bad')\n"
   ]
  },
  {
   "cell_type": "code",
   "execution_count": 22,
   "metadata": {},
   "outputs": [
    {
     "data": {
      "text/plain": [
       "array([0.94006098, 0.94006303])"
      ]
     },
     "execution_count": 22,
     "metadata": {},
     "output_type": "execute_result"
    }
   ],
   "source": [
    "np.unique(good_values)"
   ]
  },
  {
   "cell_type": "code",
   "execution_count": null,
   "metadata": {},
   "outputs": [],
   "source": []
  }
 ],
 "metadata": {
  "kernelspec": {
   "display_name": "prosthetics",
   "language": "python",
   "name": "prosthetics"
  },
  "language_info": {
   "codemirror_mode": {
    "name": "ipython",
    "version": 3
   },
   "file_extension": ".py",
   "mimetype": "text/x-python",
   "name": "python",
   "nbconvert_exporter": "python",
   "pygments_lexer": "ipython3",
   "version": "3.6.5"
  }
 },
 "nbformat": 4,
 "nbformat_minor": 2
}
